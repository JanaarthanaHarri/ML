{
 "cells": [
  {
   "cell_type": "markdown",
   "metadata": {
    "id": "XP3aHDHjglMZ"
   },
   "source": [
    "# Please read:"
   ]
  },
  {
   "cell_type": "markdown",
   "metadata": {
    "id": "62Q3o6XUglMf"
   },
   "source": [
    "We have already defined the dataset below. \n",
    "And also have defined X_train and y_train. Please build a model and test it with X_test.\n",
    "\n",
    "\n",
    "You should build a neural network model in Keras."
   ]
  },
  {
   "cell_type": "markdown",
   "metadata": {
    "id": "mcikv29cglMg"
   },
   "source": [
    "# Section A"
   ]
  },
  {
   "cell_type": "code",
   "execution_count": 1,
   "metadata": {
    "colab": {
     "base_uri": "https://localhost:8080/"
    },
    "id": "B1VQOW14glMg",
    "outputId": "a15f0d26-3532-482e-8cc4-cb0ba84cf214"
   },
   "outputs": [],
   "source": [
    "from keras.datasets import mnist\n",
    "import numpy\n",
    "from keras.datasets import mnist\n",
    "from keras.models import Sequential\n",
    "from keras.layers import Dense\n",
    "from keras.layers import Dropout\n",
    "from keras.utils import np_utils\n",
    "(X_train, y_train), (X_test, y_test) = mnist.load_data()"
   ]
  },
  {
   "cell_type": "code",
   "execution_count": 2,
   "metadata": {
    "id": "B2S2aVQ2glMh",
    "outputId": "d97f2c3a-c48d-4781-848f-ca99433778f4",
    "scrolled": true
   },
   "outputs": [
    {
     "data": {
      "image/png": "[encoded data removed]",
      "text/plain": [
       "<Figure size 432x288 with 4 Axes>"
      ]
     },
     "metadata": {
      "needs_background": "light"
     },
     "output_type": "display_data"
    }
   ],
   "source": [
    "import matplotlib.pyplot as plt\n",
    "%matplotlib inline\n",
    "plt.subplot(221)\n",
    "plt.imshow(X_train[0], cmap=plt.get_cmap('gray'))\n",
    "plt.grid('off')\n",
    "plt.subplot(222)\n",
    "plt.imshow(X_train[1], cmap=plt.get_cmap('gray'))\n",
    "plt.grid('off')\n",
    "plt.subplot(223)\n",
    "plt.imshow(X_train[2], cmap=plt.get_cmap('gray'))\n",
    "plt.grid('off')\n",
    "plt.subplot(224)\n",
    "plt.imshow(X_train[3], cmap=plt.get_cmap('gray'))\n",
    "plt.grid('off')\n",
    "plt.show()"
   ]
  },
  {
   "cell_type": "code",
   "execution_count": 3,
   "metadata": {
    "id": "g1eLiDpiglMi"
   },
   "outputs": [],
   "source": [
    "# In the preceding code, we are importing the relevant Keras files and are also importing the MNIST dataset \n",
    "#(which is provided as a built-in dataset in Keras). \n",
    "\n",
    "# The MNIST dataset contains images of digits where the images are of 28 x 28 in shape. \n",
    "# You can see in the plots what they will look like."
   ]
  },
  {
   "cell_type": "markdown",
   "metadata": {
    "id": "lPKf_d2rglMj"
   },
   "source": [
    "# Section B - HW Neural Network starts here"
   ]
  },
  {
   "cell_type": "code",
   "execution_count": 4,
   "metadata": {
    "id": "t1MCeiNvglMj"
   },
   "outputs": [],
   "source": [
    "# 1. Import the relevant packages and datasets"
   ]
  },
  {
   "cell_type": "code",
   "execution_count": 5,
   "metadata": {
    "id": "IYNl70FgglMj"
   },
   "outputs": [],
   "source": [
    "import numpy as np\n",
    "import matplotlib.pyplot as plt\n",
    "import keras\n",
    "from keras.models import Sequential\n",
    "from keras.datasets import mnist\n",
    "from keras.layers import Dense\n",
    "from keras.optimizers import Adam\n",
    "from keras.utils.np_utils import to_categorical \n",
    "import random"
   ]
  },
  {
   "cell_type": "code",
   "execution_count": 6,
   "metadata": {},
   "outputs": [],
   "source": [
    "#import 6000 images from mnist data set\n",
    "(X_train, y_train), (X_test, y_test) = mnist.load_data()"
   ]
  },
  {
   "cell_type": "code",
   "execution_count": 7,
   "metadata": {},
   "outputs": [
    {
     "name": "stdout",
     "output_type": "stream",
     "text": [
      "(60000, 28, 28)\n",
      "(10000, 28, 28)\n",
      "60000\n"
     ]
    }
   ],
   "source": [
    "print(X_train.shape)\n",
    "print(X_test.shape)\n",
    "print(y_train.shape[0])"
   ]
  },
  {
   "cell_type": "code",
   "execution_count": 8,
   "metadata": {
    "id": "9Oxah-oJglMj"
   },
   "outputs": [],
   "source": [
    "#2. Preprocess the targets (convert them into one-hot encoded vectors) so that we can perform optimization on top of them:\n",
    "#We shall be minimizing categorical cross entropy loss\n",
    "\n",
    "#- 2points"
   ]
  },
  {
   "cell_type": "code",
   "execution_count": 9,
   "metadata": {
    "id": "4g3z9B98glMk"
   },
   "outputs": [],
   "source": [
    "# one hot encoding to convert the multiclass results to vectors\n",
    "y_train = to_categorical(y_train, 10)\n",
    "y_test = to_categorical(y_test, 10)"
   ]
  },
  {
   "cell_type": "code",
   "execution_count": 10,
   "metadata": {
    "scrolled": true
   },
   "outputs": [],
   "source": [
    "# Each image has Intensity from 0 to 255\n",
    "X_train = X_train/255 \n",
    "X_test = X_test/255"
   ]
  },
  {
   "cell_type": "code",
   "execution_count": 11,
   "metadata": {},
   "outputs": [
    {
     "name": "stdout",
     "output_type": "stream",
     "text": [
      "(60000, 784)\n"
     ]
    }
   ],
   "source": [
    "# change the shape of the images to 1d array(28*28)\n",
    "# for multipication 1*784\n",
    "num_pixels = 784\n",
    "X_train = X_train.reshape(X_train.shape[0],num_pixels)\n",
    "X_test = X_test.reshape(X_test.shape[0],num_pixels)\n",
    "print(X_train.shape)"
   ]
  },
  {
   "cell_type": "code",
   "execution_count": 12,
   "metadata": {
    "id": "8g4jBJECglMk"
   },
   "outputs": [],
   "source": [
    "#3. Initialize a model - 1 point"
   ]
  },
  {
   "cell_type": "code",
   "execution_count": 13,
   "metadata": {},
   "outputs": [],
   "source": [
    "num_of_classes = 10\n",
    "model = Sequential()\n",
    "model.add(Dense(10, input_dim = num_pixels, activation = 'relu'))\n",
    "model.add(Dense(30, activation='relu'))\n",
    "model.add(Dense(10, activation='relu'))\n",
    "model.add(Dense(num_of_classes, activation='sigmoid')) "
   ]
  },
  {
   "cell_type": "markdown",
   "metadata": {
    "id": "_tFRFQXaglMk"
   },
   "source": [
    "# Define the model architecture:\n",
    "Specify the number of units in a hidden layer\n",
    "Specify the activation function that is to be performed in a hidden layer\n",
    "Specify the number of hidden layers\n",
    "Specify the loss function that we want to minimize\n",
    "Provide the optimizer that will minimize the loss function"
   ]
  },
  {
   "cell_type": "code",
   "execution_count": 14,
   "metadata": {
    "id": "sdLD4oUbglMl"
   },
   "outputs": [],
   "source": [
    "#5. Fit the model "
   ]
  },
  {
   "cell_type": "code",
   "execution_count": 15,
   "metadata": {
    "id": "Vv6gkjOgglMl",
    "scrolled": true
   },
   "outputs": [],
   "source": [
    "model.compile(Adam(lr=0.01),loss='categorical_crossentropy',metrics=['accuracy'])"
   ]
  },
  {
   "cell_type": "code",
   "execution_count": 16,
   "metadata": {},
   "outputs": [
    {
     "name": "stdout",
     "output_type": "stream",
     "text": [
      "Model: \"sequential\"\n",
      "_________________________________________________________________\n",
      "Layer (type)                 Output Shape              Param #   \n",
      "=================================================================\n",
      "dense (Dense)                (None, 10)                7850      \n",
      "_________________________________________________________________\n",
      "dense_1 (Dense)              (None, 30)                330       \n",
      "_________________________________________________________________\n",
      "dense_2 (Dense)              (None, 10)                310       \n",
      "_________________________________________________________________\n",
      "dense_3 (Dense)              (None, 10)                110       \n",
      "=================================================================\n",
      "Total params: 8,600\n",
      "Trainable params: 8,600\n",
      "Non-trainable params: 0\n",
      "_________________________________________________________________\n"
     ]
    }
   ],
   "source": [
    "model.summary()"
   ]
  },
  {
   "cell_type": "code",
   "execution_count": 17,
   "metadata": {},
   "outputs": [
    {
     "name": "stdout",
     "output_type": "stream",
     "text": [
      "Epoch 1/10\n",
      "270/270 [==============================] - 1s 5ms/step - loss: 0.5894 - accuracy: 0.7986 - val_loss: 0.2541 - val_accuracy: 0.9235\n",
      "Epoch 2/10\n",
      "270/270 [==============================] - 1s 4ms/step - loss: 0.2839 - accuracy: 0.9191 - val_loss: 0.2117 - val_accuracy: 0.9372\n",
      "Epoch 3/10\n",
      "270/270 [==============================] - 1s 5ms/step - loss: 0.2496 - accuracy: 0.9280 - val_loss: 0.1990 - val_accuracy: 0.9403\n",
      "Epoch 4/10\n",
      "270/270 [==============================] - 1s 5ms/step - loss: 0.2277 - accuracy: 0.9345 - val_loss: 0.1958 - val_accuracy: 0.9413\n",
      "Epoch 5/10\n",
      "270/270 [==============================] - 1s 5ms/step - loss: 0.2186 - accuracy: 0.9357 - val_loss: 0.1792 - val_accuracy: 0.9482\n",
      "Epoch 6/10\n",
      "270/270 [==============================] - 1s 5ms/step - loss: 0.2111 - accuracy: 0.9380 - val_loss: 0.1768 - val_accuracy: 0.9470\n",
      "Epoch 7/10\n",
      "270/270 [==============================] - 1s 5ms/step - loss: 0.1999 - accuracy: 0.9406 - val_loss: 0.1659 - val_accuracy: 0.9513\n",
      "Epoch 8/10\n",
      "270/270 [==============================] - 1s 5ms/step - loss: 0.1952 - accuracy: 0.9418 - val_loss: 0.1750 - val_accuracy: 0.9475\n",
      "Epoch 9/10\n",
      "270/270 [==============================] - 1s 4ms/step - loss: 0.1937 - accuracy: 0.9421 - val_loss: 0.1869 - val_accuracy: 0.9453\n",
      "Epoch 10/10\n",
      "270/270 [==============================] - 1s 4ms/step - loss: 0.1925 - accuracy: 0.9419 - val_loss: 0.1640 - val_accuracy: 0.9538\n"
     ]
    },
    {
     "data": {
      "text/plain": [
       "<tensorflow.python.keras.callbacks.History at 0x1ef10443f40>"
      ]
     },
     "execution_count": 17,
     "metadata": {},
     "output_type": "execute_result"
    }
   ],
   "source": [
    "model.fit(X_train, y_train, validation_split=0.1, epochs=10, batch_size=200, verbose=1, shuffle=1)"
   ]
  },
  {
   "cell_type": "code",
   "execution_count": 18,
   "metadata": {
    "id": "y7Z2yb6VglMl"
   },
   "outputs": [],
   "source": [
    "#6. Test the model"
   ]
  },
  {
   "cell_type": "code",
   "execution_count": 30,
   "metadata": {
    "scrolled": false
   },
   "outputs": [
    {
     "name": "stdout",
     "output_type": "stream",
     "text": [
      "Training Accuracy:95.00%\n",
      "\n",
      "Testing Accuracy:94.17%\n",
      "\n"
     ]
    }
   ],
   "source": [
    "train_score = model.evaluate(X_train, y_train, verbose=0)\n",
    "print(\"Training Accuracy:%.2f%%\\n\"%(score[1]*100))\n",
    "test_score=model.evaluate(X_test, y_test, verbose=False)\n",
    "print(\"Testing Accuracy:%.2f%%\\n\"%(test_score[1]*100))"
   ]
  },
  {
   "cell_type": "code",
   "execution_count": 31,
   "metadata": {},
   "outputs": [],
   "source": [
    "y_pred=model.predict(X_test)"
   ]
  },
  {
   "cell_type": "code",
   "execution_count": 32,
   "metadata": {},
   "outputs": [
    {
     "data": {
      "text/plain": [
       "array([[2.9193870e-10, 7.3936894e-07, 1.1526438e-04, ..., 4.4249550e-01,\n",
       "        1.9846853e-07, 1.1185441e-06],\n",
       "       [5.7592820e-07, 3.1284793e-07, 2.9255748e-03, ..., 2.2185583e-08,\n",
       "        1.5580833e-06, 7.2693862e-10],\n",
       "       [3.4969474e-07, 7.3611408e-01, 5.8321325e-06, ..., 1.9580126e-04,\n",
       "        7.5138487e-05, 2.2156385e-06],\n",
       "       ...,\n",
       "       [3.5047885e-06, 1.1283285e-07, 4.6213468e-06, ..., 2.1052361e-04,\n",
       "        1.1374981e-05, 3.2779276e-03],\n",
       "       [1.3414025e-04, 1.0417668e-08, 1.5863776e-04, ..., 7.9705114e-07,\n",
       "        6.8715215e-04, 2.9790458e-06],\n",
       "       [5.1619118e-09, 1.1910965e-13, 5.5525220e-08, ..., 2.1023051e-15,\n",
       "        8.5743430e-09, 2.8944203e-10]], dtype=float32)"
      ]
     },
     "execution_count": 32,
     "metadata": {},
     "output_type": "execute_result"
    }
   ],
   "source": [
    "y_pred"
   ]
  },
  {
   "cell_type": "code",
   "execution_count": 33,
   "metadata": {},
   "outputs": [
    {
     "data": {
      "text/plain": [
       "array([[0., 0., 0., ..., 1., 0., 0.],\n",
       "       [0., 0., 1., ..., 0., 0., 0.],\n",
       "       [0., 1., 0., ..., 0., 0., 0.],\n",
       "       ...,\n",
       "       [0., 0., 0., ..., 0., 0., 0.],\n",
       "       [0., 0., 0., ..., 0., 0., 0.],\n",
       "       [0., 0., 0., ..., 0., 0., 0.]], dtype=float32)"
      ]
     },
     "execution_count": 33,
     "metadata": {},
     "output_type": "execute_result"
    }
   ],
   "source": [
    "y_test"
   ]
  },
  {
   "cell_type": "code",
   "execution_count": 39,
   "metadata": {},
   "outputs": [],
   "source": [
    "y_test_pred=np.argmax(y_pred,axis=1)"
   ]
  },
  {
   "cell_type": "code",
   "execution_count": 40,
   "metadata": {},
   "outputs": [
    {
     "data": {
      "text/plain": [
       "array([7, 2, 1, ..., 4, 5, 6], dtype=int64)"
      ]
     },
     "execution_count": 40,
     "metadata": {},
     "output_type": "execute_result"
    }
   ],
   "source": [
    "y_test_pred"
   ]
  },
  {
   "cell_type": "code",
   "execution_count": 41,
   "metadata": {},
   "outputs": [],
   "source": [
    "y_ori=np.argmax(y_test,axis=1)"
   ]
  },
  {
   "cell_type": "code",
   "execution_count": 42,
   "metadata": {},
   "outputs": [
    {
     "data": {
      "text/plain": [
       "array([7, 2, 1, ..., 4, 5, 6], dtype=int64)"
      ]
     },
     "execution_count": 42,
     "metadata": {},
     "output_type": "execute_result"
    }
   ],
   "source": [
    "y_ori"
   ]
  },
  {
   "cell_type": "code",
   "execution_count": 44,
   "metadata": {},
   "outputs": [],
   "source": [
    "from sklearn.metrics import confusion_matrix\n",
    "c_matrix=confusion_matrix(y_ori, y_test_pred)"
   ]
  },
  {
   "cell_type": "code",
   "execution_count": 47,
   "metadata": {
    "scrolled": true
   },
   "outputs": [
    {
     "data": {
      "image/png": "[encoded data removed]",
      "text/plain": [
       "<Figure size 432x288 with 1 Axes>"
      ]
     },
     "metadata": {
      "needs_background": "light"
     },
     "output_type": "display_data"
    },
    {
     "data": {
      "text/plain": [
       "<Figure size 432x288 with 0 Axes>"
      ]
     },
     "metadata": {},
     "output_type": "display_data"
    }
   ],
   "source": [
    "import seaborn as sns\n",
    "ax=sns.heatmap(c_matrix, annot=True, xticklabels=['0','1','2','3','4','5','6','7','8','9'],yticklabels=['0','1','2','3','4','5','6','7','8','9'], cbar=False, cmap='Blues')\n",
    "ax.set_xlabel(\"Prediction\")\n",
    "ax.set_ylabel(\"Actual\")\n",
    "plt.show()\n",
    "plt.clf()"
   ]
  },
  {
   "cell_type": "markdown",
   "metadata": {},
   "source": [
    "Observation:\n",
    " - From the training and testing accuracy we can infer there is no overfitting or underfitting.\n",
    " - From confusion matrix we can say the model works great."
   ]
  },
  {
   "cell_type": "code",
   "execution_count": 48,
   "metadata": {
    "id": "80paH829glMl"
   },
   "outputs": [],
   "source": [
    "#7. Calculate the accuracy and loss values on top of the test dataset - 2 points"
   ]
  },
  {
   "cell_type": "code",
   "execution_count": 49,
   "metadata": {
    "id": "eRbowNQnglMm"
   },
   "outputs": [],
   "source": [
    "loss, accuracy  = model.evaluate(X_test, y_test, verbose=False)"
   ]
  },
  {
   "cell_type": "code",
   "execution_count": 50,
   "metadata": {
    "id": "54iKmybjglMm",
    "scrolled": true
   },
   "outputs": [
    {
     "name": "stdout",
     "output_type": "stream",
     "text": [
      "Test loss: 0.199\n",
      "Test accuracy: 0.942\n"
     ]
    }
   ],
   "source": [
    "print(f'Test loss: {loss:.3}')\n",
    "print(f'Test accuracy: {accuracy:.3}')"
   ]
  },
  {
   "cell_type": "markdown",
   "metadata": {},
   "source": [
    "Observation:\n",
    " - As we know loss is negative log-likelihood for classification models, the loss should be low and we have 0.199 which is good.\n",
    " - Testing accuracy is 94.2 percentage."
   ]
  }
 ],
 "metadata": {
  "colab": {
   "collapsed_sections": [],
   "name": "HW6.ipynb",
   "provenance": []
  },
  "kernelspec": {
   "display_name": "Python 3 (ipykernel)",
   "language": "python",
   "name": "python3"
  },
  "language_info": {
   "codemirror_mode": {
    "name": "ipython",
    "version": 3
   },
   "file_extension": ".py",
   "mimetype": "text/x-python",
   "name": "python",
   "nbconvert_exporter": "python",
   "pygments_lexer": "ipython3",
   "version": "3.8.12"
  }
 },
 "nbformat": 4,
 "nbformat_minor": 1
}
