{
 "cells": [
  {
   "cell_type": "code",
   "execution_count": 1,
   "id": "de1cc463",
   "metadata": {
    "id": "de1cc463"
   },
   "outputs": [],
   "source": [
    "import pandas as pd\n",
    "import numpy as np\n",
    "import matplotlib.pyplot as plt\n",
    "import seaborn as sns\n",
    "from sklearn.preprocessing import LabelEncoder\n",
    "from sklearn.model_selection import train_test_split, GridSearchCV, RandomizedSearchCV, cross_val_predict, cross_validate\n",
    "from sklearn.metrics import accuracy_score, r2_score, confusion_matrix, plot_confusion_matrix, plot_roc_curve\n",
    "from sklearn.metrics import classification_report\n",
    "from sklearn.svm import SVC, LinearSVC\n",
    "from sklearn.ensemble import RandomForestClassifier\n",
    "from sklearn.neighbors import KNeighborsClassifier\n",
    "from sklearn.tree import DecisionTreeClassifier\n",
    "from sklearn.linear_model import LinearRegression, RidgeClassifier, Ridge, Lasso\n",
    "import warnings\n",
    "warnings.filterwarnings('ignore')"
   ]
  },
  {
   "cell_type": "markdown",
   "id": "08fb412f",
   "metadata": {},
   "source": [
    "# TASK 1"
   ]
  },
  {
   "cell_type": "code",
   "execution_count": 2,
   "id": "39695bfa",
   "metadata": {
    "id": "39695bfa"
   },
   "outputs": [],
   "source": [
    "original_df = pd.read_csv(r\"C:\\Users\\janah\\Desktop\\ML - 257\\Assignments\\1LAB\\Lab1\\Datasets/cardio-train.csv\",sep = ';')"
   ]
  },
  {
   "cell_type": "code",
   "execution_count": 3,
   "id": "fb7abf52",
   "metadata": {},
   "outputs": [
    {
     "data": {
      "text/html": [
       "<div>\n",
       "<style scoped>\n",
       "    .dataframe tbody tr th:only-of-type {\n",
       "        vertical-align: middle;\n",
       "    }\n",
       "\n",
       "    .dataframe tbody tr th {\n",
       "        vertical-align: top;\n",
       "    }\n",
       "\n",
       "    .dataframe thead th {\n",
       "        text-align: right;\n",
       "    }\n",
       "</style>\n",
       "<table border=\"1\" class=\"dataframe\">\n",
       "  <thead>\n",
       "    <tr style=\"text-align: right;\">\n",
       "      <th></th>\n",
       "      <th>id</th>\n",
       "      <th>age</th>\n",
       "      <th>gender</th>\n",
       "      <th>height</th>\n",
       "      <th>weight</th>\n",
       "      <th>ap_hi</th>\n",
       "      <th>ap_lo</th>\n",
       "      <th>cholesterol</th>\n",
       "      <th>gluc</th>\n",
       "      <th>smoke</th>\n",
       "      <th>alco</th>\n",
       "      <th>active</th>\n",
       "      <th>cardio</th>\n",
       "    </tr>\n",
       "  </thead>\n",
       "  <tbody>\n",
       "    <tr>\n",
       "      <th>0</th>\n",
       "      <td>92150</td>\n",
       "      <td>20535.0</td>\n",
       "      <td>NaN</td>\n",
       "      <td>163.0</td>\n",
       "      <td>75.0</td>\n",
       "      <td>120.0</td>\n",
       "      <td>NaN</td>\n",
       "      <td>NaN</td>\n",
       "      <td>Normal</td>\n",
       "      <td>0.0</td>\n",
       "      <td>0.0</td>\n",
       "      <td>1.0</td>\n",
       "      <td>0</td>\n",
       "    </tr>\n",
       "    <tr>\n",
       "      <th>1</th>\n",
       "      <td>88880</td>\n",
       "      <td>16125.0</td>\n",
       "      <td>Men</td>\n",
       "      <td>168.0</td>\n",
       "      <td>68.0</td>\n",
       "      <td>110.0</td>\n",
       "      <td>70.0</td>\n",
       "      <td>NaN</td>\n",
       "      <td>NaN</td>\n",
       "      <td>0.0</td>\n",
       "      <td>0.0</td>\n",
       "      <td>NaN</td>\n",
       "      <td>0</td>\n",
       "    </tr>\n",
       "    <tr>\n",
       "      <th>2</th>\n",
       "      <td>10483</td>\n",
       "      <td>19761.0</td>\n",
       "      <td>NaN</td>\n",
       "      <td>170.0</td>\n",
       "      <td>75.0</td>\n",
       "      <td>120.0</td>\n",
       "      <td>NaN</td>\n",
       "      <td>NaN</td>\n",
       "      <td>Normal</td>\n",
       "      <td>0.0</td>\n",
       "      <td>0.0</td>\n",
       "      <td>1.0</td>\n",
       "      <td>1</td>\n",
       "    </tr>\n",
       "    <tr>\n",
       "      <th>3</th>\n",
       "      <td>22798</td>\n",
       "      <td>19035.0</td>\n",
       "      <td>Men</td>\n",
       "      <td>NaN</td>\n",
       "      <td>89.0</td>\n",
       "      <td>NaN</td>\n",
       "      <td>80.0</td>\n",
       "      <td>Normal</td>\n",
       "      <td>NaN</td>\n",
       "      <td>0.0</td>\n",
       "      <td>NaN</td>\n",
       "      <td>NaN</td>\n",
       "      <td>0</td>\n",
       "    </tr>\n",
       "    <tr>\n",
       "      <th>4</th>\n",
       "      <td>85542</td>\n",
       "      <td>NaN</td>\n",
       "      <td>NaN</td>\n",
       "      <td>158.0</td>\n",
       "      <td>74.0</td>\n",
       "      <td>NaN</td>\n",
       "      <td>93.0</td>\n",
       "      <td>High</td>\n",
       "      <td>NaN</td>\n",
       "      <td>0.0</td>\n",
       "      <td>1.0</td>\n",
       "      <td>1.0</td>\n",
       "      <td>1</td>\n",
       "    </tr>\n",
       "    <tr>\n",
       "      <th>...</th>\n",
       "      <td>...</td>\n",
       "      <td>...</td>\n",
       "      <td>...</td>\n",
       "      <td>...</td>\n",
       "      <td>...</td>\n",
       "      <td>...</td>\n",
       "      <td>...</td>\n",
       "      <td>...</td>\n",
       "      <td>...</td>\n",
       "      <td>...</td>\n",
       "      <td>...</td>\n",
       "      <td>...</td>\n",
       "      <td>...</td>\n",
       "    </tr>\n",
       "    <tr>\n",
       "      <th>495</th>\n",
       "      <td>74393</td>\n",
       "      <td>NaN</td>\n",
       "      <td>Women</td>\n",
       "      <td>174.0</td>\n",
       "      <td>73.0</td>\n",
       "      <td>130.0</td>\n",
       "      <td>NaN</td>\n",
       "      <td>NaN</td>\n",
       "      <td>Normal</td>\n",
       "      <td>0.0</td>\n",
       "      <td>0.0</td>\n",
       "      <td>1.0</td>\n",
       "      <td>1</td>\n",
       "    </tr>\n",
       "    <tr>\n",
       "      <th>496</th>\n",
       "      <td>38938</td>\n",
       "      <td>NaN</td>\n",
       "      <td>Men</td>\n",
       "      <td>NaN</td>\n",
       "      <td>89.0</td>\n",
       "      <td>130.0</td>\n",
       "      <td>NaN</td>\n",
       "      <td>High</td>\n",
       "      <td>Normal</td>\n",
       "      <td>0.0</td>\n",
       "      <td>0.0</td>\n",
       "      <td>NaN</td>\n",
       "      <td>1</td>\n",
       "    </tr>\n",
       "    <tr>\n",
       "      <th>497</th>\n",
       "      <td>9037</td>\n",
       "      <td>NaN</td>\n",
       "      <td>Women</td>\n",
       "      <td>180.0</td>\n",
       "      <td>84.0</td>\n",
       "      <td>NaN</td>\n",
       "      <td>NaN</td>\n",
       "      <td>Normal</td>\n",
       "      <td>Above Normal</td>\n",
       "      <td>1.0</td>\n",
       "      <td>0.0</td>\n",
       "      <td>1.0</td>\n",
       "      <td>0</td>\n",
       "    </tr>\n",
       "    <tr>\n",
       "      <th>498</th>\n",
       "      <td>27539</td>\n",
       "      <td>NaN</td>\n",
       "      <td>Women</td>\n",
       "      <td>NaN</td>\n",
       "      <td>NaN</td>\n",
       "      <td>110.0</td>\n",
       "      <td>70.0</td>\n",
       "      <td>NaN</td>\n",
       "      <td>NaN</td>\n",
       "      <td>NaN</td>\n",
       "      <td>0.0</td>\n",
       "      <td>1.0</td>\n",
       "      <td>0</td>\n",
       "    </tr>\n",
       "    <tr>\n",
       "      <th>499</th>\n",
       "      <td>13409</td>\n",
       "      <td>16698.0</td>\n",
       "      <td>Men</td>\n",
       "      <td>NaN</td>\n",
       "      <td>59.0</td>\n",
       "      <td>NaN</td>\n",
       "      <td>NaN</td>\n",
       "      <td>Normal</td>\n",
       "      <td>Normal</td>\n",
       "      <td>NaN</td>\n",
       "      <td>0.0</td>\n",
       "      <td>1.0</td>\n",
       "      <td>0</td>\n",
       "    </tr>\n",
       "  </tbody>\n",
       "</table>\n",
       "<p>500 rows × 13 columns</p>\n",
       "</div>"
      ],
      "text/plain": [
       "        id      age gender  height  weight  ap_hi  ap_lo cholesterol  \\\n",
       "0    92150  20535.0    NaN   163.0    75.0  120.0    NaN         NaN   \n",
       "1    88880  16125.0    Men   168.0    68.0  110.0   70.0         NaN   \n",
       "2    10483  19761.0    NaN   170.0    75.0  120.0    NaN         NaN   \n",
       "3    22798  19035.0    Men     NaN    89.0    NaN   80.0      Normal   \n",
       "4    85542      NaN    NaN   158.0    74.0    NaN   93.0        High   \n",
       "..     ...      ...    ...     ...     ...    ...    ...         ...   \n",
       "495  74393      NaN  Women   174.0    73.0  130.0    NaN         NaN   \n",
       "496  38938      NaN    Men     NaN    89.0  130.0    NaN        High   \n",
       "497   9037      NaN  Women   180.0    84.0    NaN    NaN      Normal   \n",
       "498  27539      NaN  Women     NaN     NaN  110.0   70.0         NaN   \n",
       "499  13409  16698.0    Men     NaN    59.0    NaN    NaN      Normal   \n",
       "\n",
       "             gluc  smoke  alco  active  cardio  \n",
       "0          Normal    0.0   0.0     1.0       0  \n",
       "1             NaN    0.0   0.0     NaN       0  \n",
       "2          Normal    0.0   0.0     1.0       1  \n",
       "3             NaN    0.0   NaN     NaN       0  \n",
       "4             NaN    0.0   1.0     1.0       1  \n",
       "..            ...    ...   ...     ...     ...  \n",
       "495        Normal    0.0   0.0     1.0       1  \n",
       "496        Normal    0.0   0.0     NaN       1  \n",
       "497  Above Normal    1.0   0.0     1.0       0  \n",
       "498           NaN    NaN   0.0     1.0       0  \n",
       "499        Normal    NaN   0.0     1.0       0  \n",
       "\n",
       "[500 rows x 13 columns]"
      ]
     },
     "execution_count": 3,
     "metadata": {},
     "output_type": "execute_result"
    }
   ],
   "source": [
    "original_df"
   ]
  },
  {
   "cell_type": "markdown",
   "id": "dd7a5d94",
   "metadata": {},
   "source": [
    "#### 1. Identify the dataset columns into nominal, categorical, continues etc. categories:"
   ]
  },
  {
   "cell_type": "markdown",
   "id": "b11cbee2",
   "metadata": {
    "id": "b11cbee2"
   },
   "source": [
    " - ID : Numerical\n",
    " - age : Numerical\n",
    " - gender : catagorical \n",
    " - height : Numerical\n",
    " - weight : Numerical\n",
    " - ap_hi : Numerical\n",
    " - ap_lo : Numerical\n",
    " - cholestrol : catagorical\n",
    " - glucose : catgorical\n",
    " - smoke : nominal(binary)\n",
    " - active : nominal(binary)\n",
    " - cardio : nominal(binary)"
   ]
  },
  {
   "cell_type": "markdown",
   "id": "4ca920ba",
   "metadata": {},
   "source": [
    "#### 2. Use dataframe.info and dataframe.describe to get the insights about the data."
   ]
  },
  {
   "cell_type": "code",
   "execution_count": 4,
   "id": "9ed8863c",
   "metadata": {
    "colab": {
     "base_uri": "https://localhost:8080/"
    },
    "id": "9ed8863c",
    "outputId": "6fb8baee-c04a-4140-ff09-3e32b3ac2502"
   },
   "outputs": [
    {
     "name": "stdout",
     "output_type": "stream",
     "text": [
      "<class 'pandas.core.frame.DataFrame'>\n",
      "RangeIndex: 500 entries, 0 to 499\n",
      "Data columns (total 13 columns):\n",
      " #   Column       Non-Null Count  Dtype  \n",
      "---  ------       --------------  -----  \n",
      " 0   id           500 non-null    int64  \n",
      " 1   age          335 non-null    float64\n",
      " 2   gender       329 non-null    object \n",
      " 3   height       198 non-null    float64\n",
      " 4   weight       336 non-null    float64\n",
      " 5   ap_hi        347 non-null    float64\n",
      " 6   ap_lo        332 non-null    float64\n",
      " 7   cholesterol  333 non-null    object \n",
      " 8   gluc         333 non-null    object \n",
      " 9   smoke        326 non-null    float64\n",
      " 10  alco         335 non-null    float64\n",
      " 11  active       343 non-null    float64\n",
      " 12  cardio       500 non-null    int64  \n",
      "dtypes: float64(8), int64(2), object(3)\n",
      "memory usage: 50.9+ KB\n"
     ]
    }
   ],
   "source": [
    "original_df.info()"
   ]
  },
  {
   "cell_type": "code",
   "execution_count": 5,
   "id": "78b01f1b",
   "metadata": {
    "colab": {
     "base_uri": "https://localhost:8080/",
     "height": 363
    },
    "id": "78b01f1b",
    "outputId": "a3f4329c-3e01-4912-ba67-f689a2468203",
    "scrolled": true
   },
   "outputs": [
    {
     "data": {
      "text/html": [
       "<div>\n",
       "<style scoped>\n",
       "    .dataframe tbody tr th:only-of-type {\n",
       "        vertical-align: middle;\n",
       "    }\n",
       "\n",
       "    .dataframe tbody tr th {\n",
       "        vertical-align: top;\n",
       "    }\n",
       "\n",
       "    .dataframe thead th {\n",
       "        text-align: right;\n",
       "    }\n",
       "</style>\n",
       "<table border=\"1\" class=\"dataframe\">\n",
       "  <thead>\n",
       "    <tr style=\"text-align: right;\">\n",
       "      <th></th>\n",
       "      <th>count</th>\n",
       "      <th>mean</th>\n",
       "      <th>std</th>\n",
       "      <th>min</th>\n",
       "      <th>25%</th>\n",
       "      <th>50%</th>\n",
       "      <th>75%</th>\n",
       "      <th>max</th>\n",
       "    </tr>\n",
       "  </thead>\n",
       "  <tbody>\n",
       "    <tr>\n",
       "      <th>id</th>\n",
       "      <td>500.0</td>\n",
       "      <td>50279.916000</td>\n",
       "      <td>29913.623631</td>\n",
       "      <td>38.0</td>\n",
       "      <td>23446.50</td>\n",
       "      <td>51913.5</td>\n",
       "      <td>78656.0</td>\n",
       "      <td>99662.0</td>\n",
       "    </tr>\n",
       "    <tr>\n",
       "      <th>age</th>\n",
       "      <td>335.0</td>\n",
       "      <td>19490.886567</td>\n",
       "      <td>2466.702487</td>\n",
       "      <td>14334.0</td>\n",
       "      <td>17988.50</td>\n",
       "      <td>19719.0</td>\n",
       "      <td>21597.5</td>\n",
       "      <td>23479.0</td>\n",
       "    </tr>\n",
       "    <tr>\n",
       "      <th>height</th>\n",
       "      <td>198.0</td>\n",
       "      <td>163.934343</td>\n",
       "      <td>8.258559</td>\n",
       "      <td>120.0</td>\n",
       "      <td>159.25</td>\n",
       "      <td>165.0</td>\n",
       "      <td>168.0</td>\n",
       "      <td>187.0</td>\n",
       "    </tr>\n",
       "    <tr>\n",
       "      <th>weight</th>\n",
       "      <td>336.0</td>\n",
       "      <td>74.347321</td>\n",
       "      <td>14.335964</td>\n",
       "      <td>45.0</td>\n",
       "      <td>65.00</td>\n",
       "      <td>72.0</td>\n",
       "      <td>82.0</td>\n",
       "      <td>155.0</td>\n",
       "    </tr>\n",
       "    <tr>\n",
       "      <th>ap_hi</th>\n",
       "      <td>347.0</td>\n",
       "      <td>128.685879</td>\n",
       "      <td>18.490176</td>\n",
       "      <td>12.0</td>\n",
       "      <td>120.00</td>\n",
       "      <td>120.0</td>\n",
       "      <td>140.0</td>\n",
       "      <td>190.0</td>\n",
       "    </tr>\n",
       "    <tr>\n",
       "      <th>ap_lo</th>\n",
       "      <td>332.0</td>\n",
       "      <td>90.060241</td>\n",
       "      <td>87.396945</td>\n",
       "      <td>60.0</td>\n",
       "      <td>80.00</td>\n",
       "      <td>80.0</td>\n",
       "      <td>90.0</td>\n",
       "      <td>1000.0</td>\n",
       "    </tr>\n",
       "    <tr>\n",
       "      <th>smoke</th>\n",
       "      <td>326.0</td>\n",
       "      <td>0.092025</td>\n",
       "      <td>0.289505</td>\n",
       "      <td>0.0</td>\n",
       "      <td>0.00</td>\n",
       "      <td>0.0</td>\n",
       "      <td>0.0</td>\n",
       "      <td>1.0</td>\n",
       "    </tr>\n",
       "    <tr>\n",
       "      <th>alco</th>\n",
       "      <td>335.0</td>\n",
       "      <td>0.065672</td>\n",
       "      <td>0.248078</td>\n",
       "      <td>0.0</td>\n",
       "      <td>0.00</td>\n",
       "      <td>0.0</td>\n",
       "      <td>0.0</td>\n",
       "      <td>1.0</td>\n",
       "    </tr>\n",
       "    <tr>\n",
       "      <th>active</th>\n",
       "      <td>343.0</td>\n",
       "      <td>0.813411</td>\n",
       "      <td>0.390150</td>\n",
       "      <td>0.0</td>\n",
       "      <td>1.00</td>\n",
       "      <td>1.0</td>\n",
       "      <td>1.0</td>\n",
       "      <td>1.0</td>\n",
       "    </tr>\n",
       "    <tr>\n",
       "      <th>cardio</th>\n",
       "      <td>500.0</td>\n",
       "      <td>0.502000</td>\n",
       "      <td>0.500497</td>\n",
       "      <td>0.0</td>\n",
       "      <td>0.00</td>\n",
       "      <td>1.0</td>\n",
       "      <td>1.0</td>\n",
       "      <td>1.0</td>\n",
       "    </tr>\n",
       "  </tbody>\n",
       "</table>\n",
       "</div>"
      ],
      "text/plain": [
       "        count          mean           std      min       25%      50%  \\\n",
       "id      500.0  50279.916000  29913.623631     38.0  23446.50  51913.5   \n",
       "age     335.0  19490.886567   2466.702487  14334.0  17988.50  19719.0   \n",
       "height  198.0    163.934343      8.258559    120.0    159.25    165.0   \n",
       "weight  336.0     74.347321     14.335964     45.0     65.00     72.0   \n",
       "ap_hi   347.0    128.685879     18.490176     12.0    120.00    120.0   \n",
       "ap_lo   332.0     90.060241     87.396945     60.0     80.00     80.0   \n",
       "smoke   326.0      0.092025      0.289505      0.0      0.00      0.0   \n",
       "alco    335.0      0.065672      0.248078      0.0      0.00      0.0   \n",
       "active  343.0      0.813411      0.390150      0.0      1.00      1.0   \n",
       "cardio  500.0      0.502000      0.500497      0.0      0.00      1.0   \n",
       "\n",
       "            75%      max  \n",
       "id      78656.0  99662.0  \n",
       "age     21597.5  23479.0  \n",
       "height    168.0    187.0  \n",
       "weight     82.0    155.0  \n",
       "ap_hi     140.0    190.0  \n",
       "ap_lo      90.0   1000.0  \n",
       "smoke       0.0      1.0  \n",
       "alco        0.0      1.0  \n",
       "active      1.0      1.0  \n",
       "cardio      1.0      1.0  "
      ]
     },
     "execution_count": 5,
     "metadata": {},
     "output_type": "execute_result"
    }
   ],
   "source": [
    "original_df.describe().transpose()"
   ]
  },
  {
   "cell_type": "markdown",
   "id": "5c80627d",
   "metadata": {},
   "source": [
    "#### 3. Find the number of null values for each columns"
   ]
  },
  {
   "cell_type": "code",
   "execution_count": 6,
   "id": "5526b080",
   "metadata": {
    "colab": {
     "base_uri": "https://localhost:8080/"
    },
    "id": "5526b080",
    "outputId": "9efc78dd-c258-423e-c430-c5acac3b0d3a",
    "scrolled": false
   },
   "outputs": [
    {
     "data": {
      "text/plain": [
       "id               0\n",
       "age            165\n",
       "gender         171\n",
       "height         302\n",
       "weight         164\n",
       "ap_hi          153\n",
       "ap_lo          168\n",
       "cholesterol    167\n",
       "gluc           167\n",
       "smoke          174\n",
       "alco           165\n",
       "active         157\n",
       "cardio           0\n",
       "dtype: int64"
      ]
     },
     "execution_count": 6,
     "metadata": {},
     "output_type": "execute_result"
    }
   ],
   "source": [
    "original_df.isnull().sum()"
   ]
  },
  {
   "cell_type": "markdown",
   "id": "1eb57391",
   "metadata": {},
   "source": [
    "#### 4. Know about the patients (Example of analysis for ages)"
   ]
  },
  {
   "cell_type": "markdown",
   "id": "7b95e015",
   "metadata": {},
   "source": [
    "##### a. Oldest person"
   ]
  },
  {
   "cell_type": "code",
   "execution_count": 7,
   "id": "28514121",
   "metadata": {
    "colab": {
     "base_uri": "https://localhost:8080/",
     "height": 81
    },
    "id": "a43a2449",
    "outputId": "f401c1c7-14e5-437b-8215-5c495822e5ed"
   },
   "outputs": [
    {
     "name": "stdout",
     "output_type": "stream",
     "text": [
      "23479.0\n"
     ]
    },
    {
     "data": {
      "text/html": [
       "<div>\n",
       "<style scoped>\n",
       "    .dataframe tbody tr th:only-of-type {\n",
       "        vertical-align: middle;\n",
       "    }\n",
       "\n",
       "    .dataframe tbody tr th {\n",
       "        vertical-align: top;\n",
       "    }\n",
       "\n",
       "    .dataframe thead th {\n",
       "        text-align: right;\n",
       "    }\n",
       "</style>\n",
       "<table border=\"1\" class=\"dataframe\">\n",
       "  <thead>\n",
       "    <tr style=\"text-align: right;\">\n",
       "      <th></th>\n",
       "      <th>id</th>\n",
       "      <th>age</th>\n",
       "      <th>gender</th>\n",
       "      <th>height</th>\n",
       "      <th>weight</th>\n",
       "      <th>ap_hi</th>\n",
       "      <th>ap_lo</th>\n",
       "      <th>cholesterol</th>\n",
       "      <th>gluc</th>\n",
       "      <th>smoke</th>\n",
       "      <th>alco</th>\n",
       "      <th>active</th>\n",
       "      <th>cardio</th>\n",
       "    </tr>\n",
       "  </thead>\n",
       "  <tbody>\n",
       "    <tr>\n",
       "      <th>485</th>\n",
       "      <td>75606</td>\n",
       "      <td>23479.0</td>\n",
       "      <td>NaN</td>\n",
       "      <td>NaN</td>\n",
       "      <td>NaN</td>\n",
       "      <td>120.0</td>\n",
       "      <td>80.0</td>\n",
       "      <td>Normal</td>\n",
       "      <td>NaN</td>\n",
       "      <td>0.0</td>\n",
       "      <td>NaN</td>\n",
       "      <td>1.0</td>\n",
       "      <td>1</td>\n",
       "    </tr>\n",
       "  </tbody>\n",
       "</table>\n",
       "</div>"
      ],
      "text/plain": [
       "        id      age gender  height  weight  ap_hi  ap_lo cholesterol gluc  \\\n",
       "485  75606  23479.0    NaN     NaN     NaN  120.0   80.0      Normal  NaN   \n",
       "\n",
       "     smoke  alco  active  cardio  \n",
       "485    0.0   NaN     1.0       1  "
      ]
     },
     "execution_count": 7,
     "metadata": {},
     "output_type": "execute_result"
    }
   ],
   "source": [
    "print(original_df['age'].max())\n",
    "original_df[original_df['age'] == 23479.0] "
   ]
  },
  {
   "cell_type": "markdown",
   "id": "01f43488",
   "metadata": {},
   "source": [
    "##### b. Youngest person"
   ]
  },
  {
   "cell_type": "code",
   "execution_count": 8,
   "id": "e9ca6a30",
   "metadata": {
    "colab": {
     "base_uri": "https://localhost:8080/",
     "height": 81
    },
    "id": "e9ca6a30",
    "outputId": "04cd8fbd-7515-4aec-bde9-9093402d42f0"
   },
   "outputs": [
    {
     "name": "stdout",
     "output_type": "stream",
     "text": [
      "14334.0\n"
     ]
    },
    {
     "data": {
      "text/html": [
       "<div>\n",
       "<style scoped>\n",
       "    .dataframe tbody tr th:only-of-type {\n",
       "        vertical-align: middle;\n",
       "    }\n",
       "\n",
       "    .dataframe tbody tr th {\n",
       "        vertical-align: top;\n",
       "    }\n",
       "\n",
       "    .dataframe thead th {\n",
       "        text-align: right;\n",
       "    }\n",
       "</style>\n",
       "<table border=\"1\" class=\"dataframe\">\n",
       "  <thead>\n",
       "    <tr style=\"text-align: right;\">\n",
       "      <th></th>\n",
       "      <th>id</th>\n",
       "      <th>age</th>\n",
       "      <th>gender</th>\n",
       "      <th>height</th>\n",
       "      <th>weight</th>\n",
       "      <th>ap_hi</th>\n",
       "      <th>ap_lo</th>\n",
       "      <th>cholesterol</th>\n",
       "      <th>gluc</th>\n",
       "      <th>smoke</th>\n",
       "      <th>alco</th>\n",
       "      <th>active</th>\n",
       "      <th>cardio</th>\n",
       "    </tr>\n",
       "  </thead>\n",
       "  <tbody>\n",
       "    <tr>\n",
       "      <th>147</th>\n",
       "      <td>44000</td>\n",
       "      <td>14334.0</td>\n",
       "      <td>NaN</td>\n",
       "      <td>163.0</td>\n",
       "      <td>NaN</td>\n",
       "      <td>130.0</td>\n",
       "      <td>NaN</td>\n",
       "      <td>Normal</td>\n",
       "      <td>NaN</td>\n",
       "      <td>0.0</td>\n",
       "      <td>0.0</td>\n",
       "      <td>NaN</td>\n",
       "      <td>0</td>\n",
       "    </tr>\n",
       "  </tbody>\n",
       "</table>\n",
       "</div>"
      ],
      "text/plain": [
       "        id      age gender  height  weight  ap_hi  ap_lo cholesterol gluc  \\\n",
       "147  44000  14334.0    NaN   163.0     NaN  130.0    NaN      Normal  NaN   \n",
       "\n",
       "     smoke  alco  active  cardio  \n",
       "147    0.0   0.0     NaN       0  "
      ]
     },
     "execution_count": 8,
     "metadata": {},
     "output_type": "execute_result"
    }
   ],
   "source": [
    "print(original_df['age'].min())\n",
    "original_df[original_df['age'] == 14334.0]"
   ]
  },
  {
   "cell_type": "markdown",
   "id": "f482d425",
   "metadata": {},
   "source": [
    "##### c. Average age group"
   ]
  },
  {
   "cell_type": "code",
   "execution_count": 9,
   "id": "0615dcf6",
   "metadata": {
    "colab": {
     "base_uri": "https://localhost:8080/"
    },
    "id": "0615dcf6",
    "outputId": "c6005577-3765-4aaa-8fc9-71de32d9c41c"
   },
   "outputs": [
    {
     "name": "stdout",
     "output_type": "stream",
     "text": [
      "19490.88656716418\n"
     ]
    }
   ],
   "source": [
    "print(original_df['age'].mean())"
   ]
  },
  {
   "cell_type": "markdown",
   "id": "2c42c60a",
   "metadata": {},
   "source": [
    "##### d. Median age"
   ]
  },
  {
   "cell_type": "code",
   "execution_count": 10,
   "id": "abc5c442",
   "metadata": {
    "colab": {
     "base_uri": "https://localhost:8080/"
    },
    "id": "abc5c442",
    "outputId": "30dd4262-c5ae-4853-9dc7-4a3726090c24"
   },
   "outputs": [
    {
     "name": "stdout",
     "output_type": "stream",
     "text": [
      "19719.0\n"
     ]
    }
   ],
   "source": [
    "print(original_df['age'].median())"
   ]
  },
  {
   "cell_type": "markdown",
   "id": "b7defa98",
   "metadata": {
    "colab": {
     "base_uri": "https://localhost:8080/",
     "height": 296
    },
    "id": "411a3c31",
    "outputId": "136059a9-27cc-4073-f1f7-575508ba293c",
    "scrolled": true
   },
   "source": [
    "##### e. Relationship between cardio and age"
   ]
  },
  {
   "cell_type": "code",
   "execution_count": 11,
   "id": "a1366659",
   "metadata": {},
   "outputs": [
    {
     "data": {
      "image/png": "[encoded data removed]",
      "text/plain": [
       "<Figure size 720x360 with 1 Axes>"
      ]
     },
     "metadata": {
      "needs_background": "light"
     },
     "output_type": "display_data"
    }
   ],
   "source": [
    "plt.figure(figsize=(10,5))\n",
    "\n",
    "sns.kdeplot(original_df.age[original_df.cardio == 1], color='darkturquoise', shade=True)\n",
    "sns.kdeplot(original_df.age[original_df.cardio == 0], color='lightcoral', shade=True)\n",
    "\n",
    "plt.legend(['Presence', 'Absence'])\n",
    "plt.title('age vs cardio')\n",
    "plt.xlim(10000,30000)\n",
    "#plt.show()\n",
    "plt.savefig('kde_agevscardio.jpeg')"
   ]
  },
  {
   "cell_type": "markdown",
   "id": "d540ead4",
   "metadata": {},
   "source": [
    "##### f. Find the age groups whose survival rate is the largest"
   ]
  },
  {
   "cell_type": "code",
   "execution_count": 12,
   "id": "9d4d60cf",
   "metadata": {
    "colab": {
     "base_uri": "https://localhost:8080/"
    },
    "id": "9d4d60cf",
    "outputId": "898b5a19-912a-4694-b18a-4ee22883b7c5",
    "scrolled": false
   },
   "outputs": [
    {
     "name": "stdout",
     "output_type": "stream",
     "text": [
      "cardio\n",
      "0    23407.0\n",
      "1    23479.0\n",
      "Name: age, dtype: float64\n",
      "\n",
      "Largest surival rate age group : 64\n"
     ]
    }
   ],
   "source": [
    "# gives mean of age groups with cardio presence and absence separately.\n",
    "print(original_df.groupby('cardio').max()['age']) \n",
    "\n",
    "# from the kdeplot and groupby we can conclude the avg age group without cardio(largest survival rate) is 51 yrs (18787 days)\n",
    "print(f\"\\nLargest surival rate age group : {round(23407/365)}\") "
   ]
  },
  {
   "cell_type": "code",
   "execution_count": 13,
   "id": "61a19b46",
   "metadata": {},
   "outputs": [],
   "source": [
    "age_to_yrs_df = original_df.copy()\n",
    "age_to_yrs_df['age'] = age_to_yrs_df['age'].fillna(0)\n",
    "age_to_yrs_df['age'] = age_to_yrs_df['age'].map(lambda x:round(x/365))"
   ]
  },
  {
   "cell_type": "code",
   "execution_count": 14,
   "id": "329e7029",
   "metadata": {},
   "outputs": [
    {
     "data": {
      "image/png": "[encoded data removed]",
      "text/plain": [
       "<Figure size 720x360 with 1 Axes>"
      ]
     },
     "metadata": {
      "needs_background": "light"
     },
     "output_type": "display_data"
    }
   ],
   "source": [
    "bins = [0, 20, 50, 75, 100]\n",
    "\n",
    "out = pd.cut(age_to_yrs_df.age, bins=bins,include_lowest=True)\n",
    "ax = out.value_counts(sort=False).plot.bar(rot=0, color=\"g\", figsize=(10,5))\n",
    "\n",
    "plt.xlabel('Age bins')\n",
    "plt.ylabel('Count')\n",
    "plt.show()"
   ]
  },
  {
   "cell_type": "markdown",
   "id": "e944a34e",
   "metadata": {
    "id": "4fd0210f"
   },
   "source": [
    "##### g. similar relationships for other columns"
   ]
  },
  {
   "cell_type": "code",
   "execution_count": 15,
   "id": "55b70b60",
   "metadata": {
    "scrolled": false
   },
   "outputs": [
    {
     "data": {
      "text/plain": [
       "active   -0.084628\n",
       "smoke    -0.042448\n",
       "alco     -0.037604\n",
       "id        0.070751\n",
       "ap_lo     0.123913\n",
       "height    0.129126\n",
       "weight    0.166135\n",
       "age       0.276179\n",
       "ap_hi     0.437948\n",
       "cardio    1.000000\n",
       "Name: cardio, dtype: float64"
      ]
     },
     "execution_count": 15,
     "metadata": {},
     "output_type": "execute_result"
    }
   ],
   "source": [
    "# to find features which affects the cardio the most\n",
    "original_df.corr()['cardio'].sort_values()"
   ]
  },
  {
   "cell_type": "code",
   "execution_count": 16,
   "id": "ae303ec9",
   "metadata": {},
   "outputs": [],
   "source": [
    "# ap_hi relationship with cardio"
   ]
  },
  {
   "cell_type": "code",
   "execution_count": 17,
   "id": "a42941a2",
   "metadata": {},
   "outputs": [
    {
     "data": {
      "image/png": "[encoded data removed]",
      "text/plain": [
       "<Figure size 720x360 with 1 Axes>"
      ]
     },
     "metadata": {
      "needs_background": "light"
     },
     "output_type": "display_data"
    }
   ],
   "source": [
    "plt.figure(figsize=(10,5))\n",
    "\n",
    "sns.kdeplot(original_df.ap_hi[original_df.cardio == 1], color='darkturquoise', shade=True)\n",
    "sns.kdeplot(original_df.ap_hi[original_df.cardio == 0], color='lightcoral', shade=True)\n",
    "\n",
    "plt.legend(['Presence', 'Absence'])\n",
    "plt.title('Systolic BP(ap_hi) vs cardio')\n",
    "plt.xlim(60,200)\n",
    "plt.show()"
   ]
  },
  {
   "cell_type": "code",
   "execution_count": 18,
   "id": "cb9def48",
   "metadata": {
    "scrolled": false
   },
   "outputs": [
    {
     "data": {
      "image/png": "[encoded data removed]",
      "text/plain": [
       "<Figure size 720x360 with 1 Axes>"
      ]
     },
     "metadata": {
      "needs_background": "light"
     },
     "output_type": "display_data"
    }
   ],
   "source": [
    "bins = [120, 129, 139, 179, 200]\n",
    "\n",
    "out = pd.cut(original_df.ap_hi, bins=bins,include_lowest=True)\n",
    "ax = out.value_counts(sort=False).plot.bar(rot=0, color=\"g\", figsize=(10,5))\n",
    "\n",
    "ax.set_xticklabels(['Normal','Elevated','High 1','High 2'])\n",
    "plt.xlabel('ap_hi bins')\n",
    "plt.ylabel('Count')\n",
    "plt.show()\n",
    "#plt.savefig('bar_aphi.jpeg')"
   ]
  },
  {
   "cell_type": "code",
   "execution_count": 19,
   "id": "f8b7bfa8",
   "metadata": {},
   "outputs": [],
   "source": [
    "# weight relationship with cardio"
   ]
  },
  {
   "cell_type": "code",
   "execution_count": 20,
   "id": "b932c845",
   "metadata": {
    "scrolled": true
   },
   "outputs": [
    {
     "data": {
      "image/png": "[encoded data removed]",
      "text/plain": [
       "<Figure size 720x360 with 1 Axes>"
      ]
     },
     "metadata": {
      "needs_background": "light"
     },
     "output_type": "display_data"
    }
   ],
   "source": [
    "plt.figure(figsize=(10,5))\n",
    "\n",
    "sns.kdeplot(original_df.weight[original_df.cardio == 1], color='darkturquoise', shade=True)\n",
    "sns.kdeplot(original_df.weight[original_df.cardio == 0], color='lightcoral', shade=True)\n",
    "\n",
    "plt.legend(['Presence', 'Absence'])\n",
    "plt.title('Weight vs cardio')\n",
    "plt.xlim(20,200)\n",
    "#plt.show()\n",
    "plt.savefig('kde_weightvscardio.jpeg')"
   ]
  },
  {
   "cell_type": "code",
   "execution_count": 21,
   "id": "954231bf",
   "metadata": {},
   "outputs": [
    {
     "data": {
      "image/png": "[encoded data removed]",
      "text/plain": [
       "<Figure size 720x360 with 1 Axes>"
      ]
     },
     "metadata": {
      "needs_background": "light"
     },
     "output_type": "display_data"
    }
   ],
   "source": [
    "bins = [25, 50, 75, 100, 125, 150]\n",
    "\n",
    "out = pd.cut(original_df.weight, bins=bins,include_lowest=True)\n",
    "ax = out.value_counts(sort=False).plot.bar(rot=0, color=\"g\", figsize=(10,5))\n",
    "\n",
    "plt.xlabel('weight bins')\n",
    "plt.ylabel('Count')\n",
    "#plt.show()\n",
    "plt.savefig('bar_weightvsacrdio.jpeg')"
   ]
  },
  {
   "cell_type": "code",
   "execution_count": 22,
   "id": "dbaed3f2",
   "metadata": {},
   "outputs": [],
   "source": [
    "# other features relationship with cardio"
   ]
  },
  {
   "cell_type": "code",
   "execution_count": 23,
   "id": "9466d59a",
   "metadata": {
    "scrolled": true
   },
   "outputs": [],
   "source": [
    "base_color = sns.color_palette()[0]\n",
    "def barplots(df):\n",
    "    fig, ax = plt.subplots(ncols=3, nrows=2, figsize=(15,10), sharey=True)\n",
    "    plt.tight_layout(pad=3)\n",
    "    ax[1][2].set_visible(False)\n",
    "\n",
    "    df_gluc = df.groupby('gluc').mean()\n",
    "    sns.barplot(data=df_gluc, x=df_gluc.index, y='cardio', ax=ax[0][0], color=base_color)\n",
    "    ax[0][0].set_xticklabels(['normal', 'above normal', 'high'])\n",
    "    ax[0][0].set_yticks(np.arange(0, 1.2, 0.1))\n",
    "    ax[0][0].set_yticklabels(np.arange(0, 120, 10))\n",
    "\n",
    "    df_cholesterol = df.groupby('cholesterol').mean()\n",
    "    sns.barplot(data=df_cholesterol, x=df_cholesterol.index, y='cardio', ax=ax[0][1], color=base_color)\n",
    "    ax[0][1].set_xticklabels(['normal', 'above normal', 'high'])\n",
    "\n",
    "    df_smoke = df.groupby('smoke').mean()\n",
    "    sns.barplot(data=df_smoke, x=df_smoke.index, y='cardio', ax=ax[0][2], color=base_color)\n",
    "\n",
    "    df_alco = df.groupby('alco').mean()\n",
    "    sns.barplot(data=df_alco, x=df_alco.index, y='cardio', ax=ax[1][0], color=base_color)\n",
    "\n",
    "    df_active = df.groupby('active').mean()\n",
    "    sns.barplot(data=df_active, x=df_active.index, y='cardio', ax=ax[1][1], color=base_color)"
   ]
  },
  {
   "cell_type": "code",
   "execution_count": 24,
   "id": "1b2195a6",
   "metadata": {},
   "outputs": [
    {
     "data": {
      "image/png": "[encoded data removed]",
      "text/plain": [
       "<Figure size 1080x720 with 6 Axes>"
      ]
     },
     "metadata": {
      "needs_background": "light"
     },
     "output_type": "display_data"
    }
   ],
   "source": [
    "barplots(original_df)"
   ]
  },
  {
   "cell_type": "markdown",
   "id": "7694b045",
   "metadata": {},
   "source": [
    "##### h. Get more visuals on data distributions"
   ]
  },
  {
   "cell_type": "code",
   "execution_count": 25,
   "id": "3c7b3190",
   "metadata": {
    "colab": {
     "base_uri": "https://localhost:8080/",
     "height": 383
    },
    "id": "3c7b3190",
    "outputId": "1929136c-bae2-4df7-9754-c1cff88000cf"
   },
   "outputs": [
    {
     "data": {
      "text/html": [
       "<div>\n",
       "<style scoped>\n",
       "    .dataframe tbody tr th:only-of-type {\n",
       "        vertical-align: middle;\n",
       "    }\n",
       "\n",
       "    .dataframe tbody tr th {\n",
       "        vertical-align: top;\n",
       "    }\n",
       "\n",
       "    .dataframe thead th {\n",
       "        text-align: right;\n",
       "    }\n",
       "</style>\n",
       "<table border=\"1\" class=\"dataframe\">\n",
       "  <thead>\n",
       "    <tr style=\"text-align: right;\">\n",
       "      <th></th>\n",
       "      <th>age</th>\n",
       "      <th>height</th>\n",
       "      <th>weight</th>\n",
       "      <th>ap_hi</th>\n",
       "      <th>ap_lo</th>\n",
       "      <th>smoke</th>\n",
       "      <th>alco</th>\n",
       "      <th>active</th>\n",
       "      <th>cardio</th>\n",
       "    </tr>\n",
       "  </thead>\n",
       "  <tbody>\n",
       "    <tr>\n",
       "      <th>age</th>\n",
       "      <td>1.000000</td>\n",
       "      <td>0.009076</td>\n",
       "      <td>0.121196</td>\n",
       "      <td>0.254253</td>\n",
       "      <td>0.110386</td>\n",
       "      <td>-0.035227</td>\n",
       "      <td>-0.124718</td>\n",
       "      <td>-0.015044</td>\n",
       "      <td>0.276179</td>\n",
       "    </tr>\n",
       "    <tr>\n",
       "      <th>height</th>\n",
       "      <td>0.009076</td>\n",
       "      <td>1.000000</td>\n",
       "      <td>0.335717</td>\n",
       "      <td>0.039363</td>\n",
       "      <td>-0.028233</td>\n",
       "      <td>0.138822</td>\n",
       "      <td>0.140835</td>\n",
       "      <td>0.087362</td>\n",
       "      <td>0.129126</td>\n",
       "    </tr>\n",
       "    <tr>\n",
       "      <th>weight</th>\n",
       "      <td>0.121196</td>\n",
       "      <td>0.335717</td>\n",
       "      <td>1.000000</td>\n",
       "      <td>0.218827</td>\n",
       "      <td>-0.070614</td>\n",
       "      <td>-0.030079</td>\n",
       "      <td>0.113785</td>\n",
       "      <td>-0.051088</td>\n",
       "      <td>0.166135</td>\n",
       "    </tr>\n",
       "    <tr>\n",
       "      <th>ap_hi</th>\n",
       "      <td>0.254253</td>\n",
       "      <td>0.039363</td>\n",
       "      <td>0.218827</td>\n",
       "      <td>1.000000</td>\n",
       "      <td>0.236806</td>\n",
       "      <td>0.013357</td>\n",
       "      <td>0.061120</td>\n",
       "      <td>-0.083521</td>\n",
       "      <td>0.437948</td>\n",
       "    </tr>\n",
       "    <tr>\n",
       "      <th>ap_lo</th>\n",
       "      <td>0.110386</td>\n",
       "      <td>-0.028233</td>\n",
       "      <td>-0.070614</td>\n",
       "      <td>0.236806</td>\n",
       "      <td>1.000000</td>\n",
       "      <td>-0.013922</td>\n",
       "      <td>-0.013204</td>\n",
       "      <td>-0.026537</td>\n",
       "      <td>0.123913</td>\n",
       "    </tr>\n",
       "    <tr>\n",
       "      <th>smoke</th>\n",
       "      <td>-0.035227</td>\n",
       "      <td>0.138822</td>\n",
       "      <td>-0.030079</td>\n",
       "      <td>0.013357</td>\n",
       "      <td>-0.013922</td>\n",
       "      <td>1.000000</td>\n",
       "      <td>0.353565</td>\n",
       "      <td>0.001920</td>\n",
       "      <td>-0.042448</td>\n",
       "    </tr>\n",
       "    <tr>\n",
       "      <th>alco</th>\n",
       "      <td>-0.124718</td>\n",
       "      <td>0.140835</td>\n",
       "      <td>0.113785</td>\n",
       "      <td>0.061120</td>\n",
       "      <td>-0.013204</td>\n",
       "      <td>0.353565</td>\n",
       "      <td>1.000000</td>\n",
       "      <td>0.052007</td>\n",
       "      <td>-0.037604</td>\n",
       "    </tr>\n",
       "    <tr>\n",
       "      <th>active</th>\n",
       "      <td>-0.015044</td>\n",
       "      <td>0.087362</td>\n",
       "      <td>-0.051088</td>\n",
       "      <td>-0.083521</td>\n",
       "      <td>-0.026537</td>\n",
       "      <td>0.001920</td>\n",
       "      <td>0.052007</td>\n",
       "      <td>1.000000</td>\n",
       "      <td>-0.084628</td>\n",
       "    </tr>\n",
       "    <tr>\n",
       "      <th>cardio</th>\n",
       "      <td>0.276179</td>\n",
       "      <td>0.129126</td>\n",
       "      <td>0.166135</td>\n",
       "      <td>0.437948</td>\n",
       "      <td>0.123913</td>\n",
       "      <td>-0.042448</td>\n",
       "      <td>-0.037604</td>\n",
       "      <td>-0.084628</td>\n",
       "      <td>1.000000</td>\n",
       "    </tr>\n",
       "  </tbody>\n",
       "</table>\n",
       "</div>"
      ],
      "text/plain": [
       "             age    height    weight     ap_hi     ap_lo     smoke      alco  \\\n",
       "age     1.000000  0.009076  0.121196  0.254253  0.110386 -0.035227 -0.124718   \n",
       "height  0.009076  1.000000  0.335717  0.039363 -0.028233  0.138822  0.140835   \n",
       "weight  0.121196  0.335717  1.000000  0.218827 -0.070614 -0.030079  0.113785   \n",
       "ap_hi   0.254253  0.039363  0.218827  1.000000  0.236806  0.013357  0.061120   \n",
       "ap_lo   0.110386 -0.028233 -0.070614  0.236806  1.000000 -0.013922 -0.013204   \n",
       "smoke  -0.035227  0.138822 -0.030079  0.013357 -0.013922  1.000000  0.353565   \n",
       "alco   -0.124718  0.140835  0.113785  0.061120 -0.013204  0.353565  1.000000   \n",
       "active -0.015044  0.087362 -0.051088 -0.083521 -0.026537  0.001920  0.052007   \n",
       "cardio  0.276179  0.129126  0.166135  0.437948  0.123913 -0.042448 -0.037604   \n",
       "\n",
       "          active    cardio  \n",
       "age    -0.015044  0.276179  \n",
       "height  0.087362  0.129126  \n",
       "weight -0.051088  0.166135  \n",
       "ap_hi  -0.083521  0.437948  \n",
       "ap_lo  -0.026537  0.123913  \n",
       "smoke   0.001920 -0.042448  \n",
       "alco    0.052007 -0.037604  \n",
       "active  1.000000 -0.084628  \n",
       "cardio -0.084628  1.000000  "
      ]
     },
     "execution_count": 25,
     "metadata": {},
     "output_type": "execute_result"
    }
   ],
   "source": [
    "# i. Use plotCorrelationMatrix\n",
    "original_df.drop(columns = 'id').corr()"
   ]
  },
  {
   "cell_type": "code",
   "execution_count": 26,
   "id": "628ba1dd",
   "metadata": {
    "colab": {
     "base_uri": "https://localhost:8080/",
     "height": 450
    },
    "id": "628ba1dd",
    "outputId": "e13c7d71-9241-431b-84d9-f80a3ec33abf"
   },
   "outputs": [
    {
     "data": {
      "text/plain": [
       "<AxesSubplot:>"
      ]
     },
     "execution_count": 26,
     "metadata": {},
     "output_type": "execute_result"
    },
    {
     "data": {
      "image/png": "[encoded data removed]",
      "text/plain": [
       "<Figure size 864x504 with 2 Axes>"
      ]
     },
     "metadata": {
      "needs_background": "light"
     },
     "output_type": "display_data"
    }
   ],
   "source": [
    "plt.subplots(figsize=(12,7))\n",
    "sns.heatmap(original_df.drop(columns = 'id').corr(), annot = True)"
   ]
  },
  {
   "cell_type": "code",
   "execution_count": 27,
   "id": "1de6d15c",
   "metadata": {
    "colab": {
     "base_uri": "https://localhost:8080/",
     "height": 861
    },
    "id": "1de6d15c",
    "outputId": "72e5bbac-3fa2-4882-c5e0-05a5f26aa0a4"
   },
   "outputs": [
    {
     "data": {
      "text/plain": [
       "<seaborn.axisgrid.PairGrid at 0x1a5df23a160>"
      ]
     },
     "execution_count": 27,
     "metadata": {},
     "output_type": "execute_result"
    },
    {
     "data": {
      "image/png": "[encoded data removed]",
      "text/plain": [
       "<Figure size 1620x1620 with 90 Axes>"
      ]
     },
     "metadata": {
      "needs_background": "light"
     },
     "output_type": "display_data"
    }
   ],
   "source": [
    "# ii. plotScatterMatrix\n",
    "sns.pairplot(original_df.drop(columns = 'id')) # pairplot which is same as pandas.plotting.scatter_matrix()"
   ]
  },
  {
   "cell_type": "code",
   "execution_count": 28,
   "id": "b1a59383",
   "metadata": {
    "scrolled": true
   },
   "outputs": [
    {
     "data": {
      "image/png": "[encoded data removed]",
      "text/plain": [
       "<Figure size 360x360 with 1 Axes>"
      ]
     },
     "metadata": {
      "needs_background": "light"
     },
     "output_type": "display_data"
    },
    {
     "data": {
      "image/png": "[encoded data removed]",
      "text/plain": [
       "<Figure size 360x360 with 1 Axes>"
      ]
     },
     "metadata": {
      "needs_background": "light"
     },
     "output_type": "display_data"
    },
    {
     "data": {
      "image/png": "[encoded data removed]",
      "text/plain": [
       "<Figure size 360x360 with 1 Axes>"
      ]
     },
     "metadata": {
      "needs_background": "light"
     },
     "output_type": "display_data"
    },
    {
     "data": {
      "image/png": "[encoded data removed]",
      "text/plain": [
       "<Figure size 360x360 with 1 Axes>"
      ]
     },
     "metadata": {
      "needs_background": "light"
     },
     "output_type": "display_data"
    },
    {
     "data": {
      "image/png": "[encoded data removed]",
      "text/plain": [
       "<Figure size 360x360 with 1 Axes>"
      ]
     },
     "metadata": {
      "needs_background": "light"
     },
     "output_type": "display_data"
    },
    {
     "data": {
      "image/png": "[encoded data removed]",
      "text/plain": [
       "<Figure size 360x360 with 1 Axes>"
      ]
     },
     "metadata": {
      "needs_background": "light"
     },
     "output_type": "display_data"
    },
    {
     "data": {
      "image/png": "[encoded data removed]",
      "text/plain": [
       "<Figure size 360x360 with 1 Axes>"
      ]
     },
     "metadata": {
      "needs_background": "light"
     },
     "output_type": "display_data"
    },
    {
     "data": {
      "image/png": "[encoded data removed]",
      "text/plain": [
       "<Figure size 360x360 with 1 Axes>"
      ]
     },
     "metadata": {
      "needs_background": "light"
     },
     "output_type": "display_data"
    },
    {
     "data": {
      "image/png": "[encoded data removed]",
      "text/plain": [
       "<Figure size 360x360 with 1 Axes>"
      ]
     },
     "metadata": {
      "needs_background": "light"
     },
     "output_type": "display_data"
    },
    {
     "data": {
      "image/png": "[encoded data removed]",
      "text/plain": [
       "<Figure size 360x360 with 1 Axes>"
      ]
     },
     "metadata": {
      "needs_background": "light"
     },
     "output_type": "display_data"
    },
    {
     "data": {
      "image/png": "[encoded data removed]",
      "text/plain": [
       "<Figure size 360x360 with 1 Axes>"
      ]
     },
     "metadata": {
      "needs_background": "light"
     },
     "output_type": "display_data"
    },
    {
     "data": {
      "image/png": "[encoded data removed]",
      "text/plain": [
       "<Figure size 360x360 with 1 Axes>"
      ]
     },
     "metadata": {
      "needs_background": "light"
     },
     "output_type": "display_data"
    }
   ],
   "source": [
    "# iii. plotPerColumnDistribution\n",
    "columns = list(original_df.drop(columns = 'id').columns)\n",
    "for cols in columns:\n",
    "    sns.displot(data=original_df,x=cols)"
   ]
  },
  {
   "cell_type": "code",
   "execution_count": 29,
   "id": "d0b49e46",
   "metadata": {
    "scrolled": false
   },
   "outputs": [],
   "source": [
    "# boxplots\n",
    "def box_fig(df):\n",
    "    fig, ax = plt.subplots(ncols=2, figsize=(20,10))\n",
    "    plt.tight_layout(pad=18)\n",
    "    sns.boxplot(data=df, x='cardio', y='age', ax=ax[0], color=base_color)\n",
    "    sns.boxplot(data=df, x='cardio', y='weight', showfliers=False, ax=ax[1], color=base_color)\n",
    "    ax[0].title.set_text('Age')\n",
    "    ax[0].set_xticklabels(['No-cardio', 'Cardio'])\n",
    "    ax[1].title.set_text('weight')\n",
    "    ax[1].set_xticklabels(['No-cardio', 'Cardio'])\n",
    "    ax[0].set_xlabel(\"\")\n",
    "    ax[1].set_xlabel(\"\")\n",
    "    #plt.savefig('box_fig.jpeg')"
   ]
  },
  {
   "cell_type": "code",
   "execution_count": 30,
   "id": "e8e3fc5c",
   "metadata": {
    "scrolled": true
   },
   "outputs": [
    {
     "data": {
      "image/png": "[encoded data removed]",
      "text/plain": [
       "<Figure size 1440x720 with 2 Axes>"
      ]
     },
     "metadata": {
      "needs_background": "light"
     },
     "output_type": "display_data"
    }
   ],
   "source": [
    "box_fig(original_df)"
   ]
  },
  {
   "cell_type": "markdown",
   "id": "5e771a58",
   "metadata": {},
   "source": [
    "##### i. Find missing values"
   ]
  },
  {
   "cell_type": "code",
   "execution_count": 31,
   "id": "61484585",
   "metadata": {
    "colab": {
     "base_uri": "https://localhost:8080/"
    },
    "id": "61484585",
    "outputId": "3d47590b-a15b-4bd2-c350-e366a3151a6a"
   },
   "outputs": [
    {
     "data": {
      "text/plain": [
       "id               0\n",
       "age            165\n",
       "gender         171\n",
       "height         302\n",
       "weight         164\n",
       "ap_hi          153\n",
       "ap_lo          168\n",
       "cholesterol    167\n",
       "gluc           167\n",
       "smoke          174\n",
       "alco           165\n",
       "active         157\n",
       "cardio           0\n",
       "dtype: int64"
      ]
     },
     "execution_count": 31,
     "metadata": {},
     "output_type": "execute_result"
    }
   ],
   "source": [
    "# i. Get the count of missing values\n",
    "original_df.isnull().sum()"
   ]
  },
  {
   "cell_type": "code",
   "execution_count": 32,
   "id": "bed1c616",
   "metadata": {
    "colab": {
     "base_uri": "https://localhost:8080/",
     "height": 404
    },
    "id": "bed1c616",
    "outputId": "9afe1914-175d-4636-be6d-b7c97470cb26",
    "scrolled": true
   },
   "outputs": [
    {
     "data": {
      "image/png": "[encoded data removed]",
      "text/plain": [
       "<Figure size 720x432 with 2 Axes>"
      ]
     },
     "metadata": {
      "needs_background": "light"
     },
     "output_type": "display_data"
    }
   ],
   "source": [
    "# ii. Plot a heat map for missing values\n",
    "plt.figure(figsize=(10,6))\n",
    "sns.heatmap(original_df.isna().transpose(), cmap=\"YlGnBu\", cbar_kws={'label': 'Missing Data'})\n",
    "plt.savefig('missing_hm.jpeg')"
   ]
  },
  {
   "cell_type": "code",
   "execution_count": 33,
   "id": "1df8f0c2",
   "metadata": {},
   "outputs": [],
   "source": [
    "def percent_missing(df):\n",
    "    percent_nan = 100* df.isnull().sum() / len(df)\n",
    "    percent_nan = percent_nan[percent_nan>0].sort_values()\n",
    "    return percent_nan"
   ]
  },
  {
   "cell_type": "code",
   "execution_count": 34,
   "id": "6cf6c0fa",
   "metadata": {},
   "outputs": [
    {
     "data": {
      "image/png": "[encoded data removed]",
      "text/plain": [
       "<Figure size 432x288 with 1 Axes>"
      ]
     },
     "metadata": {
      "needs_background": "light"
     },
     "output_type": "display_data"
    }
   ],
   "source": [
    "percent_nan = percent_missing(original_df)\n",
    "sns.barplot(x=percent_nan.index,y=percent_nan)\n",
    "plt.xticks(rotation=90);\n",
    "plt.savefig('missing_data.jpeg')"
   ]
  },
  {
   "cell_type": "markdown",
   "id": "700a3b01",
   "metadata": {},
   "source": [
    "##### j. Applying a different technique to handle missing values (For each technique verify your prediction results)"
   ]
  },
  {
   "cell_type": "code",
   "execution_count": 35,
   "id": "da74c469",
   "metadata": {},
   "outputs": [],
   "source": [
    "train_df = pd.read_csv(r\"C:\\Users\\janah\\Desktop\\ML - 257\\Assignments\\1LAB\\Lab1\\Datasets/cardio-train.csv\",sep = ';')\n",
    "test_df = pd.read_csv(r\"C:\\Users\\janah\\Desktop\\ML - 257\\Assignments\\1LAB\\Lab1\\Datasets/cardio-test.csv\",sep = ',')\n",
    "val_df = pd.read_csv(r\"C:\\Users\\janah\\Desktop\\ML - 257\\Assignments\\1LAB\\Lab1\\Datasets/cardio-validation.csv\",sep = ',')"
   ]
  },
  {
   "cell_type": "code",
   "execution_count": 37,
   "id": "a85592e0",
   "metadata": {
    "scrolled": true
   },
   "outputs": [
    {
     "data": {
      "text/html": [
       "<div>\n",
       "<style scoped>\n",
       "    .dataframe tbody tr th:only-of-type {\n",
       "        vertical-align: middle;\n",
       "    }\n",
       "\n",
       "    .dataframe tbody tr th {\n",
       "        vertical-align: top;\n",
       "    }\n",
       "\n",
       "    .dataframe thead th {\n",
       "        text-align: right;\n",
       "    }\n",
       "</style>\n",
       "<table border=\"1\" class=\"dataframe\">\n",
       "  <thead>\n",
       "    <tr style=\"text-align: right;\">\n",
       "      <th></th>\n",
       "      <th>id</th>\n",
       "      <th>age</th>\n",
       "      <th>gender</th>\n",
       "      <th>height</th>\n",
       "      <th>weight</th>\n",
       "      <th>ap_hi</th>\n",
       "      <th>ap_lo</th>\n",
       "      <th>cholesterol</th>\n",
       "      <th>gluc</th>\n",
       "      <th>smoke</th>\n",
       "      <th>alco</th>\n",
       "      <th>active</th>\n",
       "      <th>cardio</th>\n",
       "    </tr>\n",
       "  </thead>\n",
       "  <tbody>\n",
       "    <tr>\n",
       "      <th>0</th>\n",
       "      <td>92150</td>\n",
       "      <td>20535.0</td>\n",
       "      <td>NaN</td>\n",
       "      <td>163.0</td>\n",
       "      <td>75.0</td>\n",
       "      <td>120.0</td>\n",
       "      <td>NaN</td>\n",
       "      <td>NaN</td>\n",
       "      <td>Normal</td>\n",
       "      <td>0.0</td>\n",
       "      <td>0.0</td>\n",
       "      <td>1.0</td>\n",
       "      <td>0</td>\n",
       "    </tr>\n",
       "    <tr>\n",
       "      <th>1</th>\n",
       "      <td>88880</td>\n",
       "      <td>16125.0</td>\n",
       "      <td>Men</td>\n",
       "      <td>168.0</td>\n",
       "      <td>68.0</td>\n",
       "      <td>110.0</td>\n",
       "      <td>70.0</td>\n",
       "      <td>NaN</td>\n",
       "      <td>NaN</td>\n",
       "      <td>0.0</td>\n",
       "      <td>0.0</td>\n",
       "      <td>NaN</td>\n",
       "      <td>0</td>\n",
       "    </tr>\n",
       "    <tr>\n",
       "      <th>2</th>\n",
       "      <td>10483</td>\n",
       "      <td>19761.0</td>\n",
       "      <td>NaN</td>\n",
       "      <td>170.0</td>\n",
       "      <td>75.0</td>\n",
       "      <td>120.0</td>\n",
       "      <td>NaN</td>\n",
       "      <td>NaN</td>\n",
       "      <td>Normal</td>\n",
       "      <td>0.0</td>\n",
       "      <td>0.0</td>\n",
       "      <td>1.0</td>\n",
       "      <td>1</td>\n",
       "    </tr>\n",
       "    <tr>\n",
       "      <th>3</th>\n",
       "      <td>22798</td>\n",
       "      <td>19035.0</td>\n",
       "      <td>Men</td>\n",
       "      <td>NaN</td>\n",
       "      <td>89.0</td>\n",
       "      <td>NaN</td>\n",
       "      <td>80.0</td>\n",
       "      <td>Normal</td>\n",
       "      <td>NaN</td>\n",
       "      <td>0.0</td>\n",
       "      <td>NaN</td>\n",
       "      <td>NaN</td>\n",
       "      <td>0</td>\n",
       "    </tr>\n",
       "    <tr>\n",
       "      <th>4</th>\n",
       "      <td>85542</td>\n",
       "      <td>NaN</td>\n",
       "      <td>NaN</td>\n",
       "      <td>158.0</td>\n",
       "      <td>74.0</td>\n",
       "      <td>NaN</td>\n",
       "      <td>93.0</td>\n",
       "      <td>High</td>\n",
       "      <td>NaN</td>\n",
       "      <td>0.0</td>\n",
       "      <td>1.0</td>\n",
       "      <td>1.0</td>\n",
       "      <td>1</td>\n",
       "    </tr>\n",
       "    <tr>\n",
       "      <th>...</th>\n",
       "      <td>...</td>\n",
       "      <td>...</td>\n",
       "      <td>...</td>\n",
       "      <td>...</td>\n",
       "      <td>...</td>\n",
       "      <td>...</td>\n",
       "      <td>...</td>\n",
       "      <td>...</td>\n",
       "      <td>...</td>\n",
       "      <td>...</td>\n",
       "      <td>...</td>\n",
       "      <td>...</td>\n",
       "      <td>...</td>\n",
       "    </tr>\n",
       "    <tr>\n",
       "      <th>995</th>\n",
       "      <td>68639</td>\n",
       "      <td>NaN</td>\n",
       "      <td>Men</td>\n",
       "      <td>164.0</td>\n",
       "      <td>72.0</td>\n",
       "      <td>140.0</td>\n",
       "      <td>80.0</td>\n",
       "      <td>Normal</td>\n",
       "      <td>Normal</td>\n",
       "      <td>0.0</td>\n",
       "      <td>NaN</td>\n",
       "      <td>NaN</td>\n",
       "      <td>1</td>\n",
       "    </tr>\n",
       "    <tr>\n",
       "      <th>996</th>\n",
       "      <td>35524</td>\n",
       "      <td>15851.0</td>\n",
       "      <td>Men</td>\n",
       "      <td>159.0</td>\n",
       "      <td>NaN</td>\n",
       "      <td>90.0</td>\n",
       "      <td>60.0</td>\n",
       "      <td>NaN</td>\n",
       "      <td>Normal</td>\n",
       "      <td>0.0</td>\n",
       "      <td>0.0</td>\n",
       "      <td>1.0</td>\n",
       "      <td>0</td>\n",
       "    </tr>\n",
       "    <tr>\n",
       "      <th>997</th>\n",
       "      <td>43938</td>\n",
       "      <td>21010.0</td>\n",
       "      <td>Men</td>\n",
       "      <td>168.0</td>\n",
       "      <td>NaN</td>\n",
       "      <td>NaN</td>\n",
       "      <td>90.0</td>\n",
       "      <td>Normal</td>\n",
       "      <td>Normal</td>\n",
       "      <td>0.0</td>\n",
       "      <td>NaN</td>\n",
       "      <td>1.0</td>\n",
       "      <td>1</td>\n",
       "    </tr>\n",
       "    <tr>\n",
       "      <th>998</th>\n",
       "      <td>1487</td>\n",
       "      <td>NaN</td>\n",
       "      <td>Women</td>\n",
       "      <td>170.0</td>\n",
       "      <td>87.0</td>\n",
       "      <td>120.0</td>\n",
       "      <td>NaN</td>\n",
       "      <td>Normal</td>\n",
       "      <td>NaN</td>\n",
       "      <td>0.0</td>\n",
       "      <td>0.0</td>\n",
       "      <td>NaN</td>\n",
       "      <td>0</td>\n",
       "    </tr>\n",
       "    <tr>\n",
       "      <th>999</th>\n",
       "      <td>98728</td>\n",
       "      <td>NaN</td>\n",
       "      <td>Women</td>\n",
       "      <td>138.0</td>\n",
       "      <td>60.0</td>\n",
       "      <td>110.0</td>\n",
       "      <td>80.0</td>\n",
       "      <td>NaN</td>\n",
       "      <td>Normal</td>\n",
       "      <td>0.0</td>\n",
       "      <td>0.0</td>\n",
       "      <td>0.0</td>\n",
       "      <td>0</td>\n",
       "    </tr>\n",
       "  </tbody>\n",
       "</table>\n",
       "<p>1000 rows × 13 columns</p>\n",
       "</div>"
      ],
      "text/plain": [
       "        id      age gender  height  weight  ap_hi  ap_lo cholesterol    gluc  \\\n",
       "0    92150  20535.0    NaN   163.0    75.0  120.0    NaN         NaN  Normal   \n",
       "1    88880  16125.0    Men   168.0    68.0  110.0   70.0         NaN     NaN   \n",
       "2    10483  19761.0    NaN   170.0    75.0  120.0    NaN         NaN  Normal   \n",
       "3    22798  19035.0    Men     NaN    89.0    NaN   80.0      Normal     NaN   \n",
       "4    85542      NaN    NaN   158.0    74.0    NaN   93.0        High     NaN   \n",
       "..     ...      ...    ...     ...     ...    ...    ...         ...     ...   \n",
       "995  68639      NaN    Men   164.0    72.0  140.0   80.0      Normal  Normal   \n",
       "996  35524  15851.0    Men   159.0     NaN   90.0   60.0         NaN  Normal   \n",
       "997  43938  21010.0    Men   168.0     NaN    NaN   90.0      Normal  Normal   \n",
       "998   1487      NaN  Women   170.0    87.0  120.0    NaN      Normal     NaN   \n",
       "999  98728      NaN  Women   138.0    60.0  110.0   80.0         NaN  Normal   \n",
       "\n",
       "     smoke  alco  active  cardio  \n",
       "0      0.0   0.0     1.0       0  \n",
       "1      0.0   0.0     NaN       0  \n",
       "2      0.0   0.0     1.0       1  \n",
       "3      0.0   NaN     NaN       0  \n",
       "4      0.0   1.0     1.0       1  \n",
       "..     ...   ...     ...     ...  \n",
       "995    0.0   NaN     NaN       1  \n",
       "996    0.0   0.0     1.0       0  \n",
       "997    0.0   NaN     1.0       1  \n",
       "998    0.0   0.0     NaN       0  \n",
       "999    0.0   0.0     0.0       0  \n",
       "\n",
       "[1000 rows x 13 columns]"
      ]
     },
     "execution_count": 37,
     "metadata": {},
     "output_type": "execute_result"
    }
   ],
   "source": [
    "# combining train and validation dataset\n",
    "missing_data_exp_df = pd.concat([train_df,val_df]).reset_index(drop=True)\n",
    "missing_data_exp_df"
   ]
  },
  {
   "cell_type": "code",
   "execution_count": 38,
   "id": "f789a898",
   "metadata": {},
   "outputs": [],
   "source": [
    "# droping outliers\n",
    "drop_ind = missing_data_exp_df[(missing_data_exp_df['ap_lo']>800) | (missing_data_exp_df['ap_hi']<15)].index\n",
    "missing_data_exp_df = missing_data_exp_df.drop(drop_ind,axis = 0)"
   ]
  },
  {
   "cell_type": "code",
   "execution_count": 39,
   "id": "1623645b",
   "metadata": {},
   "outputs": [],
   "source": [
    "# i. Use dropna"
   ]
  },
  {
   "cell_type": "code",
   "execution_count": 40,
   "id": "53954b78",
   "metadata": {},
   "outputs": [],
   "source": [
    "dropna_df = missing_data_exp_df.copy()"
   ]
  },
  {
   "cell_type": "code",
   "execution_count": 41,
   "id": "55a5a7d3",
   "metadata": {
    "scrolled": true
   },
   "outputs": [],
   "source": [
    "dropna_df = dropna_df.dropna()"
   ]
  },
  {
   "cell_type": "code",
   "execution_count": 42,
   "id": "769e2a39",
   "metadata": {
    "scrolled": true
   },
   "outputs": [
    {
     "data": {
      "text/html": [
       "<div>\n",
       "<style scoped>\n",
       "    .dataframe tbody tr th:only-of-type {\n",
       "        vertical-align: middle;\n",
       "    }\n",
       "\n",
       "    .dataframe tbody tr th {\n",
       "        vertical-align: top;\n",
       "    }\n",
       "\n",
       "    .dataframe thead th {\n",
       "        text-align: right;\n",
       "    }\n",
       "</style>\n",
       "<table border=\"1\" class=\"dataframe\">\n",
       "  <thead>\n",
       "    <tr style=\"text-align: right;\">\n",
       "      <th></th>\n",
       "      <th>id</th>\n",
       "      <th>age</th>\n",
       "      <th>gender</th>\n",
       "      <th>height</th>\n",
       "      <th>weight</th>\n",
       "      <th>ap_hi</th>\n",
       "      <th>ap_lo</th>\n",
       "      <th>cholesterol</th>\n",
       "      <th>gluc</th>\n",
       "      <th>smoke</th>\n",
       "      <th>alco</th>\n",
       "      <th>active</th>\n",
       "      <th>cardio</th>\n",
       "    </tr>\n",
       "  </thead>\n",
       "  <tbody>\n",
       "    <tr>\n",
       "      <th>90</th>\n",
       "      <td>25306</td>\n",
       "      <td>17500.0</td>\n",
       "      <td>Women</td>\n",
       "      <td>160.0</td>\n",
       "      <td>62.0</td>\n",
       "      <td>120.0</td>\n",
       "      <td>80.0</td>\n",
       "      <td>Normal</td>\n",
       "      <td>Normal</td>\n",
       "      <td>0.0</td>\n",
       "      <td>0.0</td>\n",
       "      <td>1.0</td>\n",
       "      <td>0</td>\n",
       "    </tr>\n",
       "    <tr>\n",
       "      <th>146</th>\n",
       "      <td>91154</td>\n",
       "      <td>19802.0</td>\n",
       "      <td>Men</td>\n",
       "      <td>162.0</td>\n",
       "      <td>72.0</td>\n",
       "      <td>120.0</td>\n",
       "      <td>80.0</td>\n",
       "      <td>Normal</td>\n",
       "      <td>Normal</td>\n",
       "      <td>0.0</td>\n",
       "      <td>0.0</td>\n",
       "      <td>1.0</td>\n",
       "      <td>1</td>\n",
       "    </tr>\n",
       "    <tr>\n",
       "      <th>166</th>\n",
       "      <td>69120</td>\n",
       "      <td>14553.0</td>\n",
       "      <td>Men</td>\n",
       "      <td>157.0</td>\n",
       "      <td>60.0</td>\n",
       "      <td>110.0</td>\n",
       "      <td>75.0</td>\n",
       "      <td>Normal</td>\n",
       "      <td>Above Normal</td>\n",
       "      <td>0.0</td>\n",
       "      <td>0.0</td>\n",
       "      <td>0.0</td>\n",
       "      <td>1</td>\n",
       "    </tr>\n",
       "    <tr>\n",
       "      <th>187</th>\n",
       "      <td>68932</td>\n",
       "      <td>20482.0</td>\n",
       "      <td>Women</td>\n",
       "      <td>169.0</td>\n",
       "      <td>64.0</td>\n",
       "      <td>120.0</td>\n",
       "      <td>80.0</td>\n",
       "      <td>Normal</td>\n",
       "      <td>Normal</td>\n",
       "      <td>0.0</td>\n",
       "      <td>0.0</td>\n",
       "      <td>1.0</td>\n",
       "      <td>0</td>\n",
       "    </tr>\n",
       "    <tr>\n",
       "      <th>200</th>\n",
       "      <td>48446</td>\n",
       "      <td>22359.0</td>\n",
       "      <td>Women</td>\n",
       "      <td>168.0</td>\n",
       "      <td>86.0</td>\n",
       "      <td>160.0</td>\n",
       "      <td>90.0</td>\n",
       "      <td>Above Normal</td>\n",
       "      <td>Normal</td>\n",
       "      <td>1.0</td>\n",
       "      <td>0.0</td>\n",
       "      <td>1.0</td>\n",
       "      <td>1</td>\n",
       "    </tr>\n",
       "    <tr>\n",
       "      <th>351</th>\n",
       "      <td>99244</td>\n",
       "      <td>21373.0</td>\n",
       "      <td>Men</td>\n",
       "      <td>171.0</td>\n",
       "      <td>75.0</td>\n",
       "      <td>150.0</td>\n",
       "      <td>90.0</td>\n",
       "      <td>Normal</td>\n",
       "      <td>Normal</td>\n",
       "      <td>0.0</td>\n",
       "      <td>0.0</td>\n",
       "      <td>0.0</td>\n",
       "      <td>1</td>\n",
       "    </tr>\n",
       "    <tr>\n",
       "      <th>453</th>\n",
       "      <td>84726</td>\n",
       "      <td>21933.0</td>\n",
       "      <td>Men</td>\n",
       "      <td>172.0</td>\n",
       "      <td>93.0</td>\n",
       "      <td>120.0</td>\n",
       "      <td>80.0</td>\n",
       "      <td>Normal</td>\n",
       "      <td>Normal</td>\n",
       "      <td>0.0</td>\n",
       "      <td>0.0</td>\n",
       "      <td>1.0</td>\n",
       "      <td>0</td>\n",
       "    </tr>\n",
       "    <tr>\n",
       "      <th>507</th>\n",
       "      <td>93200</td>\n",
       "      <td>18032.0</td>\n",
       "      <td>Women</td>\n",
       "      <td>170.0</td>\n",
       "      <td>79.0</td>\n",
       "      <td>150.0</td>\n",
       "      <td>80.0</td>\n",
       "      <td>Normal</td>\n",
       "      <td>High</td>\n",
       "      <td>0.0</td>\n",
       "      <td>0.0</td>\n",
       "      <td>1.0</td>\n",
       "      <td>1</td>\n",
       "    </tr>\n",
       "    <tr>\n",
       "      <th>527</th>\n",
       "      <td>43327</td>\n",
       "      <td>14796.0</td>\n",
       "      <td>Women</td>\n",
       "      <td>162.0</td>\n",
       "      <td>60.0</td>\n",
       "      <td>120.0</td>\n",
       "      <td>80.0</td>\n",
       "      <td>Normal</td>\n",
       "      <td>Normal</td>\n",
       "      <td>0.0</td>\n",
       "      <td>0.0</td>\n",
       "      <td>1.0</td>\n",
       "      <td>0</td>\n",
       "    </tr>\n",
       "    <tr>\n",
       "      <th>541</th>\n",
       "      <td>86356</td>\n",
       "      <td>14470.0</td>\n",
       "      <td>Men</td>\n",
       "      <td>165.0</td>\n",
       "      <td>63.0</td>\n",
       "      <td>110.0</td>\n",
       "      <td>70.0</td>\n",
       "      <td>Normal</td>\n",
       "      <td>Normal</td>\n",
       "      <td>0.0</td>\n",
       "      <td>0.0</td>\n",
       "      <td>1.0</td>\n",
       "      <td>0</td>\n",
       "    </tr>\n",
       "    <tr>\n",
       "      <th>547</th>\n",
       "      <td>83210</td>\n",
       "      <td>21647.0</td>\n",
       "      <td>Women</td>\n",
       "      <td>166.0</td>\n",
       "      <td>68.0</td>\n",
       "      <td>110.0</td>\n",
       "      <td>80.0</td>\n",
       "      <td>Normal</td>\n",
       "      <td>Normal</td>\n",
       "      <td>0.0</td>\n",
       "      <td>0.0</td>\n",
       "      <td>1.0</td>\n",
       "      <td>0</td>\n",
       "    </tr>\n",
       "    <tr>\n",
       "      <th>567</th>\n",
       "      <td>56236</td>\n",
       "      <td>15354.0</td>\n",
       "      <td>Women</td>\n",
       "      <td>156.0</td>\n",
       "      <td>46.0</td>\n",
       "      <td>110.0</td>\n",
       "      <td>80.0</td>\n",
       "      <td>Normal</td>\n",
       "      <td>Normal</td>\n",
       "      <td>0.0</td>\n",
       "      <td>0.0</td>\n",
       "      <td>1.0</td>\n",
       "      <td>0</td>\n",
       "    </tr>\n",
       "    <tr>\n",
       "      <th>576</th>\n",
       "      <td>53788</td>\n",
       "      <td>15953.0</td>\n",
       "      <td>Men</td>\n",
       "      <td>171.0</td>\n",
       "      <td>68.0</td>\n",
       "      <td>120.0</td>\n",
       "      <td>80.0</td>\n",
       "      <td>Normal</td>\n",
       "      <td>Normal</td>\n",
       "      <td>0.0</td>\n",
       "      <td>0.0</td>\n",
       "      <td>1.0</td>\n",
       "      <td>1</td>\n",
       "    </tr>\n",
       "    <tr>\n",
       "      <th>613</th>\n",
       "      <td>44416</td>\n",
       "      <td>23268.0</td>\n",
       "      <td>Women</td>\n",
       "      <td>178.0</td>\n",
       "      <td>102.0</td>\n",
       "      <td>130.0</td>\n",
       "      <td>90.0</td>\n",
       "      <td>Normal</td>\n",
       "      <td>Normal</td>\n",
       "      <td>0.0</td>\n",
       "      <td>0.0</td>\n",
       "      <td>0.0</td>\n",
       "      <td>1</td>\n",
       "    </tr>\n",
       "    <tr>\n",
       "      <th>617</th>\n",
       "      <td>32199</td>\n",
       "      <td>22716.0</td>\n",
       "      <td>Men</td>\n",
       "      <td>159.0</td>\n",
       "      <td>67.0</td>\n",
       "      <td>150.0</td>\n",
       "      <td>100.0</td>\n",
       "      <td>Normal</td>\n",
       "      <td>Normal</td>\n",
       "      <td>0.0</td>\n",
       "      <td>0.0</td>\n",
       "      <td>1.0</td>\n",
       "      <td>1</td>\n",
       "    </tr>\n",
       "    <tr>\n",
       "      <th>621</th>\n",
       "      <td>10716</td>\n",
       "      <td>20954.0</td>\n",
       "      <td>Women</td>\n",
       "      <td>172.0</td>\n",
       "      <td>72.0</td>\n",
       "      <td>120.0</td>\n",
       "      <td>80.0</td>\n",
       "      <td>High</td>\n",
       "      <td>Normal</td>\n",
       "      <td>0.0</td>\n",
       "      <td>0.0</td>\n",
       "      <td>1.0</td>\n",
       "      <td>1</td>\n",
       "    </tr>\n",
       "    <tr>\n",
       "      <th>649</th>\n",
       "      <td>7903</td>\n",
       "      <td>19015.0</td>\n",
       "      <td>Men</td>\n",
       "      <td>162.0</td>\n",
       "      <td>64.0</td>\n",
       "      <td>110.0</td>\n",
       "      <td>80.0</td>\n",
       "      <td>Normal</td>\n",
       "      <td>Normal</td>\n",
       "      <td>0.0</td>\n",
       "      <td>0.0</td>\n",
       "      <td>0.0</td>\n",
       "      <td>1</td>\n",
       "    </tr>\n",
       "    <tr>\n",
       "      <th>678</th>\n",
       "      <td>10090</td>\n",
       "      <td>18804.0</td>\n",
       "      <td>Women</td>\n",
       "      <td>182.0</td>\n",
       "      <td>116.0</td>\n",
       "      <td>120.0</td>\n",
       "      <td>80.0</td>\n",
       "      <td>Normal</td>\n",
       "      <td>Normal</td>\n",
       "      <td>1.0</td>\n",
       "      <td>1.0</td>\n",
       "      <td>0.0</td>\n",
       "      <td>1</td>\n",
       "    </tr>\n",
       "    <tr>\n",
       "      <th>692</th>\n",
       "      <td>48202</td>\n",
       "      <td>21074.0</td>\n",
       "      <td>Men</td>\n",
       "      <td>160.0</td>\n",
       "      <td>60.0</td>\n",
       "      <td>120.0</td>\n",
       "      <td>80.0</td>\n",
       "      <td>Normal</td>\n",
       "      <td>Normal</td>\n",
       "      <td>0.0</td>\n",
       "      <td>0.0</td>\n",
       "      <td>1.0</td>\n",
       "      <td>0</td>\n",
       "    </tr>\n",
       "    <tr>\n",
       "      <th>707</th>\n",
       "      <td>88717</td>\n",
       "      <td>17569.0</td>\n",
       "      <td>Women</td>\n",
       "      <td>165.0</td>\n",
       "      <td>51.0</td>\n",
       "      <td>120.0</td>\n",
       "      <td>80.0</td>\n",
       "      <td>Normal</td>\n",
       "      <td>Normal</td>\n",
       "      <td>0.0</td>\n",
       "      <td>1.0</td>\n",
       "      <td>1.0</td>\n",
       "      <td>0</td>\n",
       "    </tr>\n",
       "    <tr>\n",
       "      <th>712</th>\n",
       "      <td>23427</td>\n",
       "      <td>19869.0</td>\n",
       "      <td>Men</td>\n",
       "      <td>168.0</td>\n",
       "      <td>49.0</td>\n",
       "      <td>120.0</td>\n",
       "      <td>80.0</td>\n",
       "      <td>Normal</td>\n",
       "      <td>Normal</td>\n",
       "      <td>0.0</td>\n",
       "      <td>0.0</td>\n",
       "      <td>1.0</td>\n",
       "      <td>1</td>\n",
       "    </tr>\n",
       "    <tr>\n",
       "      <th>713</th>\n",
       "      <td>62397</td>\n",
       "      <td>15176.0</td>\n",
       "      <td>Men</td>\n",
       "      <td>164.0</td>\n",
       "      <td>74.0</td>\n",
       "      <td>120.0</td>\n",
       "      <td>70.0</td>\n",
       "      <td>Normal</td>\n",
       "      <td>Above Normal</td>\n",
       "      <td>0.0</td>\n",
       "      <td>0.0</td>\n",
       "      <td>1.0</td>\n",
       "      <td>0</td>\n",
       "    </tr>\n",
       "    <tr>\n",
       "      <th>745</th>\n",
       "      <td>14613</td>\n",
       "      <td>16776.0</td>\n",
       "      <td>Men</td>\n",
       "      <td>161.0</td>\n",
       "      <td>62.0</td>\n",
       "      <td>110.0</td>\n",
       "      <td>80.0</td>\n",
       "      <td>Normal</td>\n",
       "      <td>Normal</td>\n",
       "      <td>0.0</td>\n",
       "      <td>0.0</td>\n",
       "      <td>1.0</td>\n",
       "      <td>0</td>\n",
       "    </tr>\n",
       "    <tr>\n",
       "      <th>758</th>\n",
       "      <td>72124</td>\n",
       "      <td>21911.0</td>\n",
       "      <td>Men</td>\n",
       "      <td>163.0</td>\n",
       "      <td>68.0</td>\n",
       "      <td>120.0</td>\n",
       "      <td>80.0</td>\n",
       "      <td>Normal</td>\n",
       "      <td>Normal</td>\n",
       "      <td>0.0</td>\n",
       "      <td>0.0</td>\n",
       "      <td>1.0</td>\n",
       "      <td>1</td>\n",
       "    </tr>\n",
       "    <tr>\n",
       "      <th>769</th>\n",
       "      <td>39351</td>\n",
       "      <td>19875.0</td>\n",
       "      <td>Men</td>\n",
       "      <td>170.0</td>\n",
       "      <td>56.0</td>\n",
       "      <td>120.0</td>\n",
       "      <td>70.0</td>\n",
       "      <td>High</td>\n",
       "      <td>High</td>\n",
       "      <td>0.0</td>\n",
       "      <td>0.0</td>\n",
       "      <td>1.0</td>\n",
       "      <td>0</td>\n",
       "    </tr>\n",
       "    <tr>\n",
       "      <th>789</th>\n",
       "      <td>24123</td>\n",
       "      <td>20449.0</td>\n",
       "      <td>Men</td>\n",
       "      <td>164.0</td>\n",
       "      <td>70.0</td>\n",
       "      <td>120.0</td>\n",
       "      <td>70.0</td>\n",
       "      <td>Normal</td>\n",
       "      <td>Normal</td>\n",
       "      <td>0.0</td>\n",
       "      <td>0.0</td>\n",
       "      <td>1.0</td>\n",
       "      <td>0</td>\n",
       "    </tr>\n",
       "    <tr>\n",
       "      <th>790</th>\n",
       "      <td>13458</td>\n",
       "      <td>16928.0</td>\n",
       "      <td>Men</td>\n",
       "      <td>168.0</td>\n",
       "      <td>65.0</td>\n",
       "      <td>120.0</td>\n",
       "      <td>80.0</td>\n",
       "      <td>Normal</td>\n",
       "      <td>Normal</td>\n",
       "      <td>0.0</td>\n",
       "      <td>0.0</td>\n",
       "      <td>1.0</td>\n",
       "      <td>0</td>\n",
       "    </tr>\n",
       "    <tr>\n",
       "      <th>816</th>\n",
       "      <td>65210</td>\n",
       "      <td>15312.0</td>\n",
       "      <td>Men</td>\n",
       "      <td>164.0</td>\n",
       "      <td>112.0</td>\n",
       "      <td>140.0</td>\n",
       "      <td>90.0</td>\n",
       "      <td>Normal</td>\n",
       "      <td>High</td>\n",
       "      <td>0.0</td>\n",
       "      <td>0.0</td>\n",
       "      <td>1.0</td>\n",
       "      <td>1</td>\n",
       "    </tr>\n",
       "    <tr>\n",
       "      <th>834</th>\n",
       "      <td>97769</td>\n",
       "      <td>17443.0</td>\n",
       "      <td>Men</td>\n",
       "      <td>165.0</td>\n",
       "      <td>60.0</td>\n",
       "      <td>90.0</td>\n",
       "      <td>60.0</td>\n",
       "      <td>Normal</td>\n",
       "      <td>Normal</td>\n",
       "      <td>0.0</td>\n",
       "      <td>0.0</td>\n",
       "      <td>1.0</td>\n",
       "      <td>0</td>\n",
       "    </tr>\n",
       "    <tr>\n",
       "      <th>837</th>\n",
       "      <td>16494</td>\n",
       "      <td>15847.0</td>\n",
       "      <td>Men</td>\n",
       "      <td>157.0</td>\n",
       "      <td>66.0</td>\n",
       "      <td>120.0</td>\n",
       "      <td>80.0</td>\n",
       "      <td>Normal</td>\n",
       "      <td>Normal</td>\n",
       "      <td>0.0</td>\n",
       "      <td>0.0</td>\n",
       "      <td>1.0</td>\n",
       "      <td>0</td>\n",
       "    </tr>\n",
       "    <tr>\n",
       "      <th>854</th>\n",
       "      <td>41216</td>\n",
       "      <td>14661.0</td>\n",
       "      <td>Men</td>\n",
       "      <td>160.0</td>\n",
       "      <td>43.0</td>\n",
       "      <td>100.0</td>\n",
       "      <td>80.0</td>\n",
       "      <td>Normal</td>\n",
       "      <td>Normal</td>\n",
       "      <td>0.0</td>\n",
       "      <td>0.0</td>\n",
       "      <td>1.0</td>\n",
       "      <td>0</td>\n",
       "    </tr>\n",
       "    <tr>\n",
       "      <th>894</th>\n",
       "      <td>42055</td>\n",
       "      <td>16837.0</td>\n",
       "      <td>Women</td>\n",
       "      <td>160.0</td>\n",
       "      <td>80.0</td>\n",
       "      <td>110.0</td>\n",
       "      <td>70.0</td>\n",
       "      <td>Normal</td>\n",
       "      <td>Normal</td>\n",
       "      <td>1.0</td>\n",
       "      <td>1.0</td>\n",
       "      <td>1.0</td>\n",
       "      <td>0</td>\n",
       "    </tr>\n",
       "    <tr>\n",
       "      <th>905</th>\n",
       "      <td>35006</td>\n",
       "      <td>19256.0</td>\n",
       "      <td>Men</td>\n",
       "      <td>154.0</td>\n",
       "      <td>69.0</td>\n",
       "      <td>110.0</td>\n",
       "      <td>70.0</td>\n",
       "      <td>Above Normal</td>\n",
       "      <td>Normal</td>\n",
       "      <td>0.0</td>\n",
       "      <td>0.0</td>\n",
       "      <td>1.0</td>\n",
       "      <td>0</td>\n",
       "    </tr>\n",
       "    <tr>\n",
       "      <th>912</th>\n",
       "      <td>35615</td>\n",
       "      <td>23265.0</td>\n",
       "      <td>Men</td>\n",
       "      <td>170.0</td>\n",
       "      <td>65.0</td>\n",
       "      <td>130.0</td>\n",
       "      <td>90.0</td>\n",
       "      <td>Normal</td>\n",
       "      <td>Normal</td>\n",
       "      <td>0.0</td>\n",
       "      <td>0.0</td>\n",
       "      <td>1.0</td>\n",
       "      <td>1</td>\n",
       "    </tr>\n",
       "    <tr>\n",
       "      <th>915</th>\n",
       "      <td>89619</td>\n",
       "      <td>18890.0</td>\n",
       "      <td>Men</td>\n",
       "      <td>162.0</td>\n",
       "      <td>90.0</td>\n",
       "      <td>185.0</td>\n",
       "      <td>100.0</td>\n",
       "      <td>Normal</td>\n",
       "      <td>Normal</td>\n",
       "      <td>0.0</td>\n",
       "      <td>0.0</td>\n",
       "      <td>1.0</td>\n",
       "      <td>1</td>\n",
       "    </tr>\n",
       "    <tr>\n",
       "      <th>917</th>\n",
       "      <td>41986</td>\n",
       "      <td>23239.0</td>\n",
       "      <td>Women</td>\n",
       "      <td>170.0</td>\n",
       "      <td>72.0</td>\n",
       "      <td>140.0</td>\n",
       "      <td>90.0</td>\n",
       "      <td>High</td>\n",
       "      <td>Normal</td>\n",
       "      <td>0.0</td>\n",
       "      <td>0.0</td>\n",
       "      <td>1.0</td>\n",
       "      <td>1</td>\n",
       "    </tr>\n",
       "    <tr>\n",
       "      <th>937</th>\n",
       "      <td>53784</td>\n",
       "      <td>21117.0</td>\n",
       "      <td>Men</td>\n",
       "      <td>161.0</td>\n",
       "      <td>80.0</td>\n",
       "      <td>90.0</td>\n",
       "      <td>60.0</td>\n",
       "      <td>High</td>\n",
       "      <td>Normal</td>\n",
       "      <td>0.0</td>\n",
       "      <td>0.0</td>\n",
       "      <td>1.0</td>\n",
       "      <td>0</td>\n",
       "    </tr>\n",
       "    <tr>\n",
       "      <th>951</th>\n",
       "      <td>17684</td>\n",
       "      <td>17610.0</td>\n",
       "      <td>Men</td>\n",
       "      <td>159.0</td>\n",
       "      <td>78.0</td>\n",
       "      <td>110.0</td>\n",
       "      <td>70.0</td>\n",
       "      <td>Normal</td>\n",
       "      <td>Normal</td>\n",
       "      <td>0.0</td>\n",
       "      <td>0.0</td>\n",
       "      <td>1.0</td>\n",
       "      <td>0</td>\n",
       "    </tr>\n",
       "    <tr>\n",
       "      <th>952</th>\n",
       "      <td>56335</td>\n",
       "      <td>19891.0</td>\n",
       "      <td>Men</td>\n",
       "      <td>164.0</td>\n",
       "      <td>65.0</td>\n",
       "      <td>120.0</td>\n",
       "      <td>80.0</td>\n",
       "      <td>Normal</td>\n",
       "      <td>Normal</td>\n",
       "      <td>0.0</td>\n",
       "      <td>0.0</td>\n",
       "      <td>1.0</td>\n",
       "      <td>1</td>\n",
       "    </tr>\n",
       "    <tr>\n",
       "      <th>979</th>\n",
       "      <td>57346</td>\n",
       "      <td>15397.0</td>\n",
       "      <td>Women</td>\n",
       "      <td>179.0</td>\n",
       "      <td>61.0</td>\n",
       "      <td>120.0</td>\n",
       "      <td>70.0</td>\n",
       "      <td>Normal</td>\n",
       "      <td>Normal</td>\n",
       "      <td>0.0</td>\n",
       "      <td>0.0</td>\n",
       "      <td>1.0</td>\n",
       "      <td>0</td>\n",
       "    </tr>\n",
       "    <tr>\n",
       "      <th>982</th>\n",
       "      <td>72000</td>\n",
       "      <td>22339.0</td>\n",
       "      <td>Men</td>\n",
       "      <td>156.0</td>\n",
       "      <td>55.0</td>\n",
       "      <td>120.0</td>\n",
       "      <td>80.0</td>\n",
       "      <td>High</td>\n",
       "      <td>High</td>\n",
       "      <td>0.0</td>\n",
       "      <td>0.0</td>\n",
       "      <td>0.0</td>\n",
       "      <td>1</td>\n",
       "    </tr>\n",
       "    <tr>\n",
       "      <th>983</th>\n",
       "      <td>4234</td>\n",
       "      <td>17403.0</td>\n",
       "      <td>Men</td>\n",
       "      <td>170.0</td>\n",
       "      <td>70.0</td>\n",
       "      <td>120.0</td>\n",
       "      <td>80.0</td>\n",
       "      <td>Above Normal</td>\n",
       "      <td>Normal</td>\n",
       "      <td>0.0</td>\n",
       "      <td>0.0</td>\n",
       "      <td>0.0</td>\n",
       "      <td>0</td>\n",
       "    </tr>\n",
       "    <tr>\n",
       "      <th>990</th>\n",
       "      <td>57023</td>\n",
       "      <td>18167.0</td>\n",
       "      <td>Men</td>\n",
       "      <td>177.0</td>\n",
       "      <td>59.0</td>\n",
       "      <td>120.0</td>\n",
       "      <td>20.0</td>\n",
       "      <td>Above Normal</td>\n",
       "      <td>Above Normal</td>\n",
       "      <td>0.0</td>\n",
       "      <td>0.0</td>\n",
       "      <td>1.0</td>\n",
       "      <td>1</td>\n",
       "    </tr>\n",
       "  </tbody>\n",
       "</table>\n",
       "</div>"
      ],
      "text/plain": [
       "        id      age gender  height  weight  ap_hi  ap_lo   cholesterol  \\\n",
       "90   25306  17500.0  Women   160.0    62.0  120.0   80.0        Normal   \n",
       "146  91154  19802.0    Men   162.0    72.0  120.0   80.0        Normal   \n",
       "166  69120  14553.0    Men   157.0    60.0  110.0   75.0        Normal   \n",
       "187  68932  20482.0  Women   169.0    64.0  120.0   80.0        Normal   \n",
       "200  48446  22359.0  Women   168.0    86.0  160.0   90.0  Above Normal   \n",
       "351  99244  21373.0    Men   171.0    75.0  150.0   90.0        Normal   \n",
       "453  84726  21933.0    Men   172.0    93.0  120.0   80.0        Normal   \n",
       "507  93200  18032.0  Women   170.0    79.0  150.0   80.0        Normal   \n",
       "527  43327  14796.0  Women   162.0    60.0  120.0   80.0        Normal   \n",
       "541  86356  14470.0    Men   165.0    63.0  110.0   70.0        Normal   \n",
       "547  83210  21647.0  Women   166.0    68.0  110.0   80.0        Normal   \n",
       "567  56236  15354.0  Women   156.0    46.0  110.0   80.0        Normal   \n",
       "576  53788  15953.0    Men   171.0    68.0  120.0   80.0        Normal   \n",
       "613  44416  23268.0  Women   178.0   102.0  130.0   90.0        Normal   \n",
       "617  32199  22716.0    Men   159.0    67.0  150.0  100.0        Normal   \n",
       "621  10716  20954.0  Women   172.0    72.0  120.0   80.0          High   \n",
       "649   7903  19015.0    Men   162.0    64.0  110.0   80.0        Normal   \n",
       "678  10090  18804.0  Women   182.0   116.0  120.0   80.0        Normal   \n",
       "692  48202  21074.0    Men   160.0    60.0  120.0   80.0        Normal   \n",
       "707  88717  17569.0  Women   165.0    51.0  120.0   80.0        Normal   \n",
       "712  23427  19869.0    Men   168.0    49.0  120.0   80.0        Normal   \n",
       "713  62397  15176.0    Men   164.0    74.0  120.0   70.0        Normal   \n",
       "745  14613  16776.0    Men   161.0    62.0  110.0   80.0        Normal   \n",
       "758  72124  21911.0    Men   163.0    68.0  120.0   80.0        Normal   \n",
       "769  39351  19875.0    Men   170.0    56.0  120.0   70.0          High   \n",
       "789  24123  20449.0    Men   164.0    70.0  120.0   70.0        Normal   \n",
       "790  13458  16928.0    Men   168.0    65.0  120.0   80.0        Normal   \n",
       "816  65210  15312.0    Men   164.0   112.0  140.0   90.0        Normal   \n",
       "834  97769  17443.0    Men   165.0    60.0   90.0   60.0        Normal   \n",
       "837  16494  15847.0    Men   157.0    66.0  120.0   80.0        Normal   \n",
       "854  41216  14661.0    Men   160.0    43.0  100.0   80.0        Normal   \n",
       "894  42055  16837.0  Women   160.0    80.0  110.0   70.0        Normal   \n",
       "905  35006  19256.0    Men   154.0    69.0  110.0   70.0  Above Normal   \n",
       "912  35615  23265.0    Men   170.0    65.0  130.0   90.0        Normal   \n",
       "915  89619  18890.0    Men   162.0    90.0  185.0  100.0        Normal   \n",
       "917  41986  23239.0  Women   170.0    72.0  140.0   90.0          High   \n",
       "937  53784  21117.0    Men   161.0    80.0   90.0   60.0          High   \n",
       "951  17684  17610.0    Men   159.0    78.0  110.0   70.0        Normal   \n",
       "952  56335  19891.0    Men   164.0    65.0  120.0   80.0        Normal   \n",
       "979  57346  15397.0  Women   179.0    61.0  120.0   70.0        Normal   \n",
       "982  72000  22339.0    Men   156.0    55.0  120.0   80.0          High   \n",
       "983   4234  17403.0    Men   170.0    70.0  120.0   80.0  Above Normal   \n",
       "990  57023  18167.0    Men   177.0    59.0  120.0   20.0  Above Normal   \n",
       "\n",
       "             gluc  smoke  alco  active  cardio  \n",
       "90         Normal    0.0   0.0     1.0       0  \n",
       "146        Normal    0.0   0.0     1.0       1  \n",
       "166  Above Normal    0.0   0.0     0.0       1  \n",
       "187        Normal    0.0   0.0     1.0       0  \n",
       "200        Normal    1.0   0.0     1.0       1  \n",
       "351        Normal    0.0   0.0     0.0       1  \n",
       "453        Normal    0.0   0.0     1.0       0  \n",
       "507          High    0.0   0.0     1.0       1  \n",
       "527        Normal    0.0   0.0     1.0       0  \n",
       "541        Normal    0.0   0.0     1.0       0  \n",
       "547        Normal    0.0   0.0     1.0       0  \n",
       "567        Normal    0.0   0.0     1.0       0  \n",
       "576        Normal    0.0   0.0     1.0       1  \n",
       "613        Normal    0.0   0.0     0.0       1  \n",
       "617        Normal    0.0   0.0     1.0       1  \n",
       "621        Normal    0.0   0.0     1.0       1  \n",
       "649        Normal    0.0   0.0     0.0       1  \n",
       "678        Normal    1.0   1.0     0.0       1  \n",
       "692        Normal    0.0   0.0     1.0       0  \n",
       "707        Normal    0.0   1.0     1.0       0  \n",
       "712        Normal    0.0   0.0     1.0       1  \n",
       "713  Above Normal    0.0   0.0     1.0       0  \n",
       "745        Normal    0.0   0.0     1.0       0  \n",
       "758        Normal    0.0   0.0     1.0       1  \n",
       "769          High    0.0   0.0     1.0       0  \n",
       "789        Normal    0.0   0.0     1.0       0  \n",
       "790        Normal    0.0   0.0     1.0       0  \n",
       "816          High    0.0   0.0     1.0       1  \n",
       "834        Normal    0.0   0.0     1.0       0  \n",
       "837        Normal    0.0   0.0     1.0       0  \n",
       "854        Normal    0.0   0.0     1.0       0  \n",
       "894        Normal    1.0   1.0     1.0       0  \n",
       "905        Normal    0.0   0.0     1.0       0  \n",
       "912        Normal    0.0   0.0     1.0       1  \n",
       "915        Normal    0.0   0.0     1.0       1  \n",
       "917        Normal    0.0   0.0     1.0       1  \n",
       "937        Normal    0.0   0.0     1.0       0  \n",
       "951        Normal    0.0   0.0     1.0       0  \n",
       "952        Normal    0.0   0.0     1.0       1  \n",
       "979        Normal    0.0   0.0     1.0       0  \n",
       "982          High    0.0   0.0     0.0       1  \n",
       "983        Normal    0.0   0.0     0.0       0  \n",
       "990  Above Normal    0.0   0.0     1.0       1  "
      ]
     },
     "execution_count": 42,
     "metadata": {},
     "output_type": "execute_result"
    }
   ],
   "source": [
    "dropna_df"
   ]
  },
  {
   "cell_type": "code",
   "execution_count": 43,
   "id": "1dee8311",
   "metadata": {},
   "outputs": [],
   "source": [
    "# ii. Use replace NA with zero or max value"
   ]
  },
  {
   "cell_type": "code",
   "execution_count": 44,
   "id": "77bdb36b",
   "metadata": {
    "scrolled": true
   },
   "outputs": [
    {
     "name": "stdout",
     "output_type": "stream",
     "text": [
      "Split in gender column\n",
      "Men      476\n",
      "Women    244\n",
      "Name: gender, dtype: int64\n",
      "\n",
      "Split in cholesterol column\n",
      "Normal          542\n",
      "Above Normal     95\n",
      "High             83\n",
      "Name: cholesterol, dtype: int64\n",
      "\n",
      "Split in gluc column\n",
      "Normal          625\n",
      "High             57\n",
      "Above Normal     54\n",
      "Name: gluc, dtype: int64\n",
      "\n"
     ]
    }
   ],
   "source": [
    "# finding value counts of categorical features\n",
    "categorical_columns = ['gender', 'cholesterol', 'gluc']\n",
    "for cols in categorical_columns:\n",
    "    print(f\"Split in {cols} column\\n{missing_data_exp_df[cols].value_counts()}\\n\")"
   ]
  },
  {
   "cell_type": "code",
   "execution_count": 45,
   "id": "79389255",
   "metadata": {},
   "outputs": [],
   "source": [
    "# filling the features with zero or min value\n",
    "replace_zero_df = missing_data_exp_df.copy()"
   ]
  },
  {
   "cell_type": "code",
   "execution_count": 46,
   "id": "334e9855",
   "metadata": {},
   "outputs": [],
   "source": [
    "# filling the categorical features with min value counts\n",
    "replace_zero_df['gender'] = replace_zero_df['gender'].replace(np.nan, 'Women')\n",
    "replace_zero_df['cholesterol'] = replace_zero_df['cholesterol'].replace(np.nan, 'High')\n",
    "replace_zero_df['gluc'] = replace_zero_df['gluc'].replace(np.nan, 'Above normal')"
   ]
  },
  {
   "cell_type": "code",
   "execution_count": 47,
   "id": "ebc66c60",
   "metadata": {
    "scrolled": true
   },
   "outputs": [],
   "source": [
    "# filling the numerical features with zero\n",
    "replace_zero_df = replace_zero_df.replace(np.nan, 0)"
   ]
  },
  {
   "cell_type": "code",
   "execution_count": 48,
   "id": "d08ed08c",
   "metadata": {},
   "outputs": [
    {
     "data": {
      "text/html": [
       "<div>\n",
       "<style scoped>\n",
       "    .dataframe tbody tr th:only-of-type {\n",
       "        vertical-align: middle;\n",
       "    }\n",
       "\n",
       "    .dataframe tbody tr th {\n",
       "        vertical-align: top;\n",
       "    }\n",
       "\n",
       "    .dataframe thead th {\n",
       "        text-align: right;\n",
       "    }\n",
       "</style>\n",
       "<table border=\"1\" class=\"dataframe\">\n",
       "  <thead>\n",
       "    <tr style=\"text-align: right;\">\n",
       "      <th></th>\n",
       "      <th>id</th>\n",
       "      <th>age</th>\n",
       "      <th>gender</th>\n",
       "      <th>height</th>\n",
       "      <th>weight</th>\n",
       "      <th>ap_hi</th>\n",
       "      <th>ap_lo</th>\n",
       "      <th>cholesterol</th>\n",
       "      <th>gluc</th>\n",
       "      <th>smoke</th>\n",
       "      <th>alco</th>\n",
       "      <th>active</th>\n",
       "      <th>cardio</th>\n",
       "    </tr>\n",
       "  </thead>\n",
       "  <tbody>\n",
       "    <tr>\n",
       "      <th>0</th>\n",
       "      <td>92150</td>\n",
       "      <td>20535.0</td>\n",
       "      <td>Women</td>\n",
       "      <td>163.0</td>\n",
       "      <td>75.0</td>\n",
       "      <td>120.0</td>\n",
       "      <td>0.0</td>\n",
       "      <td>High</td>\n",
       "      <td>Normal</td>\n",
       "      <td>0.0</td>\n",
       "      <td>0.0</td>\n",
       "      <td>1.0</td>\n",
       "      <td>0</td>\n",
       "    </tr>\n",
       "    <tr>\n",
       "      <th>1</th>\n",
       "      <td>88880</td>\n",
       "      <td>16125.0</td>\n",
       "      <td>Men</td>\n",
       "      <td>168.0</td>\n",
       "      <td>68.0</td>\n",
       "      <td>110.0</td>\n",
       "      <td>70.0</td>\n",
       "      <td>High</td>\n",
       "      <td>Above normal</td>\n",
       "      <td>0.0</td>\n",
       "      <td>0.0</td>\n",
       "      <td>0.0</td>\n",
       "      <td>0</td>\n",
       "    </tr>\n",
       "    <tr>\n",
       "      <th>2</th>\n",
       "      <td>10483</td>\n",
       "      <td>19761.0</td>\n",
       "      <td>Women</td>\n",
       "      <td>170.0</td>\n",
       "      <td>75.0</td>\n",
       "      <td>120.0</td>\n",
       "      <td>0.0</td>\n",
       "      <td>High</td>\n",
       "      <td>Normal</td>\n",
       "      <td>0.0</td>\n",
       "      <td>0.0</td>\n",
       "      <td>1.0</td>\n",
       "      <td>1</td>\n",
       "    </tr>\n",
       "    <tr>\n",
       "      <th>3</th>\n",
       "      <td>22798</td>\n",
       "      <td>19035.0</td>\n",
       "      <td>Men</td>\n",
       "      <td>0.0</td>\n",
       "      <td>89.0</td>\n",
       "      <td>0.0</td>\n",
       "      <td>80.0</td>\n",
       "      <td>Normal</td>\n",
       "      <td>Above normal</td>\n",
       "      <td>0.0</td>\n",
       "      <td>0.0</td>\n",
       "      <td>0.0</td>\n",
       "      <td>0</td>\n",
       "    </tr>\n",
       "    <tr>\n",
       "      <th>4</th>\n",
       "      <td>85542</td>\n",
       "      <td>0.0</td>\n",
       "      <td>Women</td>\n",
       "      <td>158.0</td>\n",
       "      <td>74.0</td>\n",
       "      <td>0.0</td>\n",
       "      <td>93.0</td>\n",
       "      <td>High</td>\n",
       "      <td>Above normal</td>\n",
       "      <td>0.0</td>\n",
       "      <td>1.0</td>\n",
       "      <td>1.0</td>\n",
       "      <td>1</td>\n",
       "    </tr>\n",
       "    <tr>\n",
       "      <th>...</th>\n",
       "      <td>...</td>\n",
       "      <td>...</td>\n",
       "      <td>...</td>\n",
       "      <td>...</td>\n",
       "      <td>...</td>\n",
       "      <td>...</td>\n",
       "      <td>...</td>\n",
       "      <td>...</td>\n",
       "      <td>...</td>\n",
       "      <td>...</td>\n",
       "      <td>...</td>\n",
       "      <td>...</td>\n",
       "      <td>...</td>\n",
       "    </tr>\n",
       "    <tr>\n",
       "      <th>995</th>\n",
       "      <td>68639</td>\n",
       "      <td>0.0</td>\n",
       "      <td>Men</td>\n",
       "      <td>164.0</td>\n",
       "      <td>72.0</td>\n",
       "      <td>140.0</td>\n",
       "      <td>80.0</td>\n",
       "      <td>Normal</td>\n",
       "      <td>Normal</td>\n",
       "      <td>0.0</td>\n",
       "      <td>0.0</td>\n",
       "      <td>0.0</td>\n",
       "      <td>1</td>\n",
       "    </tr>\n",
       "    <tr>\n",
       "      <th>996</th>\n",
       "      <td>35524</td>\n",
       "      <td>15851.0</td>\n",
       "      <td>Men</td>\n",
       "      <td>159.0</td>\n",
       "      <td>0.0</td>\n",
       "      <td>90.0</td>\n",
       "      <td>60.0</td>\n",
       "      <td>High</td>\n",
       "      <td>Normal</td>\n",
       "      <td>0.0</td>\n",
       "      <td>0.0</td>\n",
       "      <td>1.0</td>\n",
       "      <td>0</td>\n",
       "    </tr>\n",
       "    <tr>\n",
       "      <th>997</th>\n",
       "      <td>43938</td>\n",
       "      <td>21010.0</td>\n",
       "      <td>Men</td>\n",
       "      <td>168.0</td>\n",
       "      <td>0.0</td>\n",
       "      <td>0.0</td>\n",
       "      <td>90.0</td>\n",
       "      <td>Normal</td>\n",
       "      <td>Normal</td>\n",
       "      <td>0.0</td>\n",
       "      <td>0.0</td>\n",
       "      <td>1.0</td>\n",
       "      <td>1</td>\n",
       "    </tr>\n",
       "    <tr>\n",
       "      <th>998</th>\n",
       "      <td>1487</td>\n",
       "      <td>0.0</td>\n",
       "      <td>Women</td>\n",
       "      <td>170.0</td>\n",
       "      <td>87.0</td>\n",
       "      <td>120.0</td>\n",
       "      <td>0.0</td>\n",
       "      <td>Normal</td>\n",
       "      <td>Above normal</td>\n",
       "      <td>0.0</td>\n",
       "      <td>0.0</td>\n",
       "      <td>0.0</td>\n",
       "      <td>0</td>\n",
       "    </tr>\n",
       "    <tr>\n",
       "      <th>999</th>\n",
       "      <td>98728</td>\n",
       "      <td>0.0</td>\n",
       "      <td>Women</td>\n",
       "      <td>138.0</td>\n",
       "      <td>60.0</td>\n",
       "      <td>110.0</td>\n",
       "      <td>80.0</td>\n",
       "      <td>High</td>\n",
       "      <td>Normal</td>\n",
       "      <td>0.0</td>\n",
       "      <td>0.0</td>\n",
       "      <td>0.0</td>\n",
       "      <td>0</td>\n",
       "    </tr>\n",
       "  </tbody>\n",
       "</table>\n",
       "<p>988 rows × 13 columns</p>\n",
       "</div>"
      ],
      "text/plain": [
       "        id      age gender  height  weight  ap_hi  ap_lo cholesterol  \\\n",
       "0    92150  20535.0  Women   163.0    75.0  120.0    0.0        High   \n",
       "1    88880  16125.0    Men   168.0    68.0  110.0   70.0        High   \n",
       "2    10483  19761.0  Women   170.0    75.0  120.0    0.0        High   \n",
       "3    22798  19035.0    Men     0.0    89.0    0.0   80.0      Normal   \n",
       "4    85542      0.0  Women   158.0    74.0    0.0   93.0        High   \n",
       "..     ...      ...    ...     ...     ...    ...    ...         ...   \n",
       "995  68639      0.0    Men   164.0    72.0  140.0   80.0      Normal   \n",
       "996  35524  15851.0    Men   159.0     0.0   90.0   60.0        High   \n",
       "997  43938  21010.0    Men   168.0     0.0    0.0   90.0      Normal   \n",
       "998   1487      0.0  Women   170.0    87.0  120.0    0.0      Normal   \n",
       "999  98728      0.0  Women   138.0    60.0  110.0   80.0        High   \n",
       "\n",
       "             gluc  smoke  alco  active  cardio  \n",
       "0          Normal    0.0   0.0     1.0       0  \n",
       "1    Above normal    0.0   0.0     0.0       0  \n",
       "2          Normal    0.0   0.0     1.0       1  \n",
       "3    Above normal    0.0   0.0     0.0       0  \n",
       "4    Above normal    0.0   1.0     1.0       1  \n",
       "..            ...    ...   ...     ...     ...  \n",
       "995        Normal    0.0   0.0     0.0       1  \n",
       "996        Normal    0.0   0.0     1.0       0  \n",
       "997        Normal    0.0   0.0     1.0       1  \n",
       "998  Above normal    0.0   0.0     0.0       0  \n",
       "999        Normal    0.0   0.0     0.0       0  \n",
       "\n",
       "[988 rows x 13 columns]"
      ]
     },
     "execution_count": 48,
     "metadata": {},
     "output_type": "execute_result"
    }
   ],
   "source": [
    "replace_zero_df"
   ]
  },
  {
   "cell_type": "code",
   "execution_count": 49,
   "id": "a32f0a7a",
   "metadata": {},
   "outputs": [],
   "source": [
    "# filling the features with max value\n",
    "replace_max_df = missing_data_exp_df.copy()"
   ]
  },
  {
   "cell_type": "code",
   "execution_count": 50,
   "id": "8333a605",
   "metadata": {},
   "outputs": [],
   "source": [
    "# filling the categorical features with max value counts\n",
    "replace_max_df['gender'] = replace_max_df['gender'].replace(np.nan, 'Men')\n",
    "replace_max_df['cholesterol'] = replace_max_df['cholesterol'].replace(np.nan, 'Normal')\n",
    "replace_max_df['gluc'] = replace_max_df['gluc'].replace(np.nan, 'Normal')"
   ]
  },
  {
   "cell_type": "code",
   "execution_count": 51,
   "id": "fd2de747",
   "metadata": {},
   "outputs": [],
   "source": [
    "# filling the numerical features with max values\n",
    "for cols in replace_max_df.columns:\n",
    "    replace_max_df[cols] = replace_max_df[cols].replace(np.nan, replace_max_df[cols].max())"
   ]
  },
  {
   "cell_type": "code",
   "execution_count": 52,
   "id": "95a8cdb0",
   "metadata": {},
   "outputs": [
    {
     "data": {
      "text/html": [
       "<div>\n",
       "<style scoped>\n",
       "    .dataframe tbody tr th:only-of-type {\n",
       "        vertical-align: middle;\n",
       "    }\n",
       "\n",
       "    .dataframe tbody tr th {\n",
       "        vertical-align: top;\n",
       "    }\n",
       "\n",
       "    .dataframe thead th {\n",
       "        text-align: right;\n",
       "    }\n",
       "</style>\n",
       "<table border=\"1\" class=\"dataframe\">\n",
       "  <thead>\n",
       "    <tr style=\"text-align: right;\">\n",
       "      <th></th>\n",
       "      <th>id</th>\n",
       "      <th>age</th>\n",
       "      <th>gender</th>\n",
       "      <th>height</th>\n",
       "      <th>weight</th>\n",
       "      <th>ap_hi</th>\n",
       "      <th>ap_lo</th>\n",
       "      <th>cholesterol</th>\n",
       "      <th>gluc</th>\n",
       "      <th>smoke</th>\n",
       "      <th>alco</th>\n",
       "      <th>active</th>\n",
       "      <th>cardio</th>\n",
       "    </tr>\n",
       "  </thead>\n",
       "  <tbody>\n",
       "    <tr>\n",
       "      <th>0</th>\n",
       "      <td>92150</td>\n",
       "      <td>20535.0</td>\n",
       "      <td>Men</td>\n",
       "      <td>163.0</td>\n",
       "      <td>75.0</td>\n",
       "      <td>120.0</td>\n",
       "      <td>120.0</td>\n",
       "      <td>Normal</td>\n",
       "      <td>Normal</td>\n",
       "      <td>0.0</td>\n",
       "      <td>0.0</td>\n",
       "      <td>1.0</td>\n",
       "      <td>0</td>\n",
       "    </tr>\n",
       "    <tr>\n",
       "      <th>1</th>\n",
       "      <td>88880</td>\n",
       "      <td>16125.0</td>\n",
       "      <td>Men</td>\n",
       "      <td>168.0</td>\n",
       "      <td>68.0</td>\n",
       "      <td>110.0</td>\n",
       "      <td>70.0</td>\n",
       "      <td>Normal</td>\n",
       "      <td>Normal</td>\n",
       "      <td>0.0</td>\n",
       "      <td>0.0</td>\n",
       "      <td>1.0</td>\n",
       "      <td>0</td>\n",
       "    </tr>\n",
       "    <tr>\n",
       "      <th>2</th>\n",
       "      <td>10483</td>\n",
       "      <td>19761.0</td>\n",
       "      <td>Men</td>\n",
       "      <td>170.0</td>\n",
       "      <td>75.0</td>\n",
       "      <td>120.0</td>\n",
       "      <td>120.0</td>\n",
       "      <td>Normal</td>\n",
       "      <td>Normal</td>\n",
       "      <td>0.0</td>\n",
       "      <td>0.0</td>\n",
       "      <td>1.0</td>\n",
       "      <td>1</td>\n",
       "    </tr>\n",
       "    <tr>\n",
       "      <th>3</th>\n",
       "      <td>22798</td>\n",
       "      <td>19035.0</td>\n",
       "      <td>Men</td>\n",
       "      <td>191.0</td>\n",
       "      <td>89.0</td>\n",
       "      <td>190.0</td>\n",
       "      <td>80.0</td>\n",
       "      <td>Normal</td>\n",
       "      <td>Normal</td>\n",
       "      <td>0.0</td>\n",
       "      <td>1.0</td>\n",
       "      <td>1.0</td>\n",
       "      <td>0</td>\n",
       "    </tr>\n",
       "    <tr>\n",
       "      <th>4</th>\n",
       "      <td>85542</td>\n",
       "      <td>23603.0</td>\n",
       "      <td>Men</td>\n",
       "      <td>158.0</td>\n",
       "      <td>74.0</td>\n",
       "      <td>190.0</td>\n",
       "      <td>93.0</td>\n",
       "      <td>High</td>\n",
       "      <td>Normal</td>\n",
       "      <td>0.0</td>\n",
       "      <td>1.0</td>\n",
       "      <td>1.0</td>\n",
       "      <td>1</td>\n",
       "    </tr>\n",
       "    <tr>\n",
       "      <th>...</th>\n",
       "      <td>...</td>\n",
       "      <td>...</td>\n",
       "      <td>...</td>\n",
       "      <td>...</td>\n",
       "      <td>...</td>\n",
       "      <td>...</td>\n",
       "      <td>...</td>\n",
       "      <td>...</td>\n",
       "      <td>...</td>\n",
       "      <td>...</td>\n",
       "      <td>...</td>\n",
       "      <td>...</td>\n",
       "      <td>...</td>\n",
       "    </tr>\n",
       "    <tr>\n",
       "      <th>995</th>\n",
       "      <td>68639</td>\n",
       "      <td>23603.0</td>\n",
       "      <td>Men</td>\n",
       "      <td>164.0</td>\n",
       "      <td>72.0</td>\n",
       "      <td>140.0</td>\n",
       "      <td>80.0</td>\n",
       "      <td>Normal</td>\n",
       "      <td>Normal</td>\n",
       "      <td>0.0</td>\n",
       "      <td>1.0</td>\n",
       "      <td>1.0</td>\n",
       "      <td>1</td>\n",
       "    </tr>\n",
       "    <tr>\n",
       "      <th>996</th>\n",
       "      <td>35524</td>\n",
       "      <td>15851.0</td>\n",
       "      <td>Men</td>\n",
       "      <td>159.0</td>\n",
       "      <td>155.0</td>\n",
       "      <td>90.0</td>\n",
       "      <td>60.0</td>\n",
       "      <td>Normal</td>\n",
       "      <td>Normal</td>\n",
       "      <td>0.0</td>\n",
       "      <td>0.0</td>\n",
       "      <td>1.0</td>\n",
       "      <td>0</td>\n",
       "    </tr>\n",
       "    <tr>\n",
       "      <th>997</th>\n",
       "      <td>43938</td>\n",
       "      <td>21010.0</td>\n",
       "      <td>Men</td>\n",
       "      <td>168.0</td>\n",
       "      <td>155.0</td>\n",
       "      <td>190.0</td>\n",
       "      <td>90.0</td>\n",
       "      <td>Normal</td>\n",
       "      <td>Normal</td>\n",
       "      <td>0.0</td>\n",
       "      <td>1.0</td>\n",
       "      <td>1.0</td>\n",
       "      <td>1</td>\n",
       "    </tr>\n",
       "    <tr>\n",
       "      <th>998</th>\n",
       "      <td>1487</td>\n",
       "      <td>23603.0</td>\n",
       "      <td>Women</td>\n",
       "      <td>170.0</td>\n",
       "      <td>87.0</td>\n",
       "      <td>120.0</td>\n",
       "      <td>120.0</td>\n",
       "      <td>Normal</td>\n",
       "      <td>Normal</td>\n",
       "      <td>0.0</td>\n",
       "      <td>0.0</td>\n",
       "      <td>1.0</td>\n",
       "      <td>0</td>\n",
       "    </tr>\n",
       "    <tr>\n",
       "      <th>999</th>\n",
       "      <td>98728</td>\n",
       "      <td>23603.0</td>\n",
       "      <td>Women</td>\n",
       "      <td>138.0</td>\n",
       "      <td>60.0</td>\n",
       "      <td>110.0</td>\n",
       "      <td>80.0</td>\n",
       "      <td>Normal</td>\n",
       "      <td>Normal</td>\n",
       "      <td>0.0</td>\n",
       "      <td>0.0</td>\n",
       "      <td>0.0</td>\n",
       "      <td>0</td>\n",
       "    </tr>\n",
       "  </tbody>\n",
       "</table>\n",
       "<p>988 rows × 13 columns</p>\n",
       "</div>"
      ],
      "text/plain": [
       "        id      age gender  height  weight  ap_hi  ap_lo cholesterol    gluc  \\\n",
       "0    92150  20535.0    Men   163.0    75.0  120.0  120.0      Normal  Normal   \n",
       "1    88880  16125.0    Men   168.0    68.0  110.0   70.0      Normal  Normal   \n",
       "2    10483  19761.0    Men   170.0    75.0  120.0  120.0      Normal  Normal   \n",
       "3    22798  19035.0    Men   191.0    89.0  190.0   80.0      Normal  Normal   \n",
       "4    85542  23603.0    Men   158.0    74.0  190.0   93.0        High  Normal   \n",
       "..     ...      ...    ...     ...     ...    ...    ...         ...     ...   \n",
       "995  68639  23603.0    Men   164.0    72.0  140.0   80.0      Normal  Normal   \n",
       "996  35524  15851.0    Men   159.0   155.0   90.0   60.0      Normal  Normal   \n",
       "997  43938  21010.0    Men   168.0   155.0  190.0   90.0      Normal  Normal   \n",
       "998   1487  23603.0  Women   170.0    87.0  120.0  120.0      Normal  Normal   \n",
       "999  98728  23603.0  Women   138.0    60.0  110.0   80.0      Normal  Normal   \n",
       "\n",
       "     smoke  alco  active  cardio  \n",
       "0      0.0   0.0     1.0       0  \n",
       "1      0.0   0.0     1.0       0  \n",
       "2      0.0   0.0     1.0       1  \n",
       "3      0.0   1.0     1.0       0  \n",
       "4      0.0   1.0     1.0       1  \n",
       "..     ...   ...     ...     ...  \n",
       "995    0.0   1.0     1.0       1  \n",
       "996    0.0   0.0     1.0       0  \n",
       "997    0.0   1.0     1.0       1  \n",
       "998    0.0   0.0     1.0       0  \n",
       "999    0.0   0.0     0.0       0  \n",
       "\n",
       "[988 rows x 13 columns]"
      ]
     },
     "execution_count": 52,
     "metadata": {},
     "output_type": "execute_result"
    }
   ],
   "source": [
    "replace_max_df"
   ]
  },
  {
   "cell_type": "code",
   "execution_count": 53,
   "id": "fac6a457",
   "metadata": {},
   "outputs": [],
   "source": [
    "# iii. Use replace NA with mean"
   ]
  },
  {
   "cell_type": "code",
   "execution_count": 54,
   "id": "4cc1db15",
   "metadata": {},
   "outputs": [],
   "source": [
    "replace_mean_df = missing_data_exp_df.copy()"
   ]
  },
  {
   "cell_type": "code",
   "execution_count": 55,
   "id": "cd80e549",
   "metadata": {},
   "outputs": [],
   "source": [
    "# filling the categorical features with random values\n",
    "replace_mean_df['gender'] = replace_mean_df['gender'].replace(np.nan, 'Women')\n",
    "replace_mean_df['cholesterol'] = replace_mean_df['cholesterol'].replace(np.nan, 'Normal')\n",
    "replace_mean_df['gluc'] = replace_mean_df['gluc'].replace(np.nan, 'Normal')"
   ]
  },
  {
   "cell_type": "code",
   "execution_count": 56,
   "id": "6aed5000",
   "metadata": {},
   "outputs": [],
   "source": [
    "# filling nominal(binary) features with zeros\n",
    "nominal_columns = ['smoke', 'alco', 'active']\n",
    "for cols in nominal_columns:\n",
    "    replace_mean_df[cols] = replace_mean_df[cols].replace(np.nan, 0)"
   ]
  },
  {
   "cell_type": "code",
   "execution_count": 57,
   "id": "5e7a8c5b",
   "metadata": {},
   "outputs": [],
   "source": [
    "# filling the numerical features with mean values\n",
    "for cols in replace_mean_df.drop(columns = ['gender', 'cholesterol', 'gluc','smoke','alco','active']).columns:\n",
    "    replace_mean_df[cols] = replace_mean_df[cols].replace(np.nan, round(replace_mean_df[cols].mean()))"
   ]
  },
  {
   "cell_type": "code",
   "execution_count": 58,
   "id": "f0c61c76",
   "metadata": {},
   "outputs": [
    {
     "data": {
      "text/plain": [
       "id             0\n",
       "age            0\n",
       "gender         0\n",
       "height         0\n",
       "weight         0\n",
       "ap_hi          0\n",
       "ap_lo          0\n",
       "cholesterol    0\n",
       "gluc           0\n",
       "smoke          0\n",
       "alco           0\n",
       "active         0\n",
       "cardio         0\n",
       "dtype: int64"
      ]
     },
     "execution_count": 58,
     "metadata": {},
     "output_type": "execute_result"
    }
   ],
   "source": [
    "replace_mean_df.isnull().sum()"
   ]
  },
  {
   "cell_type": "code",
   "execution_count": 59,
   "id": "6789bf82",
   "metadata": {},
   "outputs": [],
   "source": [
    "# iv. Search for additional techniques to handle null values, excluding the above threeandtest"
   ]
  },
  {
   "cell_type": "code",
   "execution_count": 60,
   "id": "b793d878",
   "metadata": {},
   "outputs": [],
   "source": [
    "# filling the misssing values with interpolate"
   ]
  },
  {
   "cell_type": "code",
   "execution_count": 61,
   "id": "402ae887",
   "metadata": {},
   "outputs": [],
   "source": [
    "interpolate_df = missing_data_exp_df.copy()"
   ]
  },
  {
   "cell_type": "code",
   "execution_count": 62,
   "id": "9f6a7697",
   "metadata": {},
   "outputs": [],
   "source": [
    "interpolate_df = interpolate_df.interpolate()"
   ]
  },
  {
   "cell_type": "code",
   "execution_count": 63,
   "id": "d45b9fb9",
   "metadata": {},
   "outputs": [
    {
     "data": {
      "text/html": [
       "<div>\n",
       "<style scoped>\n",
       "    .dataframe tbody tr th:only-of-type {\n",
       "        vertical-align: middle;\n",
       "    }\n",
       "\n",
       "    .dataframe tbody tr th {\n",
       "        vertical-align: top;\n",
       "    }\n",
       "\n",
       "    .dataframe thead th {\n",
       "        text-align: right;\n",
       "    }\n",
       "</style>\n",
       "<table border=\"1\" class=\"dataframe\">\n",
       "  <thead>\n",
       "    <tr style=\"text-align: right;\">\n",
       "      <th></th>\n",
       "      <th>id</th>\n",
       "      <th>age</th>\n",
       "      <th>gender</th>\n",
       "      <th>height</th>\n",
       "      <th>weight</th>\n",
       "      <th>ap_hi</th>\n",
       "      <th>ap_lo</th>\n",
       "      <th>cholesterol</th>\n",
       "      <th>gluc</th>\n",
       "      <th>smoke</th>\n",
       "      <th>alco</th>\n",
       "      <th>active</th>\n",
       "      <th>cardio</th>\n",
       "    </tr>\n",
       "  </thead>\n",
       "  <tbody>\n",
       "    <tr>\n",
       "      <th>0</th>\n",
       "      <td>92150</td>\n",
       "      <td>20535.0</td>\n",
       "      <td>Women</td>\n",
       "      <td>163.0</td>\n",
       "      <td>75.0</td>\n",
       "      <td>120.0</td>\n",
       "      <td>81.0</td>\n",
       "      <td>Normal</td>\n",
       "      <td>Normal</td>\n",
       "      <td>0.0</td>\n",
       "      <td>0.0</td>\n",
       "      <td>1.0</td>\n",
       "      <td>0</td>\n",
       "    </tr>\n",
       "    <tr>\n",
       "      <th>1</th>\n",
       "      <td>88880</td>\n",
       "      <td>16125.0</td>\n",
       "      <td>Men</td>\n",
       "      <td>168.0</td>\n",
       "      <td>68.0</td>\n",
       "      <td>110.0</td>\n",
       "      <td>70.0</td>\n",
       "      <td>Normal</td>\n",
       "      <td>Normal</td>\n",
       "      <td>0.0</td>\n",
       "      <td>0.0</td>\n",
       "      <td>1.0</td>\n",
       "      <td>0</td>\n",
       "    </tr>\n",
       "    <tr>\n",
       "      <th>2</th>\n",
       "      <td>10483</td>\n",
       "      <td>19761.0</td>\n",
       "      <td>Women</td>\n",
       "      <td>170.0</td>\n",
       "      <td>75.0</td>\n",
       "      <td>120.0</td>\n",
       "      <td>75.0</td>\n",
       "      <td>Normal</td>\n",
       "      <td>Normal</td>\n",
       "      <td>0.0</td>\n",
       "      <td>0.0</td>\n",
       "      <td>1.0</td>\n",
       "      <td>1</td>\n",
       "    </tr>\n",
       "    <tr>\n",
       "      <th>3</th>\n",
       "      <td>22798</td>\n",
       "      <td>19035.0</td>\n",
       "      <td>Men</td>\n",
       "      <td>164.0</td>\n",
       "      <td>89.0</td>\n",
       "      <td>133.0</td>\n",
       "      <td>80.0</td>\n",
       "      <td>Normal</td>\n",
       "      <td>Normal</td>\n",
       "      <td>0.0</td>\n",
       "      <td>0.0</td>\n",
       "      <td>1.0</td>\n",
       "      <td>0</td>\n",
       "    </tr>\n",
       "    <tr>\n",
       "      <th>4</th>\n",
       "      <td>85542</td>\n",
       "      <td>17902.0</td>\n",
       "      <td>Women</td>\n",
       "      <td>158.0</td>\n",
       "      <td>74.0</td>\n",
       "      <td>147.0</td>\n",
       "      <td>93.0</td>\n",
       "      <td>High</td>\n",
       "      <td>Normal</td>\n",
       "      <td>0.0</td>\n",
       "      <td>1.0</td>\n",
       "      <td>1.0</td>\n",
       "      <td>1</td>\n",
       "    </tr>\n",
       "    <tr>\n",
       "      <th>...</th>\n",
       "      <td>...</td>\n",
       "      <td>...</td>\n",
       "      <td>...</td>\n",
       "      <td>...</td>\n",
       "      <td>...</td>\n",
       "      <td>...</td>\n",
       "      <td>...</td>\n",
       "      <td>...</td>\n",
       "      <td>...</td>\n",
       "      <td>...</td>\n",
       "      <td>...</td>\n",
       "      <td>...</td>\n",
       "      <td>...</td>\n",
       "    </tr>\n",
       "    <tr>\n",
       "      <th>995</th>\n",
       "      <td>68639</td>\n",
       "      <td>16182.0</td>\n",
       "      <td>Men</td>\n",
       "      <td>164.0</td>\n",
       "      <td>72.0</td>\n",
       "      <td>140.0</td>\n",
       "      <td>80.0</td>\n",
       "      <td>Normal</td>\n",
       "      <td>Normal</td>\n",
       "      <td>0.0</td>\n",
       "      <td>0.0</td>\n",
       "      <td>1.0</td>\n",
       "      <td>1</td>\n",
       "    </tr>\n",
       "    <tr>\n",
       "      <th>996</th>\n",
       "      <td>35524</td>\n",
       "      <td>15851.0</td>\n",
       "      <td>Men</td>\n",
       "      <td>159.0</td>\n",
       "      <td>77.0</td>\n",
       "      <td>90.0</td>\n",
       "      <td>60.0</td>\n",
       "      <td>Normal</td>\n",
       "      <td>Normal</td>\n",
       "      <td>0.0</td>\n",
       "      <td>0.0</td>\n",
       "      <td>1.0</td>\n",
       "      <td>0</td>\n",
       "    </tr>\n",
       "    <tr>\n",
       "      <th>997</th>\n",
       "      <td>43938</td>\n",
       "      <td>21010.0</td>\n",
       "      <td>Men</td>\n",
       "      <td>168.0</td>\n",
       "      <td>82.0</td>\n",
       "      <td>105.0</td>\n",
       "      <td>90.0</td>\n",
       "      <td>Normal</td>\n",
       "      <td>Normal</td>\n",
       "      <td>0.0</td>\n",
       "      <td>0.0</td>\n",
       "      <td>1.0</td>\n",
       "      <td>1</td>\n",
       "    </tr>\n",
       "    <tr>\n",
       "      <th>998</th>\n",
       "      <td>1487</td>\n",
       "      <td>21010.0</td>\n",
       "      <td>Women</td>\n",
       "      <td>170.0</td>\n",
       "      <td>87.0</td>\n",
       "      <td>120.0</td>\n",
       "      <td>85.0</td>\n",
       "      <td>Normal</td>\n",
       "      <td>Normal</td>\n",
       "      <td>0.0</td>\n",
       "      <td>0.0</td>\n",
       "      <td>0.0</td>\n",
       "      <td>0</td>\n",
       "    </tr>\n",
       "    <tr>\n",
       "      <th>999</th>\n",
       "      <td>98728</td>\n",
       "      <td>21010.0</td>\n",
       "      <td>Women</td>\n",
       "      <td>138.0</td>\n",
       "      <td>60.0</td>\n",
       "      <td>110.0</td>\n",
       "      <td>80.0</td>\n",
       "      <td>Normal</td>\n",
       "      <td>Normal</td>\n",
       "      <td>0.0</td>\n",
       "      <td>0.0</td>\n",
       "      <td>0.0</td>\n",
       "      <td>0</td>\n",
       "    </tr>\n",
       "  </tbody>\n",
       "</table>\n",
       "<p>988 rows × 13 columns</p>\n",
       "</div>"
      ],
      "text/plain": [
       "        id      age gender  height  weight  ap_hi  ap_lo cholesterol    gluc  \\\n",
       "0    92150  20535.0  Women   163.0    75.0  120.0   81.0      Normal  Normal   \n",
       "1    88880  16125.0    Men   168.0    68.0  110.0   70.0      Normal  Normal   \n",
       "2    10483  19761.0  Women   170.0    75.0  120.0   75.0      Normal  Normal   \n",
       "3    22798  19035.0    Men   164.0    89.0  133.0   80.0      Normal  Normal   \n",
       "4    85542  17902.0  Women   158.0    74.0  147.0   93.0        High  Normal   \n",
       "..     ...      ...    ...     ...     ...    ...    ...         ...     ...   \n",
       "995  68639  16182.0    Men   164.0    72.0  140.0   80.0      Normal  Normal   \n",
       "996  35524  15851.0    Men   159.0    77.0   90.0   60.0      Normal  Normal   \n",
       "997  43938  21010.0    Men   168.0    82.0  105.0   90.0      Normal  Normal   \n",
       "998   1487  21010.0  Women   170.0    87.0  120.0   85.0      Normal  Normal   \n",
       "999  98728  21010.0  Women   138.0    60.0  110.0   80.0      Normal  Normal   \n",
       "\n",
       "     smoke  alco  active  cardio  \n",
       "0      0.0   0.0     1.0       0  \n",
       "1      0.0   0.0     1.0       0  \n",
       "2      0.0   0.0     1.0       1  \n",
       "3      0.0   0.0     1.0       0  \n",
       "4      0.0   1.0     1.0       1  \n",
       "..     ...   ...     ...     ...  \n",
       "995    0.0   0.0     1.0       1  \n",
       "996    0.0   0.0     1.0       0  \n",
       "997    0.0   0.0     1.0       1  \n",
       "998    0.0   0.0     0.0       0  \n",
       "999    0.0   0.0     0.0       0  \n",
       "\n",
       "[988 rows x 13 columns]"
      ]
     },
     "execution_count": 63,
     "metadata": {},
     "output_type": "execute_result"
    }
   ],
   "source": [
    "# filling the categorical features with random values\n",
    "interpolate_df['gender'] = interpolate_df['gender'].replace(np.nan, 'Women')\n",
    "interpolate_df['cholesterol'] = interpolate_df['cholesterol'].replace(np.nan, 'Normal')\n",
    "interpolate_df['gluc'] = interpolate_df['gluc'].replace(np.nan, 'Normal')\n",
    "\n",
    "# filling nominal(binary) features with zeros\n",
    "nominal_columns = ['smoke', 'alco', 'active']\n",
    "for cols in nominal_columns:\n",
    "    interpolate_df[cols] = interpolate_df[cols].replace(np.nan, 0)\n",
    "    \n",
    "interpolate_df['ap_lo'] = interpolate_df['ap_lo'].fillna(interpolate_df['ap_lo'].mean())\n",
    "interpolate_df = interpolate_df.round()\n",
    "interpolate_df"
   ]
  },
  {
   "cell_type": "markdown",
   "id": "a4adb2d9",
   "metadata": {},
   "source": [
    "##### k. Applying the feature scaling technique if you think it is required. (Optional)"
   ]
  },
  {
   "cell_type": "code",
   "execution_count": null,
   "id": "41b1adf6",
   "metadata": {},
   "outputs": [],
   "source": []
  },
  {
   "cell_type": "markdown",
   "id": "fdba428e",
   "metadata": {},
   "source": [
    "##### l. Applying the regression models that you think is most suited for this problem."
   ]
  },
  {
   "cell_type": "markdown",
   "id": "3bcb486a",
   "metadata": {},
   "source": [
    "Data Preparation"
   ]
  },
  {
   "cell_type": "code",
   "execution_count": 64,
   "id": "bf07f4d7",
   "metadata": {},
   "outputs": [],
   "source": [
    "from sklearn.model_selection import train_test_split, GridSearchCV, RandomizedSearchCV\n",
    "from sklearn.linear_model import LogisticRegression\n",
    "from sklearn.ensemble import RandomForestClassifier\n",
    "from sklearn.linear_model import LinearRegression\n",
    "from sklearn.svm import SVC"
   ]
  },
  {
   "cell_type": "code",
   "execution_count": 65,
   "id": "94c0095b",
   "metadata": {},
   "outputs": [],
   "source": [
    "def sub(pred, **kwargs):\n",
    "    submission = pd.DataFrame({'id':test_df['id'],'cardio':pred})\n",
    "    file = submission.to_csv(kwargs['name']+'.csv',index=False)\n",
    "    print('Saved file: ' + kwargs['name'])\n",
    "    return file"
   ]
  },
  {
   "cell_type": "code",
   "execution_count": 66,
   "id": "73376f1c",
   "metadata": {},
   "outputs": [],
   "source": [
    "def cat_to_num(df): \n",
    "    LabelEncoder_X= LabelEncoder()\n",
    "    df['gender'] = LabelEncoder_X.fit_transform(df['gender'])\n",
    "    df['cholesterol'] = LabelEncoder_X.fit_transform(df['cholesterol'])\n",
    "    df['gluc'] = LabelEncoder_X.fit_transform(df['gluc'])\n",
    "    return df"
   ]
  },
  {
   "cell_type": "code",
   "execution_count": 67,
   "id": "c9cc1037",
   "metadata": {},
   "outputs": [],
   "source": [
    "def BPCategorize(x,y):\n",
    "    if x<=120 and y<=80:\n",
    "        return 'normal'\n",
    "    elif x<=129 and y<=80:\n",
    "        return 'elevated'\n",
    "    elif x<=139 or y<=89:\n",
    "        return 'high 1'\n",
    "    elif x<=180 or y<=120:\n",
    "        return \"high 2\"\n",
    "    elif x>180 or y>120:\n",
    "        return 'high 3'\n",
    "    else:\n",
    "        return None"
   ]
  },
  {
   "cell_type": "code",
   "execution_count": 68,
   "id": "79250d41",
   "metadata": {},
   "outputs": [],
   "source": [
    "# def gender(x, y):\n",
    "#     if x==1:\n",
    "#         return 'female'\n",
    "#     else:\n",
    "#         return 'male'\n",
    "\n",
    "def imp_feat(df):\n",
    "\n",
    "    # calculating bmi\n",
    "    df.insert(5, 'bmi', round((df['weight']/(df['height']/100)**2), 2))\n",
    "\n",
    "    # age days to years \n",
    "    df['age'] = df['age'].map(lambda x:round(x/365))\n",
    "\n",
    "    # inserting bllod pressure catogories\n",
    "    df.insert(8, \"bp_cat\", df.apply(lambda row: BPCategorize(row['ap_hi'], row['ap_lo']), axis=1))\n",
    "    df['bp_cat'].value_counts()\n",
    "    \n",
    "    # Inserting separate columns for gender\n",
    "    df.insert(3, \"female\", (df['gender']==1).astype(int))\n",
    "    df.insert(4, 'male', (df['gender']==0).astype(int))\n",
    "    \n",
    "    df.drop(['gender'], axis=1, inplace=True)\n",
    "    df = df.drop(columns = 'id')\n",
    "    return df"
   ]
  },
  {
   "cell_type": "markdown",
   "id": "7b91b81c",
   "metadata": {},
   "source": [
    "Preparing test data"
   ]
  },
  {
   "cell_type": "code",
   "execution_count": 69,
   "id": "b0cb73fe",
   "metadata": {},
   "outputs": [
    {
     "data": {
      "text/html": [
       "<div>\n",
       "<style scoped>\n",
       "    .dataframe tbody tr th:only-of-type {\n",
       "        vertical-align: middle;\n",
       "    }\n",
       "\n",
       "    .dataframe tbody tr th {\n",
       "        vertical-align: top;\n",
       "    }\n",
       "\n",
       "    .dataframe thead th {\n",
       "        text-align: right;\n",
       "    }\n",
       "</style>\n",
       "<table border=\"1\" class=\"dataframe\">\n",
       "  <thead>\n",
       "    <tr style=\"text-align: right;\">\n",
       "      <th></th>\n",
       "      <th>age</th>\n",
       "      <th>female</th>\n",
       "      <th>male</th>\n",
       "      <th>height</th>\n",
       "      <th>weight</th>\n",
       "      <th>bmi</th>\n",
       "      <th>ap_hi</th>\n",
       "      <th>ap_lo</th>\n",
       "      <th>cholesterol</th>\n",
       "      <th>gluc</th>\n",
       "      <th>smoke</th>\n",
       "      <th>alco</th>\n",
       "      <th>active</th>\n",
       "    </tr>\n",
       "  </thead>\n",
       "  <tbody>\n",
       "    <tr>\n",
       "      <th>0</th>\n",
       "      <td>55</td>\n",
       "      <td>0</td>\n",
       "      <td>1</td>\n",
       "      <td>156</td>\n",
       "      <td>57.0</td>\n",
       "      <td>23.42</td>\n",
       "      <td>110</td>\n",
       "      <td>70</td>\n",
       "      <td>2</td>\n",
       "      <td>2</td>\n",
       "      <td>0</td>\n",
       "      <td>1</td>\n",
       "      <td>0</td>\n",
       "    </tr>\n",
       "    <tr>\n",
       "      <th>1</th>\n",
       "      <td>50</td>\n",
       "      <td>0</td>\n",
       "      <td>1</td>\n",
       "      <td>160</td>\n",
       "      <td>60.0</td>\n",
       "      <td>23.44</td>\n",
       "      <td>120</td>\n",
       "      <td>80</td>\n",
       "      <td>2</td>\n",
       "      <td>2</td>\n",
       "      <td>0</td>\n",
       "      <td>0</td>\n",
       "      <td>1</td>\n",
       "    </tr>\n",
       "    <tr>\n",
       "      <th>2</th>\n",
       "      <td>56</td>\n",
       "      <td>1</td>\n",
       "      <td>0</td>\n",
       "      <td>170</td>\n",
       "      <td>80.0</td>\n",
       "      <td>27.68</td>\n",
       "      <td>140</td>\n",
       "      <td>69</td>\n",
       "      <td>2</td>\n",
       "      <td>2</td>\n",
       "      <td>0</td>\n",
       "      <td>0</td>\n",
       "      <td>1</td>\n",
       "    </tr>\n",
       "    <tr>\n",
       "      <th>3</th>\n",
       "      <td>64</td>\n",
       "      <td>0</td>\n",
       "      <td>1</td>\n",
       "      <td>158</td>\n",
       "      <td>80.0</td>\n",
       "      <td>32.05</td>\n",
       "      <td>160</td>\n",
       "      <td>90</td>\n",
       "      <td>1</td>\n",
       "      <td>2</td>\n",
       "      <td>0</td>\n",
       "      <td>0</td>\n",
       "      <td>1</td>\n",
       "    </tr>\n",
       "    <tr>\n",
       "      <th>4</th>\n",
       "      <td>56</td>\n",
       "      <td>0</td>\n",
       "      <td>1</td>\n",
       "      <td>158</td>\n",
       "      <td>92.0</td>\n",
       "      <td>36.85</td>\n",
       "      <td>140</td>\n",
       "      <td>90</td>\n",
       "      <td>2</td>\n",
       "      <td>0</td>\n",
       "      <td>0</td>\n",
       "      <td>0</td>\n",
       "      <td>0</td>\n",
       "    </tr>\n",
       "    <tr>\n",
       "      <th>...</th>\n",
       "      <td>...</td>\n",
       "      <td>...</td>\n",
       "      <td>...</td>\n",
       "      <td>...</td>\n",
       "      <td>...</td>\n",
       "      <td>...</td>\n",
       "      <td>...</td>\n",
       "      <td>...</td>\n",
       "      <td>...</td>\n",
       "      <td>...</td>\n",
       "      <td>...</td>\n",
       "      <td>...</td>\n",
       "      <td>...</td>\n",
       "    </tr>\n",
       "    <tr>\n",
       "      <th>245</th>\n",
       "      <td>54</td>\n",
       "      <td>0</td>\n",
       "      <td>1</td>\n",
       "      <td>162</td>\n",
       "      <td>64.0</td>\n",
       "      <td>24.39</td>\n",
       "      <td>110</td>\n",
       "      <td>70</td>\n",
       "      <td>2</td>\n",
       "      <td>2</td>\n",
       "      <td>0</td>\n",
       "      <td>0</td>\n",
       "      <td>1</td>\n",
       "    </tr>\n",
       "    <tr>\n",
       "      <th>246</th>\n",
       "      <td>53</td>\n",
       "      <td>0</td>\n",
       "      <td>1</td>\n",
       "      <td>162</td>\n",
       "      <td>80.0</td>\n",
       "      <td>30.48</td>\n",
       "      <td>150</td>\n",
       "      <td>90</td>\n",
       "      <td>1</td>\n",
       "      <td>2</td>\n",
       "      <td>0</td>\n",
       "      <td>0</td>\n",
       "      <td>1</td>\n",
       "    </tr>\n",
       "    <tr>\n",
       "      <th>247</th>\n",
       "      <td>51</td>\n",
       "      <td>0</td>\n",
       "      <td>1</td>\n",
       "      <td>170</td>\n",
       "      <td>62.0</td>\n",
       "      <td>21.45</td>\n",
       "      <td>120</td>\n",
       "      <td>60</td>\n",
       "      <td>2</td>\n",
       "      <td>2</td>\n",
       "      <td>0</td>\n",
       "      <td>0</td>\n",
       "      <td>1</td>\n",
       "    </tr>\n",
       "    <tr>\n",
       "      <th>248</th>\n",
       "      <td>54</td>\n",
       "      <td>0</td>\n",
       "      <td>1</td>\n",
       "      <td>162</td>\n",
       "      <td>95.0</td>\n",
       "      <td>36.20</td>\n",
       "      <td>130</td>\n",
       "      <td>80</td>\n",
       "      <td>2</td>\n",
       "      <td>2</td>\n",
       "      <td>0</td>\n",
       "      <td>0</td>\n",
       "      <td>1</td>\n",
       "    </tr>\n",
       "    <tr>\n",
       "      <th>249</th>\n",
       "      <td>54</td>\n",
       "      <td>0</td>\n",
       "      <td>1</td>\n",
       "      <td>153</td>\n",
       "      <td>75.0</td>\n",
       "      <td>32.04</td>\n",
       "      <td>140</td>\n",
       "      <td>80</td>\n",
       "      <td>2</td>\n",
       "      <td>2</td>\n",
       "      <td>0</td>\n",
       "      <td>0</td>\n",
       "      <td>1</td>\n",
       "    </tr>\n",
       "  </tbody>\n",
       "</table>\n",
       "<p>250 rows × 13 columns</p>\n",
       "</div>"
      ],
      "text/plain": [
       "     age  female  male  height  weight    bmi  ap_hi  ap_lo  cholesterol  \\\n",
       "0     55       0     1     156    57.0  23.42    110     70            2   \n",
       "1     50       0     1     160    60.0  23.44    120     80            2   \n",
       "2     56       1     0     170    80.0  27.68    140     69            2   \n",
       "3     64       0     1     158    80.0  32.05    160     90            1   \n",
       "4     56       0     1     158    92.0  36.85    140     90            2   \n",
       "..   ...     ...   ...     ...     ...    ...    ...    ...          ...   \n",
       "245   54       0     1     162    64.0  24.39    110     70            2   \n",
       "246   53       0     1     162    80.0  30.48    150     90            1   \n",
       "247   51       0     1     170    62.0  21.45    120     60            2   \n",
       "248   54       0     1     162    95.0  36.20    130     80            2   \n",
       "249   54       0     1     153    75.0  32.04    140     80            2   \n",
       "\n",
       "     gluc  smoke  alco  active  \n",
       "0       2      0     1       0  \n",
       "1       2      0     0       1  \n",
       "2       2      0     0       1  \n",
       "3       2      0     0       1  \n",
       "4       0      0     0       0  \n",
       "..    ...    ...   ...     ...  \n",
       "245     2      0     0       1  \n",
       "246     2      0     0       1  \n",
       "247     2      0     0       1  \n",
       "248     2      0     0       1  \n",
       "249     2      0     0       1  \n",
       "\n",
       "[250 rows x 13 columns]"
      ]
     },
     "execution_count": 69,
     "metadata": {},
     "output_type": "execute_result"
    }
   ],
   "source": [
    "tst_df = test_df.copy()\n",
    "tst_df = cat_to_num(tst_df)\n",
    "tst_df = imp_feat(tst_df)\n",
    "tst_df = tst_df.drop(columns='bp_cat')\n",
    "tst_df"
   ]
  },
  {
   "cell_type": "markdown",
   "id": "fcfc1d3c",
   "metadata": {},
   "source": [
    "Drop columns and renaming datasets for training different models"
   ]
  },
  {
   "cell_type": "code",
   "execution_count": 70,
   "id": "0c9b3119",
   "metadata": {},
   "outputs": [],
   "source": [
    "# testing data\n",
    "X_test = tst_df.copy()\n",
    "X_test_no_bmi = tst_df.drop(columns = 'bmi').copy()"
   ]
  },
  {
   "cell_type": "markdown",
   "id": "8357d754",
   "metadata": {},
   "source": [
    "#### dropna_df"
   ]
  },
  {
   "cell_type": "code",
   "execution_count": 71,
   "id": "c975c7d4",
   "metadata": {
    "scrolled": true
   },
   "outputs": [],
   "source": [
    "dropna_df1 = dropna_df.copy()\n",
    "dropna_df1 = cat_to_num(dropna_df1)\n",
    "dropna_df1 = imp_feat(dropna_df1)\n",
    "\n",
    "X_train_dropna_df1 = dropna_df1.drop(['cardio', 'bp_cat'], axis=1)\n",
    "y_train_dropna_df1 = dropna_df1['cardio']"
   ]
  },
  {
   "cell_type": "markdown",
   "id": "cdb373ba",
   "metadata": {},
   "source": [
    "#### replace_zero_df"
   ]
  },
  {
   "cell_type": "code",
   "execution_count": 72,
   "id": "3369da4f",
   "metadata": {},
   "outputs": [],
   "source": [
    "replace_zero_df1 = replace_zero_df.copy()\n",
    "replace_zero_df1 = cat_to_num(replace_zero_df1)\n",
    "replace_zero_df1 = imp_feat(replace_zero_df1)\n",
    "\n",
    "X_train_replace_zero_df1 = replace_zero_df1.drop(['cardio', 'bp_cat', 'bmi'], axis=1)\n",
    "y_train_replace_zero_df1 = replace_zero_df1['cardio']"
   ]
  },
  {
   "cell_type": "markdown",
   "id": "8d29695d",
   "metadata": {},
   "source": [
    "#### replace_max_df"
   ]
  },
  {
   "cell_type": "code",
   "execution_count": 73,
   "id": "e15c9939",
   "metadata": {},
   "outputs": [],
   "source": [
    "replace_max_df1 = replace_max_df.copy()\n",
    "replace_max_df1 = cat_to_num(replace_max_df1)\n",
    "replace_max_df1 = imp_feat(replace_max_df1)\n",
    "\n",
    "X_train_replace_max_df1 = replace_max_df1.drop(['cardio', 'bp_cat'], axis=1)\n",
    "y_train_replace_max_df1 = replace_max_df1['cardio']"
   ]
  },
  {
   "cell_type": "markdown",
   "id": "631bcf20",
   "metadata": {},
   "source": [
    "#### replace_mean_df"
   ]
  },
  {
   "cell_type": "code",
   "execution_count": 74,
   "id": "43da3012",
   "metadata": {},
   "outputs": [],
   "source": [
    "replace_mean_df1 = replace_mean_df.copy()\n",
    "replace_mean_df1 = cat_to_num(replace_mean_df1)\n",
    "replace_mean_df1 = imp_feat(replace_mean_df1)\n",
    "\n",
    "X_train_replace_mean_df1 = replace_mean_df1.drop(['cardio', 'bp_cat'], axis=1)\n",
    "y_train_replace_mean_df1 = replace_mean_df1['cardio']"
   ]
  },
  {
   "cell_type": "markdown",
   "id": "5c779aee",
   "metadata": {},
   "source": [
    "#### interpolate_df"
   ]
  },
  {
   "cell_type": "code",
   "execution_count": 75,
   "id": "eb687b0b",
   "metadata": {},
   "outputs": [],
   "source": [
    "interpolate_df1 = interpolate_df.copy()\n",
    "interpolate_df1 = cat_to_num(interpolate_df1)\n",
    "interpolate_df1 = imp_feat(interpolate_df1)\n",
    "\n",
    "X_train_interpolate_df1 = interpolate_df1.drop(['cardio', 'bp_cat'], axis=1)\n",
    "y_train_interpolate_df1 = interpolate_df1['cardio']"
   ]
  },
  {
   "cell_type": "markdown",
   "id": "8adacdb7",
   "metadata": {},
   "source": [
    "### Logistic Regression"
   ]
  },
  {
   "cell_type": "code",
   "execution_count": 76,
   "id": "669be78e",
   "metadata": {},
   "outputs": [],
   "source": [
    "def logistic_reg(X_train,y_train,X_test):\n",
    "    logreg_model = LogisticRegression()\n",
    "    logreg_model.fit(X_train, y_train)\n",
    "    logreg_pred = logreg_model.predict(X_test)\n",
    "    Train_accuracy = accuracy_score(y_train,logreg_model.predict(X_train))\n",
    "    print(f\"Train accuracy : {Train_accuracy}\")\n",
    "    return logreg_pred"
   ]
  },
  {
   "cell_type": "code",
   "execution_count": 77,
   "id": "0c864dd8",
   "metadata": {},
   "outputs": [
    {
     "name": "stdout",
     "output_type": "stream",
     "text": [
      "Train accuracy : 0.7441860465116279\n"
     ]
    }
   ],
   "source": [
    "# Predictions of dropna_df, kaggle accuracy = 67.2\n",
    "\n",
    "logreg_pred_dropna_df = logistic_reg(X_train_dropna_df1,y_train_dropna_df1,X_test) \n",
    "# sub(logreg_pred_dropna_df, name='Logistic_reg_dropna_df')"
   ]
  },
  {
   "cell_type": "code",
   "execution_count": 78,
   "id": "db878e1d",
   "metadata": {},
   "outputs": [
    {
     "name": "stdout",
     "output_type": "stream",
     "text": [
      "Train accuracy : 0.604251012145749\n"
     ]
    }
   ],
   "source": [
    "# Predictions of replace_zero_df, kaggle accuracy=70.4\n",
    "\n",
    "logreg_pred_replace_zero_df = logistic_reg(X_train_replace_zero_df1,y_train_replace_zero_df1,X_test_no_bmi) \n",
    "# sub(logreg_pred_replace_zero_df, name='Logistic_reg_replace_zero_df')"
   ]
  },
  {
   "cell_type": "code",
   "execution_count": 79,
   "id": "058df7f7",
   "metadata": {},
   "outputs": [
    {
     "name": "stdout",
     "output_type": "stream",
     "text": [
      "Train accuracy : 0.6204453441295547\n"
     ]
    }
   ],
   "source": [
    "# Predictions of replace_max_df, kaggle accuracy=69.6\n",
    "\n",
    "logreg_pred_replace_max_df = logistic_reg(X_train_replace_max_df1,y_train_replace_max_df1,X_test) \n",
    "# sub(logreg_pred_replace_max_df, name='Logistic_reg_replace_max_df')"
   ]
  },
  {
   "cell_type": "code",
   "execution_count": 80,
   "id": "c7269d8f",
   "metadata": {},
   "outputs": [
    {
     "name": "stdout",
     "output_type": "stream",
     "text": [
      "Train accuracy : 0.708502024291498\n"
     ]
    }
   ],
   "source": [
    "# Predictions of replace_mean_df, kaggle accuracy=70.4\n",
    "\n",
    "logreg_pred_replace_mean_df = logistic_reg(X_train_replace_mean_df1,y_train_replace_mean_df1,X_test) \n",
    "# sub(logreg_pred_replace_mean_df, name='Logistic_reg_replace_mean_df')"
   ]
  },
  {
   "cell_type": "code",
   "execution_count": 118,
   "id": "24780543",
   "metadata": {},
   "outputs": [
    {
     "name": "stdout",
     "output_type": "stream",
     "text": [
      "Train accuracy : 0.6852226720647774\n"
     ]
    }
   ],
   "source": [
    "# Predictions of interpolate_df, kaggle accuracy=\n",
    "\n",
    "logreg_pred_interpolate_df = logistic_reg(X_train_interpolate_df1,y_train_interpolate_df1,X_test) \n",
    "#sub(logreg_pred_interpolate_df, name='Logistic_reg_interpolate_df')"
   ]
  },
  {
   "cell_type": "markdown",
   "id": "5f37f36c",
   "metadata": {},
   "source": [
    "### SVM"
   ]
  },
  {
   "cell_type": "code",
   "execution_count": 82,
   "id": "fd0beda6",
   "metadata": {},
   "outputs": [],
   "source": [
    "def svc(X_train,y_train,X_test,C):\n",
    "    svc_model = SVC(C=C, gamma=0.00001, kernel=\"rbf\", random_state=42)\n",
    "    svc_model.fit(X_train,y_train)\n",
    "    svc_pred = svc_model.predict(X_test)\n",
    "    Train_accuracy = accuracy_score(y_train,svc_model.predict(X_train))\n",
    "    print(f\"Train accuracy : {Train_accuracy}\")\n",
    "    return svc_pred "
   ]
  },
  {
   "cell_type": "code",
   "execution_count": 83,
   "id": "24df71e6",
   "metadata": {},
   "outputs": [],
   "source": [
    "# Predictions of dropna_df, kaggle accuracy = 69.6 when using linear kernal accuracy = 53.6"
   ]
  },
  {
   "cell_type": "code",
   "execution_count": 84,
   "id": "9b36cfae",
   "metadata": {},
   "outputs": [
    {
     "data": {
      "text/plain": [
       "{'C': 40, 'gamma': 1e-05, 'kernel': 'rbf'}"
      ]
     },
     "execution_count": 84,
     "metadata": {},
     "output_type": "execute_result"
    }
   ],
   "source": [
    "svc_param_grid = {'C': [40,50,60],  \n",
    "              'gamma': [0.00001, 0.000001], \n",
    "              'kernel': ['rbf','linear']}  \n",
    "  \n",
    "grid = GridSearchCV(SVC(), svc_param_grid, refit = True, verbose = 0) \n",
    "\n",
    "# fitting the model for grid search \n",
    "grid.fit(X_train_dropna_df1, y_train_dropna_df1) \n",
    "\n",
    "# find best params\n",
    "grid.best_params_"
   ]
  },
  {
   "cell_type": "code",
   "execution_count": 85,
   "id": "384447b3",
   "metadata": {},
   "outputs": [
    {
     "name": "stdout",
     "output_type": "stream",
     "text": [
      "Train accuracy : 0.7441860465116279\n"
     ]
    }
   ],
   "source": [
    "svc_pred_dropna_df = svc(X_train_dropna_df1, y_train_dropna_df1,X_test,40)\n",
    "# sub(svc_pred_dropna_df, name='svc_dropna_df')"
   ]
  },
  {
   "cell_type": "code",
   "execution_count": 86,
   "id": "cb8b1a4c",
   "metadata": {},
   "outputs": [],
   "source": [
    "# Predictions of replace_zero_df, kaggle accuracy = 70.4"
   ]
  },
  {
   "cell_type": "code",
   "execution_count": 87,
   "id": "216f8c52",
   "metadata": {},
   "outputs": [
    {
     "data": {
      "text/plain": [
       "{'kernel': 'rbf', 'gamma': 1e-05, 'C': 120}"
      ]
     },
     "execution_count": 87,
     "metadata": {},
     "output_type": "execute_result"
    }
   ],
   "source": [
    "svc_param_grid = {'C': [80,100,120],  \n",
    "              'gamma': [0.00001, 0.000001], \n",
    "              'kernel': ['rbf']}  \n",
    "  \n",
    "rs = RandomizedSearchCV(SVC(), svc_param_grid, refit = True, verbose = 0) \n",
    "\n",
    "# fitting the model for grid search \n",
    "rs.fit(X_train_replace_zero_df1,y_train_replace_zero_df1) \n",
    "\n",
    "# find best params\n",
    "rs.best_params_"
   ]
  },
  {
   "cell_type": "code",
   "execution_count": 88,
   "id": "460f6556",
   "metadata": {},
   "outputs": [
    {
     "name": "stdout",
     "output_type": "stream",
     "text": [
      "Train accuracy : 0.7246963562753036\n"
     ]
    }
   ],
   "source": [
    "svc_pred_replace_zero_df = svc(X_train_replace_zero_df1,y_train_replace_zero_df1,X_test_no_bmi,120)\n",
    "# sub(svc_pred_replace_zero_df, name='svc_replace_zero_df')"
   ]
  },
  {
   "cell_type": "code",
   "execution_count": 89,
   "id": "ad2e35c4",
   "metadata": {},
   "outputs": [],
   "source": [
    "# Predictions of replace_max_df, kaggle accuracy = 68.0"
   ]
  },
  {
   "cell_type": "code",
   "execution_count": 90,
   "id": "feb385ba",
   "metadata": {},
   "outputs": [
    {
     "data": {
      "text/plain": [
       "{'kernel': 'rbf', 'gamma': 1e-05, 'C': 50}"
      ]
     },
     "execution_count": 90,
     "metadata": {},
     "output_type": "execute_result"
    }
   ],
   "source": [
    "svc_param_grid = {'C': [40,50,60],  \n",
    "              'gamma': [0.00001, 0.000001], \n",
    "              'kernel': ['rbf']}  \n",
    "  \n",
    "rs = RandomizedSearchCV(SVC(), svc_param_grid, refit = True, verbose = 0) \n",
    "\n",
    "# fitting the model for grid search \n",
    "rs.fit(X_train_replace_max_df1,y_train_replace_max_df1) \n",
    "\n",
    "# find best params\n",
    "rs.best_params_"
   ]
  },
  {
   "cell_type": "code",
   "execution_count": 91,
   "id": "ee799e24",
   "metadata": {},
   "outputs": [
    {
     "name": "stdout",
     "output_type": "stream",
     "text": [
      "Train accuracy : 0.6831983805668016\n"
     ]
    }
   ],
   "source": [
    "svc_pred_replace_max_df = svc(X_train_replace_max_df1,y_train_replace_max_df1,X_test,50)\n",
    "# sub(svc_pred_replace_max_df, name='svc_replace_max_df')"
   ]
  },
  {
   "cell_type": "code",
   "execution_count": 92,
   "id": "355f2cd9",
   "metadata": {},
   "outputs": [],
   "source": [
    "# Predictions of replace_mean_df, kaggle accuracy = 72.8"
   ]
  },
  {
   "cell_type": "code",
   "execution_count": 93,
   "id": "84d62ce8",
   "metadata": {},
   "outputs": [
    {
     "data": {
      "text/plain": [
       "{'C': 100, 'gamma': 1e-05, 'kernel': 'rbf'}"
      ]
     },
     "execution_count": 93,
     "metadata": {},
     "output_type": "execute_result"
    }
   ],
   "source": [
    "svc_param_grid = {'C': [40,50,60,100],  \n",
    "              'gamma': [0.00001, 0.000001], \n",
    "              'kernel': ['rbf']}  \n",
    "  \n",
    "grid = GridSearchCV(SVC(), svc_param_grid, refit = True, verbose = 0) \n",
    "\n",
    "# fitting the model for grid search \n",
    "grid.fit(X_train_replace_mean_df1,y_train_replace_mean_df1)\n",
    "\n",
    "grid.best_params_"
   ]
  },
  {
   "cell_type": "code",
   "execution_count": 120,
   "id": "e0596534",
   "metadata": {},
   "outputs": [
    {
     "name": "stdout",
     "output_type": "stream",
     "text": [
      "Train accuracy : 0.7054655870445344\n"
     ]
    }
   ],
   "source": [
    "svc_pred_replace_mean_df = svc(X_train_replace_mean_df1,y_train_replace_mean_df1,X_test,100)\n",
    "#sub(svc_pred_replace_mean_df, name='svc_replace_mean_df')"
   ]
  },
  {
   "cell_type": "code",
   "execution_count": 95,
   "id": "0d41cae9",
   "metadata": {},
   "outputs": [],
   "source": [
    "# Predictions of interpolate_df, kaggle accuracy = 69.6"
   ]
  },
  {
   "cell_type": "code",
   "execution_count": 96,
   "id": "d093741d",
   "metadata": {},
   "outputs": [
    {
     "data": {
      "text/plain": [
       "{'kernel': 'rbf', 'gamma': 1e-06, 'C': 60}"
      ]
     },
     "execution_count": 96,
     "metadata": {},
     "output_type": "execute_result"
    }
   ],
   "source": [
    "svc_param_grid = {'C': [40,50,60],  \n",
    "              'gamma': [0.00001, 0.000001], \n",
    "              'kernel': ['rbf']}  \n",
    "  \n",
    "rs = RandomizedSearchCV(SVC(), svc_param_grid, refit = True, verbose = 0) \n",
    "\n",
    "# fitting the model for grid search \n",
    "rs.fit(X_train_interpolate_df1,y_train_interpolate_df1) \n",
    "\n",
    "# find best params\n",
    "rs.best_params_"
   ]
  },
  {
   "cell_type": "code",
   "execution_count": 97,
   "id": "f409ae0d",
   "metadata": {},
   "outputs": [
    {
     "name": "stdout",
     "output_type": "stream",
     "text": [
      "Train accuracy : 0.6852226720647774\n"
     ]
    }
   ],
   "source": [
    "svc_pred_interpolate_df = svc(X_train_interpolate_df1,y_train_interpolate_df1,X_test,60)\n",
    "# sub(svc_pred_interpolate_df, name='svc_interpolate_df')"
   ]
  },
  {
   "cell_type": "markdown",
   "id": "b6ba4525",
   "metadata": {},
   "source": [
    "##### The best results so far are from replace_mean_df. We will experiment on replace_mean_df from here on"
   ]
  },
  {
   "cell_type": "code",
   "execution_count": 98,
   "id": "654074e8",
   "metadata": {},
   "outputs": [],
   "source": [
    "# Ridge classifier, kaggle accuracy = 72\n",
    "\n",
    "def ridgeclf(X_train,y_train):  \n",
    "    ridge_classifier = RidgeClassifier()\n",
    "    ridge_classifier.fit(X_train,y_train)\n",
    "    ridge_pred = ridge_classifier.predict(X_test)\n",
    "    print(f\"Train accuracy: {round(ridge_classifier.score(X_train, y_train) * 100, 2)}\")\n",
    "    return ridge_pred "
   ]
  },
  {
   "cell_type": "code",
   "execution_count": 99,
   "id": "906bfb3d",
   "metadata": {
    "scrolled": true
   },
   "outputs": [
    {
     "name": "stdout",
     "output_type": "stream",
     "text": [
      "Train accuracy: 71.66\n"
     ]
    }
   ],
   "source": [
    "ridgeclf_pred = ridgeclf(X_train_replace_mean_df1,y_train_replace_mean_df1)\n",
    "# sub(ridgeclf_pred, name='ridgeclf_pred')"
   ]
  },
  {
   "cell_type": "code",
   "execution_count": 100,
   "id": "ae2fb994",
   "metadata": {},
   "outputs": [],
   "source": [
    "dtp = {'max_depth': [3,5,7,10],\n",
    " 'min_samples_leaf': [1,3,5,7],\n",
    "       'criterion': ['gini','entropy']}"
   ]
  },
  {
   "cell_type": "code",
   "execution_count": 101,
   "id": "ac718e7d",
   "metadata": {},
   "outputs": [],
   "source": [
    "dtm = RandomizedSearchCV(DecisionTreeClassifier(),\n",
    "                              param_distributions = dtp,\n",
    "                              n_iter = 100,\n",
    "                              cv = 5, verbose=0,\n",
    "                              random_state=0,\n",
    "                              n_jobs = -1)"
   ]
  },
  {
   "cell_type": "code",
   "execution_count": 102,
   "id": "1a32d225",
   "metadata": {},
   "outputs": [
    {
     "data": {
      "text/plain": [
       "RandomizedSearchCV(cv=5, estimator=DecisionTreeClassifier(), n_iter=100,\n",
       "                   n_jobs=-1,\n",
       "                   param_distributions={'criterion': ['gini', 'entropy'],\n",
       "                                        'max_depth': [3, 5, 7, 10],\n",
       "                                        'min_samples_leaf': [1, 3, 5, 7]},\n",
       "                   random_state=0)"
      ]
     },
     "execution_count": 102,
     "metadata": {},
     "output_type": "execute_result"
    }
   ],
   "source": [
    "dtm.fit(X_train_replace_mean_df1,y_train_replace_mean_df1)"
   ]
  },
  {
   "cell_type": "code",
   "execution_count": 103,
   "id": "31bb6470",
   "metadata": {},
   "outputs": [
    {
     "data": {
      "text/plain": [
       "{'min_samples_leaf': 1, 'max_depth': 3, 'criterion': 'gini'}"
      ]
     },
     "execution_count": 103,
     "metadata": {},
     "output_type": "execute_result"
    }
   ],
   "source": [
    "dtm.best_params_"
   ]
  },
  {
   "cell_type": "code",
   "execution_count": 104,
   "id": "0eccb7bf",
   "metadata": {},
   "outputs": [],
   "source": [
    "# Decision Tree Classifier, kaggle accuracy = 67.2\n",
    "\n",
    "def decisiontree(X_train,y_train,crit,depth):\n",
    "    decision_tree = DecisionTreeClassifier(criterion=crit, max_depth=depth)\n",
    "    decision_tree.fit(X_train,y_train)\n",
    "    decision_pred = decision_tree.predict(X_test)\n",
    "    print(f\"Train accuracy: {round(decision_tree.score(X_train, y_train) * 100, 2)}\")\n",
    "    return decision_pred"
   ]
  },
  {
   "cell_type": "code",
   "execution_count": 105,
   "id": "87a37c32",
   "metadata": {},
   "outputs": [
    {
     "name": "stdout",
     "output_type": "stream",
     "text": [
      "Train accuracy: 71.66\n"
     ]
    }
   ],
   "source": [
    "decision_pred = decisiontree(X_train_replace_mean_df1,y_train_replace_mean_df1,'entropy',3)\n",
    "# sub(decision_pred, name='decision_pred')"
   ]
  },
  {
   "cell_type": "code",
   "execution_count": 106,
   "id": "f5bafb6e",
   "metadata": {},
   "outputs": [],
   "source": [
    "rrfp = {'max_depth': [3,5,7,10],\n",
    " 'min_samples_leaf': [1,3,5,7],\n",
    " 'n_estimators': [20,35,51]}"
   ]
  },
  {
   "cell_type": "code",
   "execution_count": 107,
   "id": "8a251460",
   "metadata": {},
   "outputs": [],
   "source": [
    "rrfm = RandomizedSearchCV(RandomForestClassifier(),\n",
    "                              param_distributions = rrfp,\n",
    "                              n_iter = 100,\n",
    "                              cv = 5, verbose=0,\n",
    "                              random_state=0,\n",
    "                              n_jobs = -1)"
   ]
  },
  {
   "cell_type": "code",
   "execution_count": 108,
   "id": "10edece4",
   "metadata": {},
   "outputs": [
    {
     "data": {
      "text/plain": [
       "RandomizedSearchCV(cv=5, estimator=RandomForestClassifier(), n_iter=100,\n",
       "                   n_jobs=-1,\n",
       "                   param_distributions={'max_depth': [3, 5, 7, 10],\n",
       "                                        'min_samples_leaf': [1, 3, 5, 7],\n",
       "                                        'n_estimators': [20, 35, 51]},\n",
       "                   random_state=0)"
      ]
     },
     "execution_count": 108,
     "metadata": {},
     "output_type": "execute_result"
    }
   ],
   "source": [
    "rrfm.fit(X_train_replace_mean_df1,y_train_replace_mean_df1)"
   ]
  },
  {
   "cell_type": "code",
   "execution_count": 109,
   "id": "3c102747",
   "metadata": {},
   "outputs": [
    {
     "data": {
      "text/plain": [
       "{'n_estimators': 35, 'min_samples_leaf': 7, 'max_depth': 7}"
      ]
     },
     "execution_count": 109,
     "metadata": {},
     "output_type": "execute_result"
    }
   ],
   "source": [
    "rrfm.best_params_"
   ]
  },
  {
   "cell_type": "code",
   "execution_count": 110,
   "id": "64b9fa7f",
   "metadata": {},
   "outputs": [],
   "source": [
    "# Random Forest Classifier, kaggle accuracy = 69.6\n",
    "\n",
    "def random_forest(X_train,y_train,depth,est,leaf):\n",
    "    random_model = RandomForestClassifier(n_estimators=est, max_depth=depth, min_samples_leaf=leaf, random_state=0)\n",
    "    random_model.fit(X_train,y_train)\n",
    "    random_pred = random_model.predict(X_test)\n",
    "    print(f\"Train accuracy: {round(random_model.score(X_train, y_train) * 100, 2)}\")\n",
    "    return random_pred"
   ]
  },
  {
   "cell_type": "code",
   "execution_count": 111,
   "id": "d1d95145",
   "metadata": {},
   "outputs": [
    {
     "name": "stdout",
     "output_type": "stream",
     "text": [
      "Train accuracy: 78.04\n"
     ]
    }
   ],
   "source": [
    "random_pred = random_forest(X_train_replace_mean_df1,y_train_replace_mean_df1,7,51,7)\n",
    "# sub(random_pred, name='random_pred')"
   ]
  },
  {
   "cell_type": "markdown",
   "id": "f67d74e9",
   "metadata": {},
   "source": [
    "#### Best Model - SVM model with replace_mean_df with kaggle accuracy 72.8"
   ]
  },
  {
   "cell_type": "code",
   "execution_count": 112,
   "id": "82ee810d",
   "metadata": {},
   "outputs": [
    {
     "data": {
      "text/plain": [
       "<AxesSubplot:xlabel='bp_cat', ylabel='cardio'>"
      ]
     },
     "execution_count": 112,
     "metadata": {},
     "output_type": "execute_result"
    },
    {
     "data": {
      "image/png": "[encoded data removed]",
      "text/plain": [
       "<Figure size 432x288 with 1 Axes>"
      ]
     },
     "metadata": {
      "needs_background": "light"
     },
     "output_type": "display_data"
    }
   ],
   "source": [
    "# Visualizing bp_cat from the best model\n",
    "\n",
    "df_bp = replace_mean_df1.groupby('bp_cat').mean()\n",
    "sns.barplot(data=df_bp, x=df_bp.index, y='cardio', color=base_color,\n",
    "           order=['normal', 'elevated', 'high 1', 'high 2'])\n",
    "#plt.savefig('bar_bpcat.jpeg')"
   ]
  },
  {
   "cell_type": "markdown",
   "id": "e6a60c43",
   "metadata": {},
   "source": [
    "##### m. At least one of the models used to compute should be your own implementation using NumPy."
   ]
  },
  {
   "cell_type": "code",
   "execution_count": 113,
   "id": "53ca379c",
   "metadata": {},
   "outputs": [],
   "source": [
    "X = replace_mean_df1.drop(['cardio', 'bp_cat'], axis=1)\n",
    "y = replace_mean_df1['cardio']\n",
    "t =  tst_df.copy() "
   ]
  },
  {
   "cell_type": "code",
   "execution_count": 114,
   "id": "166a3384",
   "metadata": {},
   "outputs": [],
   "source": [
    "class LogisticRegression_own:\n",
    "    def __init__(self, lr=0.01, num_iter=100000, fit_intercept=True, verbose=False):\n",
    "        self.lr = lr\n",
    "        self.num_iter = num_iter\n",
    "        self.fit_intercept = fit_intercept\n",
    "        self.verbose = verbose\n",
    "    \n",
    "    def __add_intercept(self, X):\n",
    "        intercept = np.ones((X.shape[0], 1))\n",
    "        return np.concatenate((intercept, X), axis=1)\n",
    "    \n",
    "    def __sigmoid(self, z):\n",
    "        return 1 / (1 + np.exp(-z))\n",
    "    def __loss(self, h, y):\n",
    "        return (-y * np.log(h) - (1 - y) * np.log(1 - h)).mean()\n",
    "    \n",
    "    def fit(self, X, y):\n",
    "        if self.fit_intercept:\n",
    "            X = self.__add_intercept(X)\n",
    "        \n",
    "        # weights initialization\n",
    "        self.theta = np.zeros(X.shape[1])\n",
    "        \n",
    "        for i in range(self.num_iter):\n",
    "            z = np.dot(X, self.theta)\n",
    "            h = self.__sigmoid(z)\n",
    "            gradient = np.dot(X.T, (h - y)) / y.size\n",
    "            self.theta -= self.lr * gradient\n",
    "            \n",
    "            z = np.dot(X, self.theta)\n",
    "            h = self.__sigmoid(z)\n",
    "            loss = self.__loss(h, y)\n",
    "                \n",
    "            if(self.verbose ==True and i % 10000 == 0):\n",
    "                print(f'loss: {loss} \\t')\n",
    "    \n",
    "    def predict_prob(self, X):\n",
    "        if self.fit_intercept:\n",
    "            X = self.__add_intercept(X)\n",
    "    \n",
    "        return self.__sigmoid(np.dot(X, self.theta))\n",
    "    \n",
    "    def predict(self, X):\n",
    "        return self.predict_prob(X).astype(int)"
   ]
  },
  {
   "cell_type": "code",
   "execution_count": 115,
   "id": "ec90b4ac",
   "metadata": {},
   "outputs": [],
   "source": [
    "model = LogisticRegression_own(lr=0.1, num_iter=300000)"
   ]
  },
  {
   "cell_type": "code",
   "execution_count": 116,
   "id": "252494a6",
   "metadata": {},
   "outputs": [],
   "source": [
    "model.fit(X, y)"
   ]
  },
  {
   "cell_type": "code",
   "execution_count": 121,
   "id": "91da7500",
   "metadata": {},
   "outputs": [
    {
     "data": {
      "text/plain": [
       "0.6234817813765182"
      ]
     },
     "execution_count": 121,
     "metadata": {},
     "output_type": "execute_result"
    }
   ],
   "source": [
    "preds = model.predict(X)\n",
    "accuracy_score(y,preds)"
   ]
  },
  {
   "cell_type": "code",
   "execution_count": 122,
   "id": "4dda84f8",
   "metadata": {
    "scrolled": false
   },
   "outputs": [],
   "source": [
    "test_preds = model.predict(t)"
   ]
  },
  {
   "cell_type": "markdown",
   "id": "6269f802",
   "metadata": {},
   "source": [
    "Kaggle accuaracy: 57.6"
   ]
  },
  {
   "cell_type": "markdown",
   "id": "8fb329c7",
   "metadata": {},
   "source": [
    "#  TASK 2"
   ]
  },
  {
   "cell_type": "markdown",
   "id": "63c39798",
   "metadata": {},
   "source": [
    "##### 1. Split the dataset in train and test samples"
   ]
  },
  {
   "cell_type": "code",
   "execution_count": 123,
   "id": "7592a10f",
   "metadata": {},
   "outputs": [],
   "source": [
    "cardio_complete_df = pd.read_csv(r\"C:\\Users\\janah\\Desktop\\ML - 257\\Assignments\\1LAB\\Lab1\\Datasets/cardio-complete .csv\",sep = ',')"
   ]
  },
  {
   "cell_type": "code",
   "execution_count": 124,
   "id": "c6704fb7",
   "metadata": {},
   "outputs": [
    {
     "data": {
      "text/html": [
       "<div>\n",
       "<style scoped>\n",
       "    .dataframe tbody tr th:only-of-type {\n",
       "        vertical-align: middle;\n",
       "    }\n",
       "\n",
       "    .dataframe tbody tr th {\n",
       "        vertical-align: top;\n",
       "    }\n",
       "\n",
       "    .dataframe thead th {\n",
       "        text-align: right;\n",
       "    }\n",
       "</style>\n",
       "<table border=\"1\" class=\"dataframe\">\n",
       "  <thead>\n",
       "    <tr style=\"text-align: right;\">\n",
       "      <th></th>\n",
       "      <th>id</th>\n",
       "      <th>age</th>\n",
       "      <th>gender</th>\n",
       "      <th>height</th>\n",
       "      <th>weight</th>\n",
       "      <th>ap_hi</th>\n",
       "      <th>ap_lo</th>\n",
       "      <th>cholesterol</th>\n",
       "      <th>gluc</th>\n",
       "      <th>smoke</th>\n",
       "      <th>alco</th>\n",
       "      <th>active</th>\n",
       "      <th>cardio</th>\n",
       "    </tr>\n",
       "  </thead>\n",
       "  <tbody>\n",
       "    <tr>\n",
       "      <th>0</th>\n",
       "      <td>66667</td>\n",
       "      <td>20252</td>\n",
       "      <td>Women</td>\n",
       "      <td>161</td>\n",
       "      <td>62.0</td>\n",
       "      <td>140</td>\n",
       "      <td>90</td>\n",
       "      <td>High</td>\n",
       "      <td>High</td>\n",
       "      <td>0</td>\n",
       "      <td>0</td>\n",
       "      <td>1</td>\n",
       "      <td>1</td>\n",
       "    </tr>\n",
       "    <tr>\n",
       "      <th>1</th>\n",
       "      <td>22956</td>\n",
       "      <td>21129</td>\n",
       "      <td>Men</td>\n",
       "      <td>166</td>\n",
       "      <td>66.0</td>\n",
       "      <td>125</td>\n",
       "      <td>70</td>\n",
       "      <td>Normal</td>\n",
       "      <td>Normal</td>\n",
       "      <td>1</td>\n",
       "      <td>0</td>\n",
       "      <td>1</td>\n",
       "      <td>0</td>\n",
       "    </tr>\n",
       "    <tr>\n",
       "      <th>2</th>\n",
       "      <td>40536</td>\n",
       "      <td>16602</td>\n",
       "      <td>Men</td>\n",
       "      <td>160</td>\n",
       "      <td>74.0</td>\n",
       "      <td>140</td>\n",
       "      <td>90</td>\n",
       "      <td>Normal</td>\n",
       "      <td>Normal</td>\n",
       "      <td>0</td>\n",
       "      <td>0</td>\n",
       "      <td>1</td>\n",
       "      <td>0</td>\n",
       "    </tr>\n",
       "    <tr>\n",
       "      <th>3</th>\n",
       "      <td>39712</td>\n",
       "      <td>15172</td>\n",
       "      <td>Men</td>\n",
       "      <td>167</td>\n",
       "      <td>77.0</td>\n",
       "      <td>120</td>\n",
       "      <td>80</td>\n",
       "      <td>Normal</td>\n",
       "      <td>Normal</td>\n",
       "      <td>0</td>\n",
       "      <td>0</td>\n",
       "      <td>1</td>\n",
       "      <td>0</td>\n",
       "    </tr>\n",
       "    <tr>\n",
       "      <th>4</th>\n",
       "      <td>82165</td>\n",
       "      <td>19858</td>\n",
       "      <td>Women</td>\n",
       "      <td>176</td>\n",
       "      <td>93.0</td>\n",
       "      <td>140</td>\n",
       "      <td>90</td>\n",
       "      <td>Above Normal</td>\n",
       "      <td>Normal</td>\n",
       "      <td>0</td>\n",
       "      <td>1</td>\n",
       "      <td>1</td>\n",
       "      <td>1</td>\n",
       "    </tr>\n",
       "  </tbody>\n",
       "</table>\n",
       "</div>"
      ],
      "text/plain": [
       "      id    age gender  height  weight  ap_hi  ap_lo   cholesterol    gluc  \\\n",
       "0  66667  20252  Women     161    62.0    140     90          High    High   \n",
       "1  22956  21129    Men     166    66.0    125     70        Normal  Normal   \n",
       "2  40536  16602    Men     160    74.0    140     90        Normal  Normal   \n",
       "3  39712  15172    Men     167    77.0    120     80        Normal  Normal   \n",
       "4  82165  19858  Women     176    93.0    140     90  Above Normal  Normal   \n",
       "\n",
       "   smoke  alco  active  cardio  \n",
       "0      0     0       1       1  \n",
       "1      1     0       1       0  \n",
       "2      0     0       1       0  \n",
       "3      0     0       1       0  \n",
       "4      0     1       1       1  "
      ]
     },
     "execution_count": 124,
     "metadata": {},
     "output_type": "execute_result"
    }
   ],
   "source": [
    "cardio_complete_df.head()"
   ]
  },
  {
   "cell_type": "code",
   "execution_count": 125,
   "id": "beaf466e",
   "metadata": {},
   "outputs": [
    {
     "name": "stdout",
     "output_type": "stream",
     "text": [
      "<class 'pandas.core.frame.DataFrame'>\n",
      "RangeIndex: 1000 entries, 0 to 999\n",
      "Data columns (total 13 columns):\n",
      " #   Column       Non-Null Count  Dtype  \n",
      "---  ------       --------------  -----  \n",
      " 0   id           1000 non-null   int64  \n",
      " 1   age          1000 non-null   int64  \n",
      " 2   gender       1000 non-null   object \n",
      " 3   height       1000 non-null   int64  \n",
      " 4   weight       1000 non-null   float64\n",
      " 5   ap_hi        1000 non-null   int64  \n",
      " 6   ap_lo        1000 non-null   int64  \n",
      " 7   cholesterol  1000 non-null   object \n",
      " 8   gluc         1000 non-null   object \n",
      " 9   smoke        1000 non-null   int64  \n",
      " 10  alco         1000 non-null   int64  \n",
      " 11  active       1000 non-null   int64  \n",
      " 12  cardio       1000 non-null   int64  \n",
      "dtypes: float64(1), int64(9), object(3)\n",
      "memory usage: 101.7+ KB\n"
     ]
    }
   ],
   "source": [
    "cardio_complete_df.info()"
   ]
  },
  {
   "cell_type": "code",
   "execution_count": 126,
   "id": "de0b178b",
   "metadata": {},
   "outputs": [],
   "source": [
    "df = cardio_complete_df.copy()"
   ]
  },
  {
   "cell_type": "code",
   "execution_count": 127,
   "id": "48386691",
   "metadata": {},
   "outputs": [
    {
     "data": {
      "text/plain": [
       "active   -0.079619\n",
       "height   -0.023277\n",
       "smoke     0.023595\n",
       "id        0.030383\n",
       "alco      0.068030\n",
       "ap_lo     0.121857\n",
       "age       0.212669\n",
       "weight    0.217365\n",
       "ap_hi     0.399026\n",
       "cardio    1.000000\n",
       "Name: cardio, dtype: float64"
      ]
     },
     "execution_count": 127,
     "metadata": {},
     "output_type": "execute_result"
    }
   ],
   "source": [
    "df.corr()['cardio'].sort_values()"
   ]
  },
  {
   "cell_type": "markdown",
   "id": "0ddb5d2a",
   "metadata": {},
   "source": [
    "##### Data preprocess"
   ]
  },
  {
   "cell_type": "code",
   "execution_count": 128,
   "id": "aa6b3968",
   "metadata": {},
   "outputs": [
    {
     "data": {
      "text/plain": [
       "992"
      ]
     },
     "execution_count": 128,
     "metadata": {},
     "output_type": "execute_result"
    }
   ],
   "source": [
    "df.drop(\"id\",axis=1,inplace=True)\n",
    "df.drop_duplicates(inplace=True)\n",
    "df[\"bmi\"] = round(df[\"weight\"] / (df[\"height\"]/100)**2)\n",
    "df['age'] = df['age'].map(lambda x:round(x/365)) \n",
    "df = cat_to_num(df)\n",
    "out_filter = ((df[\"ap_hi\"]>250) | (df[\"ap_lo\"]>200))\n",
    "df = df[~out_filter]\n",
    "len(df)"
   ]
  },
  {
   "cell_type": "code",
   "execution_count": 130,
   "id": "fd916232",
   "metadata": {},
   "outputs": [
    {
     "data": {
      "text/html": [
       "<div>\n",
       "<style scoped>\n",
       "    .dataframe tbody tr th:only-of-type {\n",
       "        vertical-align: middle;\n",
       "    }\n",
       "\n",
       "    .dataframe tbody tr th {\n",
       "        vertical-align: top;\n",
       "    }\n",
       "\n",
       "    .dataframe thead th {\n",
       "        text-align: right;\n",
       "    }\n",
       "</style>\n",
       "<table border=\"1\" class=\"dataframe\">\n",
       "  <thead>\n",
       "    <tr style=\"text-align: right;\">\n",
       "      <th></th>\n",
       "      <th>age</th>\n",
       "      <th>gender</th>\n",
       "      <th>height</th>\n",
       "      <th>weight</th>\n",
       "      <th>ap_hi</th>\n",
       "      <th>ap_lo</th>\n",
       "      <th>cholesterol</th>\n",
       "      <th>gluc</th>\n",
       "      <th>smoke</th>\n",
       "      <th>alco</th>\n",
       "      <th>active</th>\n",
       "      <th>cardio</th>\n",
       "      <th>bmi</th>\n",
       "    </tr>\n",
       "  </thead>\n",
       "  <tbody>\n",
       "    <tr>\n",
       "      <th>0</th>\n",
       "      <td>55</td>\n",
       "      <td>1</td>\n",
       "      <td>161</td>\n",
       "      <td>62.0</td>\n",
       "      <td>140</td>\n",
       "      <td>90</td>\n",
       "      <td>1</td>\n",
       "      <td>1</td>\n",
       "      <td>0</td>\n",
       "      <td>0</td>\n",
       "      <td>1</td>\n",
       "      <td>1</td>\n",
       "      <td>24.0</td>\n",
       "    </tr>\n",
       "    <tr>\n",
       "      <th>1</th>\n",
       "      <td>58</td>\n",
       "      <td>0</td>\n",
       "      <td>166</td>\n",
       "      <td>66.0</td>\n",
       "      <td>125</td>\n",
       "      <td>70</td>\n",
       "      <td>2</td>\n",
       "      <td>2</td>\n",
       "      <td>1</td>\n",
       "      <td>0</td>\n",
       "      <td>1</td>\n",
       "      <td>0</td>\n",
       "      <td>24.0</td>\n",
       "    </tr>\n",
       "    <tr>\n",
       "      <th>2</th>\n",
       "      <td>45</td>\n",
       "      <td>0</td>\n",
       "      <td>160</td>\n",
       "      <td>74.0</td>\n",
       "      <td>140</td>\n",
       "      <td>90</td>\n",
       "      <td>2</td>\n",
       "      <td>2</td>\n",
       "      <td>0</td>\n",
       "      <td>0</td>\n",
       "      <td>1</td>\n",
       "      <td>0</td>\n",
       "      <td>29.0</td>\n",
       "    </tr>\n",
       "    <tr>\n",
       "      <th>3</th>\n",
       "      <td>42</td>\n",
       "      <td>0</td>\n",
       "      <td>167</td>\n",
       "      <td>77.0</td>\n",
       "      <td>120</td>\n",
       "      <td>80</td>\n",
       "      <td>2</td>\n",
       "      <td>2</td>\n",
       "      <td>0</td>\n",
       "      <td>0</td>\n",
       "      <td>1</td>\n",
       "      <td>0</td>\n",
       "      <td>28.0</td>\n",
       "    </tr>\n",
       "    <tr>\n",
       "      <th>4</th>\n",
       "      <td>54</td>\n",
       "      <td>1</td>\n",
       "      <td>176</td>\n",
       "      <td>93.0</td>\n",
       "      <td>140</td>\n",
       "      <td>90</td>\n",
       "      <td>0</td>\n",
       "      <td>2</td>\n",
       "      <td>0</td>\n",
       "      <td>1</td>\n",
       "      <td>1</td>\n",
       "      <td>1</td>\n",
       "      <td>30.0</td>\n",
       "    </tr>\n",
       "    <tr>\n",
       "      <th>...</th>\n",
       "      <td>...</td>\n",
       "      <td>...</td>\n",
       "      <td>...</td>\n",
       "      <td>...</td>\n",
       "      <td>...</td>\n",
       "      <td>...</td>\n",
       "      <td>...</td>\n",
       "      <td>...</td>\n",
       "      <td>...</td>\n",
       "      <td>...</td>\n",
       "      <td>...</td>\n",
       "      <td>...</td>\n",
       "      <td>...</td>\n",
       "    </tr>\n",
       "    <tr>\n",
       "      <th>995</th>\n",
       "      <td>50</td>\n",
       "      <td>0</td>\n",
       "      <td>152</td>\n",
       "      <td>61.0</td>\n",
       "      <td>114</td>\n",
       "      <td>69</td>\n",
       "      <td>2</td>\n",
       "      <td>2</td>\n",
       "      <td>0</td>\n",
       "      <td>0</td>\n",
       "      <td>1</td>\n",
       "      <td>0</td>\n",
       "      <td>26.0</td>\n",
       "    </tr>\n",
       "    <tr>\n",
       "      <th>996</th>\n",
       "      <td>54</td>\n",
       "      <td>0</td>\n",
       "      <td>153</td>\n",
       "      <td>83.0</td>\n",
       "      <td>120</td>\n",
       "      <td>80</td>\n",
       "      <td>2</td>\n",
       "      <td>2</td>\n",
       "      <td>0</td>\n",
       "      <td>0</td>\n",
       "      <td>1</td>\n",
       "      <td>0</td>\n",
       "      <td>35.0</td>\n",
       "    </tr>\n",
       "    <tr>\n",
       "      <th>997</th>\n",
       "      <td>62</td>\n",
       "      <td>1</td>\n",
       "      <td>161</td>\n",
       "      <td>75.0</td>\n",
       "      <td>130</td>\n",
       "      <td>90</td>\n",
       "      <td>0</td>\n",
       "      <td>2</td>\n",
       "      <td>1</td>\n",
       "      <td>1</td>\n",
       "      <td>1</td>\n",
       "      <td>1</td>\n",
       "      <td>29.0</td>\n",
       "    </tr>\n",
       "    <tr>\n",
       "      <th>998</th>\n",
       "      <td>58</td>\n",
       "      <td>0</td>\n",
       "      <td>162</td>\n",
       "      <td>88.0</td>\n",
       "      <td>130</td>\n",
       "      <td>100</td>\n",
       "      <td>0</td>\n",
       "      <td>2</td>\n",
       "      <td>0</td>\n",
       "      <td>0</td>\n",
       "      <td>1</td>\n",
       "      <td>1</td>\n",
       "      <td>34.0</td>\n",
       "    </tr>\n",
       "    <tr>\n",
       "      <th>999</th>\n",
       "      <td>40</td>\n",
       "      <td>0</td>\n",
       "      <td>120</td>\n",
       "      <td>80.0</td>\n",
       "      <td>120</td>\n",
       "      <td>80</td>\n",
       "      <td>2</td>\n",
       "      <td>2</td>\n",
       "      <td>0</td>\n",
       "      <td>0</td>\n",
       "      <td>0</td>\n",
       "      <td>1</td>\n",
       "      <td>56.0</td>\n",
       "    </tr>\n",
       "  </tbody>\n",
       "</table>\n",
       "<p>992 rows × 13 columns</p>\n",
       "</div>"
      ],
      "text/plain": [
       "     age  gender  height  weight  ap_hi  ap_lo  cholesterol  gluc  smoke  \\\n",
       "0     55       1     161    62.0    140     90            1     1      0   \n",
       "1     58       0     166    66.0    125     70            2     2      1   \n",
       "2     45       0     160    74.0    140     90            2     2      0   \n",
       "3     42       0     167    77.0    120     80            2     2      0   \n",
       "4     54       1     176    93.0    140     90            0     2      0   \n",
       "..   ...     ...     ...     ...    ...    ...          ...   ...    ...   \n",
       "995   50       0     152    61.0    114     69            2     2      0   \n",
       "996   54       0     153    83.0    120     80            2     2      0   \n",
       "997   62       1     161    75.0    130     90            0     2      1   \n",
       "998   58       0     162    88.0    130    100            0     2      0   \n",
       "999   40       0     120    80.0    120     80            2     2      0   \n",
       "\n",
       "     alco  active  cardio   bmi  \n",
       "0       0       1       1  24.0  \n",
       "1       0       1       0  24.0  \n",
       "2       0       1       0  29.0  \n",
       "3       0       1       0  28.0  \n",
       "4       1       1       1  30.0  \n",
       "..    ...     ...     ...   ...  \n",
       "995     0       1       0  26.0  \n",
       "996     0       1       0  35.0  \n",
       "997     1       1       1  29.0  \n",
       "998     0       1       1  34.0  \n",
       "999     0       0       1  56.0  \n",
       "\n",
       "[992 rows x 13 columns]"
      ]
     },
     "execution_count": 130,
     "metadata": {},
     "output_type": "execute_result"
    }
   ],
   "source": [
    "df"
   ]
  },
  {
   "cell_type": "markdown",
   "id": "0a82b755",
   "metadata": {},
   "source": [
    "##### Model preparation"
   ]
  },
  {
   "cell_type": "code",
   "execution_count": 131,
   "id": "9772822c",
   "metadata": {},
   "outputs": [],
   "source": [
    "X = df.drop([\"cardio\"], axis=1)\n",
    "y = df[\"cardio\"]\n",
    "\n",
    "X_train, X_test, y_train, y_test = train_test_split(X, y, test_size=0.20, random_state=1)"
   ]
  },
  {
   "cell_type": "code",
   "execution_count": 132,
   "id": "6cdbd6b3",
   "metadata": {
    "scrolled": true
   },
   "outputs": [
    {
     "name": "stdout",
     "output_type": "stream",
     "text": [
      "Train shape: (793, 12)\n",
      "Test shape: (199, 12)\n"
     ]
    }
   ],
   "source": [
    "print(f\"Train shape: {X_train.shape}\")\n",
    "print(f\"Test shape: {X_test.shape}\")"
   ]
  },
  {
   "cell_type": "markdown",
   "id": "fe4315fb",
   "metadata": {},
   "source": [
    "##### 2. Applying the regression model that you think is most suited for this problem."
   ]
  },
  {
   "cell_type": "code",
   "execution_count": 133,
   "id": "fed19f09",
   "metadata": {},
   "outputs": [],
   "source": [
    "# Logistic Regression\n",
    "def logreg2():\n",
    "    logreg_model = LogisticRegression()\n",
    "    logreg_model.fit(X_train, y_train)\n",
    "    predictions = logreg_model.predict(X_test)\n",
    "#     print(f\"Train accuracy: {round(logreg_model.score(X_train, y_train) * 100, 2)}\")\n",
    "#     print(f\"Test accuracy : {round(accuracy_score(y_test,predictions) * 100, 2)}\")\n",
    "    \n",
    "    # confusion matrix sns heatmap \n",
    "    cm = confusion_matrix(y_test, predictions)\n",
    "    ax = plt.axes()\n",
    "    df_cm = cm\n",
    "    sns.heatmap(df_cm, annot=True, annot_kws={\"size\": 10}, fmt='d',cmap=\"Blues\", ax = ax )\n",
    "    ax.set_title('Confusion Matrix')\n",
    "    plt.show()\n",
    "    \n",
    "    print(classification_report(y_test,predictions))"
   ]
  },
  {
   "cell_type": "code",
   "execution_count": 134,
   "id": "32e19e56",
   "metadata": {},
   "outputs": [
    {
     "data": {
      "image/png": "[encoded data removed]",
      "text/plain": [
       "<Figure size 432x288 with 2 Axes>"
      ]
     },
     "metadata": {
      "needs_background": "light"
     },
     "output_type": "display_data"
    },
    {
     "name": "stdout",
     "output_type": "stream",
     "text": [
      "              precision    recall  f1-score   support\n",
      "\n",
      "           0       0.64      0.72      0.68        95\n",
      "           1       0.71      0.63      0.67       104\n",
      "\n",
      "    accuracy                           0.67       199\n",
      "   macro avg       0.68      0.68      0.67       199\n",
      "weighted avg       0.68      0.67      0.67       199\n",
      "\n"
     ]
    }
   ],
   "source": [
    "logreg2()"
   ]
  },
  {
   "cell_type": "code",
   "execution_count": 135,
   "id": "103e8c27",
   "metadata": {},
   "outputs": [
    {
     "data": {
      "text/plain": [
       "{'C': 60, 'gamma': 1e-05, 'kernel': 'rbf'}"
      ]
     },
     "execution_count": 135,
     "metadata": {},
     "output_type": "execute_result"
    }
   ],
   "source": [
    "svc_param_grid = {'C': [40,50,60,100],  \n",
    "              'gamma': [0.00001, 0.000001], \n",
    "              'kernel': ['rbf']}  \n",
    "  \n",
    "grid = GridSearchCV(SVC(), svc_param_grid, refit = True, verbose = 0) \n",
    "\n",
    "# fitting the model for grid search \n",
    "grid.fit(X_train,y_train)\n",
    "\n",
    "grid.best_params_"
   ]
  },
  {
   "cell_type": "code",
   "execution_count": 136,
   "id": "52157206",
   "metadata": {},
   "outputs": [],
   "source": [
    "# SVC\n",
    "def svc2(C):\n",
    "    svc_model = SVC(C=C, gamma=0.00001, kernel=\"rbf\", random_state=42)\n",
    "    svc_model.fit(X_train,y_train)\n",
    "    predictions = svc_model.predict(X_test)\n",
    "#     print(f\"Train accuracy: {round(svc_model.score(X_train, y_train) * 100, 2)}\")\n",
    "#     print(f\"Test accuracy : {round(accuracy_score(y_test,predictions) * 100, 2)}\")\n",
    "    \n",
    "    # confusion matrix sns heatmap\n",
    "    cm = confusion_matrix(y_test, predictions)\n",
    "    ax = plt.axes()\n",
    "    df_cm = cm\n",
    "    sns.heatmap(df_cm, annot=True, annot_kws={\"size\": 10}, fmt='d',cmap=\"Blues\", ax = ax )\n",
    "    ax.set_title('Confusion Matrix')\n",
    "    plt.show()\n",
    "    \n",
    "    print(classification_report(y_test,predictions))"
   ]
  },
  {
   "cell_type": "code",
   "execution_count": 137,
   "id": "cd021886",
   "metadata": {},
   "outputs": [
    {
     "data": {
      "text/plain": [
       "{'C': 60, 'gamma': 1e-05, 'kernel': 'rbf'}"
      ]
     },
     "execution_count": 137,
     "metadata": {},
     "output_type": "execute_result"
    }
   ],
   "source": [
    "svc_param_grid = {'C': [40,50,60,100],  \n",
    "              'gamma': [0.00001, 0.000001], \n",
    "              'kernel': ['rbf']}  \n",
    "  \n",
    "grid = GridSearchCV(SVC(), svc_param_grid, refit = True, verbose = 0) \n",
    "\n",
    "# fitting the model for grid search \n",
    "grid.fit(X_train,y_train)\n",
    "\n",
    "grid.best_params_"
   ]
  },
  {
   "cell_type": "code",
   "execution_count": 138,
   "id": "d90fec28",
   "metadata": {},
   "outputs": [
    {
     "data": {
      "image/png": "[encoded data removed]",
      "text/plain": [
       "<Figure size 432x288 with 2 Axes>"
      ]
     },
     "metadata": {
      "needs_background": "light"
     },
     "output_type": "display_data"
    },
    {
     "name": "stdout",
     "output_type": "stream",
     "text": [
      "              precision    recall  f1-score   support\n",
      "\n",
      "           0       0.66      0.76      0.71        95\n",
      "           1       0.74      0.64      0.69       104\n",
      "\n",
      "    accuracy                           0.70       199\n",
      "   macro avg       0.70      0.70      0.70       199\n",
      "weighted avg       0.70      0.70      0.70       199\n",
      "\n"
     ]
    }
   ],
   "source": [
    "svc2(60)"
   ]
  },
  {
   "cell_type": "code",
   "execution_count": 139,
   "id": "558b4ed9",
   "metadata": {},
   "outputs": [],
   "source": [
    "def ridgeclf2():  \n",
    "    ridge_classifier = RidgeClassifier()\n",
    "    ridge_classifier.fit(X_train,y_train)\n",
    "    predictions = ridge_classifier.predict(X_test)\n",
    "#     print(f\"Train accuracy: {round(ridge_classifier.score(X_train, y_train) * 100, 2)}\")\n",
    "#     print(f\"Test accuracy : {round(accuracy_score(y_test,predictions) * 100, 2)}\")\n",
    "    \n",
    "    # confusion matrix sns heatmap\n",
    "    cm = confusion_matrix(y_test, predictions)\n",
    "    ax = plt.axes()\n",
    "    df_cm = cm\n",
    "    sns.heatmap(df_cm, annot=True, annot_kws={\"size\": 10}, fmt='d',cmap=\"Blues\", ax = ax )\n",
    "    ax.set_title('Confusion Matrix')\n",
    "    plt.show()\n",
    "    \n",
    "    print(classification_report(y_test,predictions))\n",
    "    "
   ]
  },
  {
   "cell_type": "code",
   "execution_count": 140,
   "id": "5de57313",
   "metadata": {
    "scrolled": false
   },
   "outputs": [
    {
     "data": {
      "image/png": "[encoded data removed]",
      "text/plain": [
       "<Figure size 432x288 with 2 Axes>"
      ]
     },
     "metadata": {
      "needs_background": "light"
     },
     "output_type": "display_data"
    },
    {
     "name": "stdout",
     "output_type": "stream",
     "text": [
      "              precision    recall  f1-score   support\n",
      "\n",
      "           0       0.64      0.73      0.68        95\n",
      "           1       0.71      0.62      0.67       104\n",
      "\n",
      "    accuracy                           0.67       199\n",
      "   macro avg       0.68      0.68      0.67       199\n",
      "weighted avg       0.68      0.67      0.67       199\n",
      "\n"
     ]
    }
   ],
   "source": [
    "ridgeclf2()"
   ]
  },
  {
   "cell_type": "code",
   "execution_count": 141,
   "id": "78b3b05a",
   "metadata": {},
   "outputs": [],
   "source": [
    "dtp = {'max_depth': [3,5,7,10],\n",
    " 'min_samples_leaf': [1,3,5,7],\n",
    "       'criterion': ['gini','entropy']}"
   ]
  },
  {
   "cell_type": "code",
   "execution_count": 142,
   "id": "340bb107",
   "metadata": {},
   "outputs": [],
   "source": [
    "dtm = RandomizedSearchCV(DecisionTreeClassifier(),\n",
    "                              param_distributions = dtp,\n",
    "                              n_iter = 100,\n",
    "                              cv = 5, verbose=0,\n",
    "                              random_state=0,\n",
    "                              n_jobs = -1)"
   ]
  },
  {
   "cell_type": "code",
   "execution_count": 143,
   "id": "5ea7dcc8",
   "metadata": {},
   "outputs": [
    {
     "data": {
      "text/plain": [
       "RandomizedSearchCV(cv=5, estimator=DecisionTreeClassifier(), n_iter=100,\n",
       "                   n_jobs=-1,\n",
       "                   param_distributions={'criterion': ['gini', 'entropy'],\n",
       "                                        'max_depth': [3, 5, 7, 10],\n",
       "                                        'min_samples_leaf': [1, 3, 5, 7]},\n",
       "                   random_state=0)"
      ]
     },
     "execution_count": 143,
     "metadata": {},
     "output_type": "execute_result"
    }
   ],
   "source": [
    "dtm.fit(X_train,y_train)"
   ]
  },
  {
   "cell_type": "code",
   "execution_count": 144,
   "id": "57c67c18",
   "metadata": {},
   "outputs": [
    {
     "data": {
      "text/plain": [
       "{'min_samples_leaf': 3, 'max_depth': 5, 'criterion': 'entropy'}"
      ]
     },
     "execution_count": 144,
     "metadata": {},
     "output_type": "execute_result"
    }
   ],
   "source": [
    "dtm.best_params_"
   ]
  },
  {
   "cell_type": "code",
   "execution_count": 145,
   "id": "0c6e7f50",
   "metadata": {},
   "outputs": [],
   "source": [
    "# Decision Tree Classifier\n",
    "\n",
    "def decisiontree2(crit,depth):\n",
    "    decision_tree = DecisionTreeClassifier(criterion=crit, max_depth=depth)\n",
    "    decision_tree.fit(X_train,y_train)\n",
    "    predictions = decision_tree.predict(X_test)\n",
    "#     print(f\"Train accuracy: {round(decision_tree.score(X_train, y_train) * 100, 2)}\")\n",
    "#     print(f\"Test accuracy : {round(accuracy_score(y_test,predictions) * 100, 2)}\")\n",
    "    \n",
    "    # confusion matrix sns heatmap\n",
    "    cm = confusion_matrix(y_test, predictions)\n",
    "    ax = plt.axes()\n",
    "    df_cm = cm\n",
    "    sns.heatmap(df_cm, annot=True, annot_kws={\"size\": 10}, fmt='d',cmap=\"Blues\", ax = ax )\n",
    "    ax.set_title('Confusion Matrix')\n",
    "    plt.show()\n",
    "    \n",
    "    print(classification_report(y_test,predictions))\n",
    "    return predictions\n"
   ]
  },
  {
   "cell_type": "code",
   "execution_count": 146,
   "id": "8d0316d7",
   "metadata": {},
   "outputs": [
    {
     "data": {
      "image/png": "[encoded data removed]",
      "text/plain": [
       "<Figure size 432x288 with 2 Axes>"
      ]
     },
     "metadata": {
      "needs_background": "light"
     },
     "output_type": "display_data"
    },
    {
     "name": "stdout",
     "output_type": "stream",
     "text": [
      "              precision    recall  f1-score   support\n",
      "\n",
      "           0       0.68      0.76      0.72        95\n",
      "           1       0.75      0.67      0.71       104\n",
      "\n",
      "    accuracy                           0.71       199\n",
      "   macro avg       0.72      0.72      0.71       199\n",
      "weighted avg       0.72      0.71      0.71       199\n",
      "\n"
     ]
    }
   ],
   "source": [
    "best_pred2 = decisiontree2('gini',3)"
   ]
  },
  {
   "cell_type": "code",
   "execution_count": 147,
   "id": "40f20676",
   "metadata": {},
   "outputs": [],
   "source": [
    "rrfp = {'max_depth': [3,5,7,10],\n",
    " 'min_samples_leaf': [1,3,5,7],\n",
    " 'n_estimators': [20,35,51]}"
   ]
  },
  {
   "cell_type": "code",
   "execution_count": 148,
   "id": "db553646",
   "metadata": {},
   "outputs": [],
   "source": [
    "rrfm = RandomizedSearchCV(RandomForestClassifier(),\n",
    "                              param_distributions = rrfp,\n",
    "                              n_iter = 100,\n",
    "                              cv = 5, verbose=0,\n",
    "                              random_state=0,\n",
    "                              n_jobs = -1)"
   ]
  },
  {
   "cell_type": "code",
   "execution_count": 149,
   "id": "aa28b328",
   "metadata": {},
   "outputs": [
    {
     "data": {
      "text/plain": [
       "RandomizedSearchCV(cv=5, estimator=RandomForestClassifier(), n_iter=100,\n",
       "                   n_jobs=-1,\n",
       "                   param_distributions={'max_depth': [3, 5, 7, 10],\n",
       "                                        'min_samples_leaf': [1, 3, 5, 7],\n",
       "                                        'n_estimators': [20, 35, 51]},\n",
       "                   random_state=0)"
      ]
     },
     "execution_count": 149,
     "metadata": {},
     "output_type": "execute_result"
    }
   ],
   "source": [
    "rrfm.fit(X_train, y_train)"
   ]
  },
  {
   "cell_type": "code",
   "execution_count": 150,
   "id": "e064a31e",
   "metadata": {},
   "outputs": [
    {
     "data": {
      "text/plain": [
       "{'n_estimators': 35, 'min_samples_leaf': 7, 'max_depth': 5}"
      ]
     },
     "execution_count": 150,
     "metadata": {},
     "output_type": "execute_result"
    }
   ],
   "source": [
    "rrfm.best_params_"
   ]
  },
  {
   "cell_type": "code",
   "execution_count": 151,
   "id": "54b4a7ee",
   "metadata": {},
   "outputs": [],
   "source": [
    "# Random Forest Classifier\n",
    "\n",
    "def random_forest2(depth,est,leaf):\n",
    "    random_model = RandomForestClassifier(n_estimators=est, max_depth=depth, min_samples_leaf=leaf, random_state=0)\n",
    "    random_model.fit(X_train, y_train)\n",
    "    predictions = random_model.predict(X_test)\n",
    "#     print(f\"Train accuracy: {round(random_model.score(X_train, y_train) * 100, 2)}\")\n",
    "#     print(f\"Test accuracy : {round(accuracy_score(y_test,predictions) * 100, 2)}\")\n",
    "    \n",
    "    # confusion matrix sns heatmap\n",
    "    cm = confusion_matrix(y_test, predictions)\n",
    "    ax = plt.axes()\n",
    "    df_cm = cm\n",
    "    sns.heatmap(df_cm, annot=True, annot_kws={\"size\": 10}, fmt='d',cmap=\"Blues\", ax = ax )\n",
    "    ax.set_title('Confusion Matrix')\n",
    "    plt.show()\n",
    "    \n",
    "    print(classification_report(y_test,predictions))"
   ]
  },
  {
   "cell_type": "code",
   "execution_count": 152,
   "id": "266e3815",
   "metadata": {},
   "outputs": [
    {
     "data": {
      "image/png": "[encoded data removed]",
      "text/plain": [
       "<Figure size 432x288 with 2 Axes>"
      ]
     },
     "metadata": {
      "needs_background": "light"
     },
     "output_type": "display_data"
    },
    {
     "name": "stdout",
     "output_type": "stream",
     "text": [
      "              precision    recall  f1-score   support\n",
      "\n",
      "           0       0.64      0.77      0.70        95\n",
      "           1       0.74      0.61      0.67       104\n",
      "\n",
      "    accuracy                           0.68       199\n",
      "   macro avg       0.69      0.69      0.68       199\n",
      "weighted avg       0.69      0.68      0.68       199\n",
      "\n"
     ]
    }
   ],
   "source": [
    "random_forest2(3,100,5)"
   ]
  },
  {
   "cell_type": "markdown",
   "id": "0175b7a8",
   "metadata": {},
   "source": [
    "##### 3. Compare your prediction result with the first technique."
   ]
  },
  {
   "cell_type": "markdown",
   "id": "602afe62",
   "metadata": {},
   "source": [
    "- In task 1 the best result we obtained was from SVM model whereas, for the similar dataset the best model in task 2 was decision tree. \n",
    "- Comparing precision recall and f1-score for SVM and Decision Tree in task 2 models. Decision tree model precision was slightly better compared to SVM model in both target values (0 and 1). Thought both model’s recall of target value 0 was the same decision tree’s performance was better for the target value 1. Also, weighed average f1-score was slightly better with 0.01 percent in decision tree.\n",
    "- As a result, both the models performed well but decision tree had the slight edge and gave the best result for task 2. \n"
   ]
  },
  {
   "cell_type": "markdown",
   "id": "01b18559",
   "metadata": {},
   "source": [
    "# TASK 3"
   ]
  },
  {
   "cell_type": "markdown",
   "id": "0de62b4e",
   "metadata": {},
   "source": [
    "##### a. Apply feature transform on the features used in task 1"
   ]
  },
  {
   "cell_type": "code",
   "execution_count": 153,
   "id": "b1e12867",
   "metadata": {},
   "outputs": [],
   "source": [
    "from sklearn.preprocessing import PolynomialFeatures"
   ]
  },
  {
   "cell_type": "code",
   "execution_count": 154,
   "id": "6840be48",
   "metadata": {},
   "outputs": [],
   "source": [
    "X = replace_mean_df1.drop(['cardio', 'bp_cat'], axis=1)\n",
    "y = replace_mean_df1['cardio']\n",
    "Xt = tst_df.copy()"
   ]
  },
  {
   "cell_type": "code",
   "execution_count": 155,
   "id": "7fc30616",
   "metadata": {},
   "outputs": [],
   "source": [
    "poly = PolynomialFeatures(2)\n",
    "\n",
    "X_poly = poly.fit_transform(X)\n",
    "Xt_poly = poly.fit_transform(Xt)"
   ]
  },
  {
   "cell_type": "code",
   "execution_count": 156,
   "id": "723b322f",
   "metadata": {},
   "outputs": [
    {
     "data": {
      "text/plain": [
       "(988, 105)"
      ]
     },
     "execution_count": 156,
     "metadata": {},
     "output_type": "execute_result"
    }
   ],
   "source": [
    "X_poly.shape"
   ]
  },
  {
   "cell_type": "code",
   "execution_count": 160,
   "id": "34bb9bdb",
   "metadata": {},
   "outputs": [
    {
     "name": "stdout",
     "output_type": "stream",
     "text": [
      "Train accuracy : 0.7054655870445344\n"
     ]
    }
   ],
   "source": [
    "# Logistic regression\n",
    "poly_logreg_model = LogisticRegression()\n",
    "poly_logreg_model.fit(X_poly, y)\n",
    "poly_logreg_pred = poly_logreg_model.predict(Xt_poly)\n",
    "Train_accuracy = accuracy_score(y,poly_logreg_model.predict(X_poly))\n",
    "print(f\"Train accuracy : {Train_accuracy}\")"
   ]
  },
  {
   "cell_type": "markdown",
   "id": "718714cd",
   "metadata": {},
   "source": [
    "Kaggle/test accuracy: 68.8"
   ]
  },
  {
   "cell_type": "code",
   "execution_count": 161,
   "id": "58f6a066",
   "metadata": {},
   "outputs": [],
   "source": [
    "# SVC"
   ]
  },
  {
   "cell_type": "code",
   "execution_count": 162,
   "id": "b9a1c7cb",
   "metadata": {},
   "outputs": [
    {
     "data": {
      "text/plain": [
       "{'C': 40, 'gamma': 1e-06, 'kernel': 'rbf'}"
      ]
     },
     "execution_count": 162,
     "metadata": {},
     "output_type": "execute_result"
    }
   ],
   "source": [
    "svc_param_grid = {'C': [40,50,60,100],  \n",
    "              'gamma': [0.00001, 0.000001], \n",
    "              'kernel': ['rbf']}  \n",
    "  \n",
    "grid = GridSearchCV(SVC(), svc_param_grid, refit = True, verbose = 0) \n",
    "\n",
    "# fitting the model for grid search \n",
    "grid.fit(X_poly,y)\n",
    "\n",
    "grid.best_params_"
   ]
  },
  {
   "cell_type": "code",
   "execution_count": 163,
   "id": "dbcbe7d9",
   "metadata": {},
   "outputs": [
    {
     "name": "stdout",
     "output_type": "stream",
     "text": [
      "Train accuracy : 0.9919028340080972\n"
     ]
    }
   ],
   "source": [
    "# Overfiting can be seen claerly in this model\n",
    "\n",
    "poly_svc_model = SVC(C=40, gamma=0.000001, kernel=\"rbf\", random_state=42)\n",
    "poly_svc_model.fit(X_poly,y)\n",
    "poly_svc_pred = poly_svc_model.predict(Xt_poly)\n",
    "Train_accuracy = accuracy_score(y,poly_svc_model.predict(X_poly))\n",
    "print(f\"Train accuracy : {Train_accuracy}\")"
   ]
  },
  {
   "cell_type": "markdown",
   "id": "d710b52c",
   "metadata": {},
   "source": [
    "Kaggle/Test accuracy = 56.7"
   ]
  },
  {
   "cell_type": "markdown",
   "id": "eca25955",
   "metadata": {},
   "source": [
    "##### a. Does varying the polynomial degree change your accuracy?"
   ]
  },
  {
   "cell_type": "markdown",
   "id": "ceb3a56d",
   "metadata": {},
   "source": [
    "YES, It changes the accuracy. In task 1 SVM model and logistic regression accurracies was 70.4 and 72.8 for the kaggle test data. With polynomial regression the accuracy score is 56.7 for SVM model and 68.8 for logistic regression model."
   ]
  },
  {
   "cell_type": "markdown",
   "id": "a536d386",
   "metadata": {},
   "source": [
    "###### b. Can you identifyifyourmodel isunderfitting oroverfitting? (Hintuse cross- validation error and in-sample error plot to identify high bias and high variance.) Plot therelationships."
   ]
  },
  {
   "cell_type": "code",
   "execution_count": 164,
   "id": "cc13d0b3",
   "metadata": {},
   "outputs": [],
   "source": [
    "from sklearn.model_selection import cross_val_score"
   ]
  },
  {
   "cell_type": "code",
   "execution_count": 165,
   "id": "9a1444cf",
   "metadata": {},
   "outputs": [
    {
     "data": {
      "text/plain": [
       "0.7004255755524791"
      ]
     },
     "execution_count": 165,
     "metadata": {},
     "output_type": "execute_result"
    }
   ],
   "source": [
    "log_cv_scores = cross_val_score(poly_logreg_model,X_poly,y,cv=5,scoring='accuracy')\n",
    "log_cv_scores.mean()"
   ]
  },
  {
   "cell_type": "code",
   "execution_count": 166,
   "id": "08e7d37e",
   "metadata": {},
   "outputs": [
    {
     "data": {
      "text/plain": [
       "0.6224170640414296"
      ]
     },
     "execution_count": 166,
     "metadata": {},
     "output_type": "execute_result"
    }
   ],
   "source": [
    "svc_cv_scores = cross_val_score(poly_svc_model,X_poly,y,cv=5,scoring='accuracy')\n",
    "svc_cv_scores.mean()"
   ]
  },
  {
   "cell_type": "markdown",
   "id": "a17c6246",
   "metadata": {},
   "source": [
    "Using cross validation we found the mean accuracy which is 62.2, from kaggle we found the test accuracy which is 56.7. As the train accuracy is much higher than test accuracy we see overfitting or high variance in the model."
   ]
  },
  {
   "cell_type": "code",
   "execution_count": 168,
   "id": "db610d10",
   "metadata": {},
   "outputs": [],
   "source": [
    "from sklearn.model_selection import KFold\n",
    "from sklearn.metrics import mean_absolute_error"
   ]
  },
  {
   "cell_type": "code",
   "execution_count": 169,
   "id": "d97dd65f",
   "metadata": {},
   "outputs": [
    {
     "data": {
      "image/png": "[encoded data removed]",
      "text/plain": [
       "<Figure size 432x288 with 1 Axes>"
      ]
     },
     "metadata": {
      "needs_background": "light"
     },
     "output_type": "display_data"
    }
   ],
   "source": [
    "# Logistic regression cv error plot\n",
    "kf = KFold(n_splits=5)\n",
    "list_training_error = []\n",
    "for train_index, test_index in kf.split(X):\n",
    "    model = LogisticRegression()\n",
    "    model.fit(X_poly,y)\n",
    "    y_pred = model.predict(X_poly)\n",
    "    fold_training_error = mean_absolute_error(y, y_pred) \n",
    "    list_training_error.append(fold_training_error)\n",
    "    \n",
    "plt.plot(range(1, kf.get_n_splits() + 1), np.array(list_training_error).ravel(), 'o-')\n",
    "plt.xlabel('number of fold')\n",
    "plt.ylabel('training error')\n",
    "plt.title('Training error across folds')\n",
    "plt.tight_layout()\n",
    "plt.show()"
   ]
  },
  {
   "cell_type": "code",
   "execution_count": 170,
   "id": "cb553b9f",
   "metadata": {},
   "outputs": [
    {
     "data": {
      "image/png": "[encoded data removed]",
      "text/plain": [
       "<Figure size 432x288 with 1 Axes>"
      ]
     },
     "metadata": {
      "needs_background": "light"
     },
     "output_type": "display_data"
    }
   ],
   "source": [
    "# SVM CV error plot\n",
    "kf = KFold(n_splits=5)\n",
    "list_training_error = []\n",
    "for train_index, test_index in kf.split(X):\n",
    "    model = SVC()\n",
    "    model.fit(X_poly,y)\n",
    "    y_pred = model.predict(X_poly)\n",
    "    fold_training_error = mean_absolute_error(y, y_pred) \n",
    "    list_training_error.append(fold_training_error)\n",
    "    \n",
    "plt.plot(range(1, kf.get_n_splits() + 1), np.array(list_training_error).ravel(), 'o-')\n",
    "plt.xlabel('number of fold')\n",
    "plt.ylabel('training error')\n",
    "plt.title('Training error across folds')\n",
    "plt.tight_layout()\n",
    "#plt.show()\n",
    "plt.savefig('cverr.jpeg')"
   ]
  },
  {
   "cell_type": "markdown",
   "id": "f5bcdbba",
   "metadata": {},
   "source": [
    "From the above plots we can see the mean absolute error betweem target and each kfolds prediction. Every folds prediction where the same so the error for every fold was also same."
   ]
  }
 ],
 "metadata": {
  "colab": {
   "name": "Untitled1.ipynb",
   "provenance": []
  },
  "kernelspec": {
   "display_name": "Python 3 (ipykernel)",
   "language": "python",
   "name": "python3"
  },
  "language_info": {
   "codemirror_mode": {
    "name": "ipython",
    "version": 3
   },
   "file_extension": ".py",
   "mimetype": "text/x-python",
   "name": "python",
   "nbconvert_exporter": "python",
   "pygments_lexer": "ipython3",
   "version": "3.8.12"
  }
 },
 "nbformat": 4,
 "nbformat_minor": 5
}
