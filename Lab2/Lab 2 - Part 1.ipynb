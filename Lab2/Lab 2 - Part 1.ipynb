{
 "cells": [
  {
   "cell_type": "code",
   "execution_count": 1,
   "id": "709b0bc1",
   "metadata": {},
   "outputs": [],
   "source": [
    "import numpy as np\n",
    "import pandas as pd\n",
    "import time\n",
    "import warnings\n",
    "warnings.filterwarnings('ignore')"
   ]
  },
  {
   "cell_type": "code",
   "execution_count": 2,
   "id": "d44df6a8",
   "metadata": {},
   "outputs": [],
   "source": [
    "# Read movies.dat and ratings.dat\n",
    "\n",
    "user_data = pd.io.parsers.read_csv('data/ratings.dat', names=['user_id', 'movie_id', 'rating','time'], \n",
    "                             engine = 'python', delimiter = '::')\n",
    "\n",
    "movie_data = pd.io.parsers.read_csv('data/movies1.dat', names = ['movie_id', 'title', 'genre'], \n",
    "                                   engine = 'python', delimiter = '::')"
   ]
  },
  {
   "cell_type": "code",
   "execution_count": 3,
   "id": "ccea0bf5",
   "metadata": {
    "scrolled": true
   },
   "outputs": [
    {
     "name": "stdout",
     "output_type": "stream",
     "text": [
      "<class 'pandas.core.frame.DataFrame'>\n",
      "RangeIndex: 1000209 entries, 0 to 1000208\n",
      "Data columns (total 4 columns):\n",
      " #   Column    Non-Null Count    Dtype\n",
      "---  ------    --------------    -----\n",
      " 0   user_id   1000209 non-null  int64\n",
      " 1   movie_id  1000209 non-null  int64\n",
      " 2   rating    1000209 non-null  int64\n",
      " 3   time      1000209 non-null  int64\n",
      "dtypes: int64(4)\n",
      "memory usage: 30.5 MB\n"
     ]
    }
   ],
   "source": [
    "user_data.info()"
   ]
  },
  {
   "cell_type": "code",
   "execution_count": 4,
   "id": "7287ce07",
   "metadata": {
    "scrolled": false
   },
   "outputs": [
    {
     "name": "stdout",
     "output_type": "stream",
     "text": [
      "<class 'pandas.core.frame.DataFrame'>\n",
      "RangeIndex: 3883 entries, 0 to 3882\n",
      "Data columns (total 3 columns):\n",
      " #   Column    Non-Null Count  Dtype \n",
      "---  ------    --------------  ----- \n",
      " 0   movie_id  3883 non-null   int64 \n",
      " 1   title     3883 non-null   object\n",
      " 2   genre     3883 non-null   object\n",
      "dtypes: int64(1), object(2)\n",
      "memory usage: 91.1+ KB\n"
     ]
    }
   ],
   "source": [
    "movie_data.info()"
   ]
  },
  {
   "cell_type": "code",
   "execution_count": 5,
   "id": "ffd39c67",
   "metadata": {
    "scrolled": true
   },
   "outputs": [
    {
     "data": {
      "text/html": [
       "<div>\n",
       "<style scoped>\n",
       "    .dataframe tbody tr th:only-of-type {\n",
       "        vertical-align: middle;\n",
       "    }\n",
       "\n",
       "    .dataframe tbody tr th {\n",
       "        vertical-align: top;\n",
       "    }\n",
       "\n",
       "    .dataframe thead th {\n",
       "        text-align: right;\n",
       "    }\n",
       "</style>\n",
       "<table border=\"1\" class=\"dataframe\">\n",
       "  <thead>\n",
       "    <tr style=\"text-align: right;\">\n",
       "      <th></th>\n",
       "      <th>user_id</th>\n",
       "      <th>movie_id</th>\n",
       "      <th>rating</th>\n",
       "      <th>time</th>\n",
       "    </tr>\n",
       "  </thead>\n",
       "  <tbody>\n",
       "    <tr>\n",
       "      <th>0</th>\n",
       "      <td>1</td>\n",
       "      <td>1193</td>\n",
       "      <td>5</td>\n",
       "      <td>978300760</td>\n",
       "    </tr>\n",
       "    <tr>\n",
       "      <th>1</th>\n",
       "      <td>1</td>\n",
       "      <td>661</td>\n",
       "      <td>3</td>\n",
       "      <td>978302109</td>\n",
       "    </tr>\n",
       "    <tr>\n",
       "      <th>2</th>\n",
       "      <td>1</td>\n",
       "      <td>914</td>\n",
       "      <td>3</td>\n",
       "      <td>978301968</td>\n",
       "    </tr>\n",
       "    <tr>\n",
       "      <th>3</th>\n",
       "      <td>1</td>\n",
       "      <td>3408</td>\n",
       "      <td>4</td>\n",
       "      <td>978300275</td>\n",
       "    </tr>\n",
       "    <tr>\n",
       "      <th>4</th>\n",
       "      <td>1</td>\n",
       "      <td>2355</td>\n",
       "      <td>5</td>\n",
       "      <td>978824291</td>\n",
       "    </tr>\n",
       "  </tbody>\n",
       "</table>\n",
       "</div>"
      ],
      "text/plain": [
       "   user_id  movie_id  rating       time\n",
       "0        1      1193       5  978300760\n",
       "1        1       661       3  978302109\n",
       "2        1       914       3  978301968\n",
       "3        1      3408       4  978300275\n",
       "4        1      2355       5  978824291"
      ]
     },
     "execution_count": 5,
     "metadata": {},
     "output_type": "execute_result"
    }
   ],
   "source": [
    "user_data.head()"
   ]
  },
  {
   "cell_type": "code",
   "execution_count": 6,
   "id": "1aaef64d",
   "metadata": {
    "scrolled": false
   },
   "outputs": [
    {
     "data": {
      "text/html": [
       "<div>\n",
       "<style scoped>\n",
       "    .dataframe tbody tr th:only-of-type {\n",
       "        vertical-align: middle;\n",
       "    }\n",
       "\n",
       "    .dataframe tbody tr th {\n",
       "        vertical-align: top;\n",
       "    }\n",
       "\n",
       "    .dataframe thead th {\n",
       "        text-align: right;\n",
       "    }\n",
       "</style>\n",
       "<table border=\"1\" class=\"dataframe\">\n",
       "  <thead>\n",
       "    <tr style=\"text-align: right;\">\n",
       "      <th></th>\n",
       "      <th>movie_id</th>\n",
       "      <th>title</th>\n",
       "      <th>genre</th>\n",
       "    </tr>\n",
       "  </thead>\n",
       "  <tbody>\n",
       "    <tr>\n",
       "      <th>0</th>\n",
       "      <td>1</td>\n",
       "      <td>Toy Story (1995)</td>\n",
       "      <td>Animation|Children's|Comedy</td>\n",
       "    </tr>\n",
       "    <tr>\n",
       "      <th>1</th>\n",
       "      <td>2</td>\n",
       "      <td>Jumanji (1995)</td>\n",
       "      <td>Adventure|Children's|Fantasy</td>\n",
       "    </tr>\n",
       "    <tr>\n",
       "      <th>2</th>\n",
       "      <td>3</td>\n",
       "      <td>Grumpier Old Men (1995)</td>\n",
       "      <td>Comedy|Romance</td>\n",
       "    </tr>\n",
       "    <tr>\n",
       "      <th>3</th>\n",
       "      <td>4</td>\n",
       "      <td>Waiting to Exhale (1995)</td>\n",
       "      <td>Comedy|Drama</td>\n",
       "    </tr>\n",
       "    <tr>\n",
       "      <th>4</th>\n",
       "      <td>5</td>\n",
       "      <td>Father of the Bride Part II (1995)</td>\n",
       "      <td>Comedy</td>\n",
       "    </tr>\n",
       "  </tbody>\n",
       "</table>\n",
       "</div>"
      ],
      "text/plain": [
       "   movie_id                               title                         genre\n",
       "0         1                    Toy Story (1995)   Animation|Children's|Comedy\n",
       "1         2                      Jumanji (1995)  Adventure|Children's|Fantasy\n",
       "2         3             Grumpier Old Men (1995)                Comedy|Romance\n",
       "3         4            Waiting to Exhale (1995)                  Comedy|Drama\n",
       "4         5  Father of the Bride Part II (1995)                        Comedy"
      ]
     },
     "execution_count": 6,
     "metadata": {},
     "output_type": "execute_result"
    }
   ],
   "source": [
    "movie_data.head()"
   ]
  },
  {
   "cell_type": "markdown",
   "id": "d9d09ec7",
   "metadata": {},
   "source": [
    "##### 1. Create m x u matrix with movies as row and users as column. Normalize the matrix."
   ]
  },
  {
   "cell_type": "code",
   "execution_count": 7,
   "id": "0e4b5b9f",
   "metadata": {},
   "outputs": [],
   "source": [
    "#Creating the rating matrix (rows as movies, columns as users)\n",
    "\n",
    "ratings_mat = np.ndarray(shape=(np.max(user_data.movie_id.values), np.max(user_data.user_id.values)),\n",
    "                         dtype=np.uint8)\n",
    "ratings_mat[user_data.movie_id.values-1, user_data.user_id.values-1] = user_data.rating.values"
   ]
  },
  {
   "cell_type": "markdown",
   "id": "e66cfc21",
   "metadata": {},
   "source": [
    "Rating 5 from user_data where mmovie_id = 1193 and user_id = 1, rows and columns are reduced to 1 index as the matrix starts from 0\n"
   ]
  },
  {
   "cell_type": "code",
   "execution_count": 8,
   "id": "de486a95",
   "metadata": {},
   "outputs": [
    {
     "data": {
      "text/plain": [
       "5"
      ]
     },
     "execution_count": 8,
     "metadata": {},
     "output_type": "execute_result"
    }
   ],
   "source": [
    "ratings_mat[1192][0]"
   ]
  },
  {
   "cell_type": "code",
   "execution_count": 9,
   "id": "93eb5ca3",
   "metadata": {},
   "outputs": [],
   "source": [
    "# Normalizing the matrix\n",
    "\n",
    "normalised_mat = ratings_mat - np.asarray([(np.mean(ratings_mat, 1))]).T"
   ]
  },
  {
   "cell_type": "markdown",
   "id": "ca05e77f",
   "metadata": {},
   "source": [
    "##### 2. Compute SVD to get U, S and V. Use np.linalg.svd()"
   ]
  },
  {
   "cell_type": "code",
   "execution_count": 11,
   "id": "9fc3cd35",
   "metadata": {},
   "outputs": [
    {
     "name": "stdout",
     "output_type": "stream",
     "text": [
      "Time taken for computing SVD: 46.38531446456909\n"
     ]
    }
   ],
   "source": [
    "#Computing the Singular Value Decomposition (SVD)\n",
    "\n",
    "start_time = time.time()\n",
    "A = normalised_mat.T / np.sqrt(ratings_mat.shape[0] - 1)\n",
    "U, S, V = np.linalg.svd(A)\n",
    "print(\"Time taken for computing SVD: \" + str(time.time() - start_time))"
   ]
  },
  {
   "cell_type": "markdown",
   "id": "76f13403",
   "metadata": {},
   "source": [
    "##### 4. Implement a function that take movieID as input and then implement cosine similarity along with sorting to recommend top 10 movies."
   ]
  },
  {
   "cell_type": "code",
   "execution_count": 12,
   "id": "c5a7a3cc",
   "metadata": {},
   "outputs": [],
   "source": [
    "#Function to calculate the cosine similarity (sorting by most similar and returning the top N)\n",
    "\n",
    "def top_cosine_similarity(data, movie_id, top_n=10):\n",
    "    index = movie_id - 1 # Movie id starts from 1 in the dataset\n",
    "    movie_row = data[index, :]\n",
    "    magnitude = np.sqrt(np.einsum('ij, ij -> i', data, data))\n",
    "    similarity = np.dot(movie_row, data.T) / (magnitude[index] * magnitude)\n",
    "    sort_indexes = np.argsort(-similarity)\n",
    "    return sort_indexes[:top_n]\n",
    "\n",
    "# Function to print top N similar movies\n",
    "\n",
    "def print_similar_movies(movie_data, movie_id, top_indexes):\n",
    "    print('Recommendations for {0}: \\n'.format(\n",
    "    movie_data[movie_data.movie_id == movie_id].title.values[0]))\n",
    "    for id in top_indexes + 1:\n",
    "        print(movie_data[movie_data.movie_id == id].title.values[0])"
   ]
  },
  {
   "cell_type": "markdown",
   "id": "58453157",
   "metadata": {},
   "source": [
    "##### 3. From your V.T select 50 components."
   ]
  },
  {
   "cell_type": "code",
   "execution_count": 13,
   "id": "51c1ea3b",
   "metadata": {
    "scrolled": false
   },
   "outputs": [
    {
     "name": "stdout",
     "output_type": "stream",
     "text": [
      "Recommendations for Dracula: Dead and Loving It (1995): \n",
      "\n",
      "Dracula: Dead and Loving It (1995)\n",
      "Spy Hard (1996)\n",
      "Mafia! (1998)\n",
      "Wrongfully Accused (1998)\n",
      "Out to Sea (1997)\n",
      "Bean (1997)\n",
      "Beverly Hillbillies, The (1993)\n",
      "Bio-Dome (1996)\n",
      "8 Heads in a Duffel Bag (1997)\n",
      "Repossessed (1990)\n"
     ]
    }
   ],
   "source": [
    "#k-principal components to represent movies, movie_id to find recommendations, top_n print n results\n",
    "       \n",
    "k = 50\n",
    "movie_id = 12 # (getting an id from movies.dat)\n",
    "top_n = 10\n",
    "sliced = V.T[:, :k] # representative data\n",
    "indexes = top_cosine_similarity(sliced, movie_id, top_n)\n",
    "\n",
    "#Printing the top N similar movies\n",
    "print_similar_movies(movie_data, movie_id, indexes)"
   ]
  },
  {
   "cell_type": "markdown",
   "id": "5eeaf06c",
   "metadata": {},
   "source": [
    "##### 5. Repeat the same process except now instead of using SVD you will use PCA to get the eigenvectors."
   ]
  },
  {
   "cell_type": "code",
   "execution_count": 14,
   "id": "486676f4",
   "metadata": {},
   "outputs": [
    {
     "name": "stdout",
     "output_type": "stream",
     "text": [
      "Time taken for computing PCA: 36.07937407493591\n"
     ]
    }
   ],
   "source": [
    "# Computing the Principle compenent analysis (PCA)\n",
    "\n",
    "normalised_mat = ratings_mat - np.matrix(np.mean(ratings_mat, 1)).T\n",
    "\n",
    "start_time = time.time()\n",
    "cov_mat = np.cov(normalised_mat)\n",
    "eigen_values, eigen_vectors = np.linalg.eig(cov_mat)\n",
    "print(\"Time taken for computing PCA: \" + str(time.time() - start_time))"
   ]
  },
  {
   "cell_type": "markdown",
   "id": "a6161391",
   "metadata": {},
   "source": [
    "###### 7. Use that same steps after that to get 50 components. Use cosine similarity to get the results."
   ]
  },
  {
   "cell_type": "code",
   "execution_count": 15,
   "id": "4d08a706",
   "metadata": {},
   "outputs": [
    {
     "name": "stdout",
     "output_type": "stream",
     "text": [
      "Recommendations for Dracula: Dead and Loving It (1995): \n",
      "\n",
      "Dracula: Dead and Loving It (1995)\n",
      "Spy Hard (1996)\n",
      "Mafia! (1998)\n",
      "Wrongfully Accused (1998)\n",
      "Out to Sea (1997)\n",
      "Bean (1997)\n",
      "Beverly Hillbillies, The (1993)\n",
      "Bio-Dome (1996)\n",
      "8 Heads in a Duffel Bag (1997)\n",
      "Repossessed (1990)\n"
     ]
    }
   ],
   "source": [
    "k = 50\n",
    "movie_id = 12 # (getting an id from movies.dat)\n",
    "top_n = 10\n",
    "sliced = eigen_vectors[:, :k] # representative data\n",
    "indexes = top_cosine_similarity(sliced, movie_id, top_n)\n",
    "\n",
    "#Printing the top N similar movies\n",
    "print_similar_movies(movie_data, movie_id, indexes)"
   ]
  },
  {
   "cell_type": "markdown",
   "id": "5bdb5157",
   "metadata": {},
   "source": [
    "##### 8. Compare the results for SVD and PCA."
   ]
  },
  {
   "cell_type": "markdown",
   "id": "2cf3b81a",
   "metadata": {},
   "source": [
    " - We got the same results from both SVD and PCA\n",
    " - The input matrix A in step 2 has shape u×m. The V in SVD is the same as ATA(A Transpose A). \n",
    " - The columns of V are the eigenvectors that correspond to the sorted eigenvalues in the diagonal of S.\n",
    " - By construction, ATA equals the covariance matrix of normalised_mat. \n",
    " - Thus, the columns of V are the principal components of normalised_mat. \n",
    " - But we can conclude that SVD is prefered since it has sigular values sorted but the computation of PCA was faster for this data. So, we have a tradeoff and choose which we prefer the most"
   ]
  }
 ],
 "metadata": {
  "kernelspec": {
   "display_name": "Python 3 (ipykernel)",
   "language": "python",
   "name": "python3"
  },
  "language_info": {
   "codemirror_mode": {
    "name": "ipython",
    "version": 3
   },
   "file_extension": ".py",
   "mimetype": "text/x-python",
   "name": "python",
   "nbconvert_exporter": "python",
   "pygments_lexer": "ipython3",
   "version": "3.8.12"
  }
 },
 "nbformat": 4,
 "nbformat_minor": 5
}
